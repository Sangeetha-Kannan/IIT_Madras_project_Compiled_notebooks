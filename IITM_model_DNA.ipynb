{
 "cells": [
  {
   "cell_type": "code",
   "execution_count": 1,
   "id": "9fb4d917",
   "metadata": {},
   "outputs": [],
   "source": [
    "# importing necessary libraries\n",
    "import os\n",
    "import pandas as pd\n",
    "import numpy as np\n",
    "from pandas import DataFrame\n",
    "import matplotlib.pyplot as plt\n",
    "%matplotlib inline\n",
    "from sklearn import datasets\n",
    "from sklearn.metrics import confusion_matrix\n",
    "from sklearn.model_selection import train_test_split"
   ]
  },
  {
   "cell_type": "code",
   "execution_count": 2,
   "id": "97f8b7b2",
   "metadata": {},
   "outputs": [],
   "source": [
    "#loading dataset\n",
    "df = pd.read_csv(\"Final_nrd_Prop_compn.csv\")"
   ]
  },
  {
   "cell_type": "code",
   "execution_count": 3,
   "id": "873c3d5b",
   "metadata": {},
   "outputs": [
    {
     "data": {
      "text/html": [
       "<div>\n",
       "<style scoped>\n",
       "    .dataframe tbody tr th:only-of-type {\n",
       "        vertical-align: middle;\n",
       "    }\n",
       "\n",
       "    .dataframe tbody tr th {\n",
       "        vertical-align: top;\n",
       "    }\n",
       "\n",
       "    .dataframe thead th {\n",
       "        text-align: right;\n",
       "    }\n",
       "</style>\n",
       "<table border=\"1\" class=\"dataframe\">\n",
       "  <thead>\n",
       "    <tr style=\"text-align: right;\">\n",
       "      <th></th>\n",
       "      <th>Entry</th>\n",
       "      <th>Class</th>\n",
       "      <th>IK0</th>\n",
       "      <th>IHt</th>\n",
       "      <th>IHp</th>\n",
       "      <th>IP</th>\n",
       "      <th>IpHi</th>\n",
       "      <th>IpK'</th>\n",
       "      <th>IMw</th>\n",
       "      <th>IBl</th>\n",
       "      <th>...</th>\n",
       "      <th>M</th>\n",
       "      <th>N</th>\n",
       "      <th>P</th>\n",
       "      <th>Q</th>\n",
       "      <th>R</th>\n",
       "      <th>S</th>\n",
       "      <th>T</th>\n",
       "      <th>V</th>\n",
       "      <th>W</th>\n",
       "      <th>Y</th>\n",
       "    </tr>\n",
       "  </thead>\n",
       "  <tbody>\n",
       "    <tr>\n",
       "      <th>0</th>\n",
       "      <td>Q59288</td>\n",
       "      <td>Carb</td>\n",
       "      <td>0.801014</td>\n",
       "      <td>0.523114</td>\n",
       "      <td>0.542629</td>\n",
       "      <td>0.467243</td>\n",
       "      <td>0.723957</td>\n",
       "      <td>1.299343</td>\n",
       "      <td>0.682029</td>\n",
       "      <td>1.020857</td>\n",
       "      <td>...</td>\n",
       "      <td>0.018571</td>\n",
       "      <td>0.051429</td>\n",
       "      <td>0.041429</td>\n",
       "      <td>0.045714</td>\n",
       "      <td>0.038571</td>\n",
       "      <td>0.055714</td>\n",
       "      <td>0.054286</td>\n",
       "      <td>0.052857</td>\n",
       "      <td>0.022857</td>\n",
       "      <td>0.055714</td>\n",
       "    </tr>\n",
       "    <tr>\n",
       "      <th>1</th>\n",
       "      <td>Q9I6P8</td>\n",
       "      <td>Carb</td>\n",
       "      <td>1.331853</td>\n",
       "      <td>0.869786</td>\n",
       "      <td>0.902233</td>\n",
       "      <td>0.776888</td>\n",
       "      <td>1.203729</td>\n",
       "      <td>2.160428</td>\n",
       "      <td>1.134014</td>\n",
       "      <td>1.697387</td>\n",
       "      <td>...</td>\n",
       "      <td>0.008571</td>\n",
       "      <td>0.025714</td>\n",
       "      <td>0.018571</td>\n",
       "      <td>0.025714</td>\n",
       "      <td>0.050000</td>\n",
       "      <td>0.051429</td>\n",
       "      <td>0.024286</td>\n",
       "      <td>0.024286</td>\n",
       "      <td>0.012857</td>\n",
       "      <td>0.018571</td>\n",
       "    </tr>\n",
       "    <tr>\n",
       "      <th>2</th>\n",
       "      <td>Q9IH62</td>\n",
       "      <td>Carb</td>\n",
       "      <td>0.931412</td>\n",
       "      <td>0.608272</td>\n",
       "      <td>0.630963</td>\n",
       "      <td>0.543306</td>\n",
       "      <td>0.841811</td>\n",
       "      <td>1.510864</td>\n",
       "      <td>0.793056</td>\n",
       "      <td>1.187043</td>\n",
       "      <td>...</td>\n",
       "      <td>0.015714</td>\n",
       "      <td>0.064286</td>\n",
       "      <td>0.051429</td>\n",
       "      <td>0.035714</td>\n",
       "      <td>0.031429</td>\n",
       "      <td>0.072857</td>\n",
       "      <td>0.052857</td>\n",
       "      <td>0.058571</td>\n",
       "      <td>0.010000</td>\n",
       "      <td>0.035714</td>\n",
       "    </tr>\n",
       "    <tr>\n",
       "      <th>3</th>\n",
       "      <td>P52799</td>\n",
       "      <td>Carb</td>\n",
       "      <td>1.683814</td>\n",
       "      <td>1.099640</td>\n",
       "      <td>1.140661</td>\n",
       "      <td>0.982192</td>\n",
       "      <td>1.521832</td>\n",
       "      <td>2.731351</td>\n",
       "      <td>1.433694</td>\n",
       "      <td>2.145946</td>\n",
       "      <td>...</td>\n",
       "      <td>0.008571</td>\n",
       "      <td>0.025714</td>\n",
       "      <td>0.030000</td>\n",
       "      <td>0.018571</td>\n",
       "      <td>0.021429</td>\n",
       "      <td>0.045714</td>\n",
       "      <td>0.028571</td>\n",
       "      <td>0.031429</td>\n",
       "      <td>0.005714</td>\n",
       "      <td>0.021429</td>\n",
       "    </tr>\n",
       "    <tr>\n",
       "      <th>4</th>\n",
       "      <td>P49354</td>\n",
       "      <td>Carb</td>\n",
       "      <td>1.479446</td>\n",
       "      <td>0.966174</td>\n",
       "      <td>1.002216</td>\n",
       "      <td>0.862982</td>\n",
       "      <td>1.337124</td>\n",
       "      <td>2.399842</td>\n",
       "      <td>1.259683</td>\n",
       "      <td>1.885488</td>\n",
       "      <td>...</td>\n",
       "      <td>0.008571</td>\n",
       "      <td>0.032857</td>\n",
       "      <td>0.032857</td>\n",
       "      <td>0.041429</td>\n",
       "      <td>0.031429</td>\n",
       "      <td>0.027143</td>\n",
       "      <td>0.014286</td>\n",
       "      <td>0.034286</td>\n",
       "      <td>0.014286</td>\n",
       "      <td>0.027143</td>\n",
       "    </tr>\n",
       "  </tbody>\n",
       "</table>\n",
       "<p>5 rows × 152 columns</p>\n",
       "</div>"
      ],
      "text/plain": [
       "    Entry Class       IK0       IHt       IHp        IP      IpHi      IpK'  \\\n",
       "0  Q59288  Carb  0.801014  0.523114  0.542629  0.467243  0.723957  1.299343   \n",
       "1  Q9I6P8  Carb  1.331853  0.869786  0.902233  0.776888  1.203729  2.160428   \n",
       "2  Q9IH62  Carb  0.931412  0.608272  0.630963  0.543306  0.841811  1.510864   \n",
       "3  P52799  Carb  1.683814  1.099640  1.140661  0.982192  1.521832  2.731351   \n",
       "4  P49354  Carb  1.479446  0.966174  1.002216  0.862982  1.337124  2.399842   \n",
       "\n",
       "        IMw       IBl  ...         M         N         P         Q         R  \\\n",
       "0  0.682029  1.020857  ...  0.018571  0.051429  0.041429  0.045714  0.038571   \n",
       "1  1.134014  1.697387  ...  0.008571  0.025714  0.018571  0.025714  0.050000   \n",
       "2  0.793056  1.187043  ...  0.015714  0.064286  0.051429  0.035714  0.031429   \n",
       "3  1.433694  2.145946  ...  0.008571  0.025714  0.030000  0.018571  0.021429   \n",
       "4  1.259683  1.885488  ...  0.008571  0.032857  0.032857  0.041429  0.031429   \n",
       "\n",
       "          S         T         V         W         Y  \n",
       "0  0.055714  0.054286  0.052857  0.022857  0.055714  \n",
       "1  0.051429  0.024286  0.024286  0.012857  0.018571  \n",
       "2  0.072857  0.052857  0.058571  0.010000  0.035714  \n",
       "3  0.045714  0.028571  0.031429  0.005714  0.021429  \n",
       "4  0.027143  0.014286  0.034286  0.014286  0.027143  \n",
       "\n",
       "[5 rows x 152 columns]"
      ]
     },
     "execution_count": 3,
     "metadata": {},
     "output_type": "execute_result"
    }
   ],
   "source": [
    "df.head()"
   ]
  },
  {
   "cell_type": "code",
   "execution_count": 4,
   "id": "83512bda",
   "metadata": {},
   "outputs": [
    {
     "data": {
      "text/plain": [
       "(2747, 152)"
      ]
     },
     "execution_count": 4,
     "metadata": {},
     "output_type": "execute_result"
    }
   ],
   "source": [
    "df.shape"
   ]
  },
  {
   "cell_type": "code",
   "execution_count": 5,
   "id": "2c3ec3d2",
   "metadata": {},
   "outputs": [
    {
     "data": {
      "text/plain": [
       "Carb      1111\n",
       "CGC        693\n",
       "Hetero     500\n",
       "DNA        280\n",
       "RNA        163\n",
       "Name: Class, dtype: int64"
      ]
     },
     "execution_count": 5,
     "metadata": {},
     "output_type": "execute_result"
    }
   ],
   "source": [
    "df.Class.value_counts()"
   ]
  },
  {
   "cell_type": "code",
   "execution_count": 6,
   "id": "566140c6",
   "metadata": {},
   "outputs": [],
   "source": [
    "DNA_df = df[(df['Class'] == 'DNA') | (df['Class'] == 'CGC')]"
   ]
  },
  {
   "cell_type": "code",
   "execution_count": 7,
   "id": "e181e346",
   "metadata": {},
   "outputs": [],
   "source": [
    "#Carb_df"
   ]
  },
  {
   "cell_type": "code",
   "execution_count": 8,
   "id": "b62ab5f1",
   "metadata": {},
   "outputs": [
    {
     "name": "stderr",
     "output_type": "stream",
     "text": [
      "C:\\Users\\Senthil\\AppData\\Local\\Temp/ipykernel_5932/4221699788.py:1: SettingWithCopyWarning: \n",
      "A value is trying to be set on a copy of a slice from a DataFrame.\n",
      "Try using .loc[row_indexer,col_indexer] = value instead\n",
      "\n",
      "See the caveats in the documentation: https://pandas.pydata.org/pandas-docs/stable/user_guide/indexing.html#returning-a-view-versus-a-copy\n",
      "  DNA_df[\"target\"] = np.where(DNA_df[\"Class\"].str.contains(\"CGC\"), 1, 0)\n"
     ]
    }
   ],
   "source": [
    "DNA_df[\"target\"] = np.where(DNA_df[\"Class\"].str.contains(\"CGC\"), 1, 0)"
   ]
  },
  {
   "cell_type": "code",
   "execution_count": 9,
   "id": "863435fb",
   "metadata": {},
   "outputs": [
    {
     "data": {
      "text/html": [
       "<div>\n",
       "<style scoped>\n",
       "    .dataframe tbody tr th:only-of-type {\n",
       "        vertical-align: middle;\n",
       "    }\n",
       "\n",
       "    .dataframe tbody tr th {\n",
       "        vertical-align: top;\n",
       "    }\n",
       "\n",
       "    .dataframe thead th {\n",
       "        text-align: right;\n",
       "    }\n",
       "</style>\n",
       "<table border=\"1\" class=\"dataframe\">\n",
       "  <thead>\n",
       "    <tr style=\"text-align: right;\">\n",
       "      <th></th>\n",
       "      <th>Entry</th>\n",
       "      <th>Class</th>\n",
       "      <th>IK0</th>\n",
       "      <th>IHt</th>\n",
       "      <th>IHp</th>\n",
       "      <th>IP</th>\n",
       "      <th>IpHi</th>\n",
       "      <th>IpK'</th>\n",
       "      <th>IMw</th>\n",
       "      <th>IBl</th>\n",
       "      <th>...</th>\n",
       "      <th>N</th>\n",
       "      <th>P</th>\n",
       "      <th>Q</th>\n",
       "      <th>R</th>\n",
       "      <th>S</th>\n",
       "      <th>T</th>\n",
       "      <th>V</th>\n",
       "      <th>W</th>\n",
       "      <th>Y</th>\n",
       "      <th>target</th>\n",
       "    </tr>\n",
       "  </thead>\n",
       "  <tbody>\n",
       "    <tr>\n",
       "      <th>1111</th>\n",
       "      <td>Q9NQ94</td>\n",
       "      <td>CGC</td>\n",
       "      <td>0.943956</td>\n",
       "      <td>0.616465</td>\n",
       "      <td>0.639461</td>\n",
       "      <td>0.550623</td>\n",
       "      <td>0.853148</td>\n",
       "      <td>1.531212</td>\n",
       "      <td>0.803737</td>\n",
       "      <td>1.203030</td>\n",
       "      <td>...</td>\n",
       "      <td>0.034286</td>\n",
       "      <td>0.052857</td>\n",
       "      <td>0.032857</td>\n",
       "      <td>0.045714</td>\n",
       "      <td>0.034286</td>\n",
       "      <td>0.052857</td>\n",
       "      <td>0.058571</td>\n",
       "      <td>0.005714</td>\n",
       "      <td>0.044286</td>\n",
       "      <td>1</td>\n",
       "    </tr>\n",
       "    <tr>\n",
       "      <th>1112</th>\n",
       "      <td>P00519</td>\n",
       "      <td>CGC</td>\n",
       "      <td>0.496204</td>\n",
       "      <td>0.324053</td>\n",
       "      <td>0.336142</td>\n",
       "      <td>0.289442</td>\n",
       "      <td>0.448469</td>\n",
       "      <td>0.804903</td>\n",
       "      <td>0.422496</td>\n",
       "      <td>0.632389</td>\n",
       "      <td>...</td>\n",
       "      <td>0.057143</td>\n",
       "      <td>0.128571</td>\n",
       "      <td>0.047143</td>\n",
       "      <td>0.091429</td>\n",
       "      <td>0.171429</td>\n",
       "      <td>0.092857</td>\n",
       "      <td>0.088571</td>\n",
       "      <td>0.018571</td>\n",
       "      <td>0.042857</td>\n",
       "      <td>1</td>\n",
       "    </tr>\n",
       "    <tr>\n",
       "      <th>1113</th>\n",
       "      <td>P42684</td>\n",
       "      <td>CGC</td>\n",
       "      <td>0.474374</td>\n",
       "      <td>0.309797</td>\n",
       "      <td>0.321354</td>\n",
       "      <td>0.276709</td>\n",
       "      <td>0.428739</td>\n",
       "      <td>0.769492</td>\n",
       "      <td>0.403909</td>\n",
       "      <td>0.604569</td>\n",
       "      <td>...</td>\n",
       "      <td>0.060000</td>\n",
       "      <td>0.132857</td>\n",
       "      <td>0.064286</td>\n",
       "      <td>0.087143</td>\n",
       "      <td>0.160000</td>\n",
       "      <td>0.105714</td>\n",
       "      <td>0.105714</td>\n",
       "      <td>0.018571</td>\n",
       "      <td>0.047143</td>\n",
       "      <td>1</td>\n",
       "    </tr>\n",
       "    <tr>\n",
       "      <th>1114</th>\n",
       "      <td>P25106</td>\n",
       "      <td>CGC</td>\n",
       "      <td>1.548923</td>\n",
       "      <td>1.011547</td>\n",
       "      <td>1.049282</td>\n",
       "      <td>0.903508</td>\n",
       "      <td>1.399917</td>\n",
       "      <td>2.512541</td>\n",
       "      <td>1.318840</td>\n",
       "      <td>1.974033</td>\n",
       "      <td>...</td>\n",
       "      <td>0.021429</td>\n",
       "      <td>0.018571</td>\n",
       "      <td>0.008571</td>\n",
       "      <td>0.015714</td>\n",
       "      <td>0.051429</td>\n",
       "      <td>0.032857</td>\n",
       "      <td>0.055714</td>\n",
       "      <td>0.011429</td>\n",
       "      <td>0.028571</td>\n",
       "      <td>1</td>\n",
       "    </tr>\n",
       "    <tr>\n",
       "      <th>1115</th>\n",
       "      <td>O95573</td>\n",
       "      <td>CGC</td>\n",
       "      <td>0.778764</td>\n",
       "      <td>0.508583</td>\n",
       "      <td>0.527556</td>\n",
       "      <td>0.454264</td>\n",
       "      <td>0.703847</td>\n",
       "      <td>1.263250</td>\n",
       "      <td>0.663083</td>\n",
       "      <td>0.992500</td>\n",
       "      <td>...</td>\n",
       "      <td>0.052857</td>\n",
       "      <td>0.050000</td>\n",
       "      <td>0.028571</td>\n",
       "      <td>0.038571</td>\n",
       "      <td>0.070000</td>\n",
       "      <td>0.057143</td>\n",
       "      <td>0.062857</td>\n",
       "      <td>0.011429</td>\n",
       "      <td>0.041429</td>\n",
       "      <td>1</td>\n",
       "    </tr>\n",
       "  </tbody>\n",
       "</table>\n",
       "<p>5 rows × 153 columns</p>\n",
       "</div>"
      ],
      "text/plain": [
       "       Entry Class       IK0       IHt       IHp        IP      IpHi  \\\n",
       "1111  Q9NQ94   CGC  0.943956  0.616465  0.639461  0.550623  0.853148   \n",
       "1112  P00519   CGC  0.496204  0.324053  0.336142  0.289442  0.448469   \n",
       "1113  P42684   CGC  0.474374  0.309797  0.321354  0.276709  0.428739   \n",
       "1114  P25106   CGC  1.548923  1.011547  1.049282  0.903508  1.399917   \n",
       "1115  O95573   CGC  0.778764  0.508583  0.527556  0.454264  0.703847   \n",
       "\n",
       "          IpK'       IMw       IBl  ...         N         P         Q  \\\n",
       "1111  1.531212  0.803737  1.203030  ...  0.034286  0.052857  0.032857   \n",
       "1112  0.804903  0.422496  0.632389  ...  0.057143  0.128571  0.047143   \n",
       "1113  0.769492  0.403909  0.604569  ...  0.060000  0.132857  0.064286   \n",
       "1114  2.512541  1.318840  1.974033  ...  0.021429  0.018571  0.008571   \n",
       "1115  1.263250  0.663083  0.992500  ...  0.052857  0.050000  0.028571   \n",
       "\n",
       "             R         S         T         V         W         Y  target  \n",
       "1111  0.045714  0.034286  0.052857  0.058571  0.005714  0.044286       1  \n",
       "1112  0.091429  0.171429  0.092857  0.088571  0.018571  0.042857       1  \n",
       "1113  0.087143  0.160000  0.105714  0.105714  0.018571  0.047143       1  \n",
       "1114  0.015714  0.051429  0.032857  0.055714  0.011429  0.028571       1  \n",
       "1115  0.038571  0.070000  0.057143  0.062857  0.011429  0.041429       1  \n",
       "\n",
       "[5 rows x 153 columns]"
      ]
     },
     "execution_count": 9,
     "metadata": {},
     "output_type": "execute_result"
    }
   ],
   "source": [
    "DNA_df.head()"
   ]
  },
  {
   "cell_type": "code",
   "execution_count": 10,
   "id": "4566fa5e",
   "metadata": {},
   "outputs": [],
   "source": [
    "# X -> features, y -> label\n",
    "y=DNA_df['target']\n",
    "X=DNA_df.drop(['Class','Entry','target'],axis=1)"
   ]
  },
  {
   "cell_type": "code",
   "execution_count": 55,
   "id": "9c485dc3",
   "metadata": {},
   "outputs": [
    {
     "data": {
      "text/plain": [
       "0.7122302158273381"
      ]
     },
     "execution_count": 55,
     "metadata": {},
     "output_type": "execute_result"
    }
   ],
   "source": [
    "y.sum()/len(DNA_df)"
   ]
  },
  {
   "cell_type": "code",
   "execution_count": 11,
   "id": "bf203207",
   "metadata": {},
   "outputs": [
    {
     "name": "stdout",
     "output_type": "stream",
     "text": [
      "X : (973, 150)\n"
     ]
    }
   ],
   "source": [
    "print(f'X : {X.shape}')"
   ]
  },
  {
   "cell_type": "code",
   "execution_count": 12,
   "id": "b6bc3527",
   "metadata": {},
   "outputs": [],
   "source": [
    "# dividing X, y into train and test data\n",
    "X_train, X_test, y_train, y_test = train_test_split(X, y, train_size=0.80, test_size=0.20, random_state = 230,stratify = y)"
   ]
  },
  {
   "cell_type": "code",
   "execution_count": 13,
   "id": "c2bc5f93",
   "metadata": {},
   "outputs": [
    {
     "name": "stdout",
     "output_type": "stream",
     "text": [
      "X_train: (778, 150)\n",
      "y_train: (778,)\n",
      "X_test: (195, 150)\n",
      "y_test: (195,)\n"
     ]
    }
   ],
   "source": [
    "print(f'X_train: {X_train.shape}')\n",
    "print(f'y_train: {y_train.shape}')\n",
    "print(f'X_test: {X_test.shape}')\n",
    "print(f'y_test: {y_test.shape}')     "
   ]
  },
  {
   "cell_type": "markdown",
   "id": "8d4bba59",
   "metadata": {},
   "source": [
    "# Random Forest"
   ]
  },
  {
   "cell_type": "code",
   "execution_count": 14,
   "id": "9fc42c66",
   "metadata": {},
   "outputs": [],
   "source": [
    "from sklearn.ensemble import RandomForestClassifier"
   ]
  },
  {
   "cell_type": "code",
   "execution_count": 15,
   "id": "2ff49896",
   "metadata": {},
   "outputs": [],
   "source": [
    "#clf=RandomForestClassifier(n_estimators=80,oob_score=True,n_jobs=-1,random_state=400,class_weight='balanced')"
   ]
  },
  {
   "cell_type": "code",
   "execution_count": 16,
   "id": "336e2df0",
   "metadata": {},
   "outputs": [],
   "source": [
    "#clf.fit(X_train,y_train)"
   ]
  },
  {
   "cell_type": "code",
   "execution_count": 17,
   "id": "b099b01f",
   "metadata": {},
   "outputs": [],
   "source": [
    "#clf.oob_score_"
   ]
  },
  {
   "cell_type": "code",
   "execution_count": 18,
   "id": "d0089244",
   "metadata": {},
   "outputs": [],
   "source": [
    "n_estimators = [int(x) for x in np.linspace(start = 10, stop = 300, num = 20)]\n",
    "max_features = ['auto', 'sqrt']\n",
    "max_depth = [2,4]\n",
    "min_samples_split = [2, 5]\n",
    "min_samples_leaf = [1, 2]\n",
    "bootstrap = [True, False]"
   ]
  },
  {
   "cell_type": "code",
   "execution_count": 19,
   "id": "1d7e9968",
   "metadata": {},
   "outputs": [
    {
     "name": "stdout",
     "output_type": "stream",
     "text": [
      "{'n_estimators': [10, 25, 40, 55, 71, 86, 101, 116, 132, 147, 162, 177, 193, 208, 223, 238, 254, 269, 284, 300], 'max_features': ['auto', 'sqrt'], 'max_depth': [2, 4], 'min_samples_split': [2, 5], 'min_samples_leaf': [1, 2], 'bootstrap': [True, False]}\n"
     ]
    }
   ],
   "source": [
    "param_grid = {'n_estimators': n_estimators,\n",
    "               'max_features': max_features,\n",
    "               'max_depth': max_depth,\n",
    "               'min_samples_split': min_samples_split,\n",
    "               'min_samples_leaf': min_samples_leaf,\n",
    "               'bootstrap': bootstrap}\n",
    "print(param_grid)"
   ]
  },
  {
   "cell_type": "code",
   "execution_count": 57,
   "id": "28f24447",
   "metadata": {},
   "outputs": [],
   "source": [
    "rf = RandomForestClassifier(random_state=42, class_weight = 'balanced')"
   ]
  },
  {
   "cell_type": "code",
   "execution_count": 58,
   "id": "ad7d88f2",
   "metadata": {},
   "outputs": [],
   "source": [
    "from sklearn.model_selection import GridSearchCV\n",
    "rf_Grid = GridSearchCV(estimator = rf, param_grid = param_grid, cv = 3, verbose=2, n_jobs = 4)"
   ]
  },
  {
   "cell_type": "code",
   "execution_count": 59,
   "id": "6c98fa4e",
   "metadata": {},
   "outputs": [
    {
     "name": "stdout",
     "output_type": "stream",
     "text": [
      "Fitting 3 folds for each of 640 candidates, totalling 1920 fits\n"
     ]
    },
    {
     "data": {
      "text/plain": [
       "GridSearchCV(cv=3,\n",
       "             estimator=RandomForestClassifier(class_weight='balanced',\n",
       "                                              random_state=42),\n",
       "             n_jobs=4,\n",
       "             param_grid={'bootstrap': [True, False], 'max_depth': [2, 4],\n",
       "                         'max_features': ['auto', 'sqrt'],\n",
       "                         'min_samples_leaf': [1, 2],\n",
       "                         'min_samples_split': [2, 5],\n",
       "                         'n_estimators': [10, 25, 40, 55, 71, 86, 101, 116, 132,\n",
       "                                          147, 162, 177, 193, 208, 223, 238,\n",
       "                                          254, 269, 284, 300]},\n",
       "             verbose=2)"
      ]
     },
     "execution_count": 59,
     "metadata": {},
     "output_type": "execute_result"
    }
   ],
   "source": [
    "rf_Grid.fit(X_train, y_train)"
   ]
  },
  {
   "cell_type": "code",
   "execution_count": 62,
   "id": "89c5a175",
   "metadata": {},
   "outputs": [
    {
     "data": {
      "text/plain": [
       "{'bootstrap': False,\n",
       " 'max_depth': 4,\n",
       " 'max_features': 'auto',\n",
       " 'min_samples_leaf': 1,\n",
       " 'min_samples_split': 5,\n",
       " 'n_estimators': 10}"
      ]
     },
     "execution_count": 62,
     "metadata": {},
     "output_type": "execute_result"
    }
   ],
   "source": [
    "best_rf_params = rf_Grid.best_params_\n",
    "best_rf_params"
   ]
  },
  {
   "cell_type": "code",
   "execution_count": 63,
   "id": "daeb0839",
   "metadata": {},
   "outputs": [],
   "source": [
    "rf_Model = rf_Grid.best_estimator_"
   ]
  },
  {
   "cell_type": "code",
   "execution_count": 64,
   "id": "612e75c6",
   "metadata": {},
   "outputs": [
    {
     "data": {
      "text/plain": [
       "RandomForestClassifier(bootstrap=False, class_weight='balanced', max_depth=4,\n",
       "                       min_samples_split=5, n_estimators=10, random_state=42)"
      ]
     },
     "execution_count": 64,
     "metadata": {},
     "output_type": "execute_result"
    }
   ],
   "source": [
    "rf_Model.fit(X_train,y_train)"
   ]
  },
  {
   "cell_type": "code",
   "execution_count": 65,
   "id": "cd4bf685",
   "metadata": {},
   "outputs": [
    {
     "data": {
      "text/plain": [
       "array([0.        , 0.        , 0.04406074, 0.        , 0.        ,\n",
       "       0.        , 0.        , 0.        , 0.        , 0.00320005,\n",
       "       0.        , 0.        , 0.01514582, 0.00356249, 0.        ,\n",
       "       0.        , 0.        , 0.        , 0.        , 0.        ,\n",
       "       0.        , 0.        , 0.        , 0.        , 0.00335335,\n",
       "       0.        , 0.05015389, 0.        , 0.04249337, 0.        ,\n",
       "       0.0475449 , 0.        , 0.00094566, 0.00302417, 0.        ,\n",
       "       0.        , 0.        , 0.        , 0.00330534, 0.        ,\n",
       "       0.        , 0.        , 0.        , 0.        , 0.01535207,\n",
       "       0.00094028, 0.        , 0.00336743, 0.        , 0.        ,\n",
       "       0.05075965, 0.00170515, 0.        , 0.        , 0.01569032,\n",
       "       0.00225683, 0.00118343, 0.        , 0.        , 0.01553658,\n",
       "       0.0026801 , 0.01604775, 0.        , 0.        , 0.00149805,\n",
       "       0.        , 0.00782967, 0.00155331, 0.        , 0.01422705,\n",
       "       0.        , 0.04758359, 0.00420501, 0.        , 0.        ,\n",
       "       0.00300115, 0.        , 0.0165559 , 0.00617665, 0.00230851,\n",
       "       0.        , 0.04999797, 0.00064389, 0.        , 0.        ,\n",
       "       0.        , 0.        , 0.04867533, 0.00333587, 0.        ,\n",
       "       0.        , 0.        , 0.        , 0.        , 0.        ,\n",
       "       0.        , 0.        , 0.        , 0.00220185, 0.        ,\n",
       "       0.00229979, 0.        , 0.00357609, 0.01294856, 0.00150562,\n",
       "       0.        , 0.        , 0.        , 0.        , 0.00343787,\n",
       "       0.        , 0.01372095, 0.01536456, 0.        , 0.        ,\n",
       "       0.        , 0.01657302, 0.00554994, 0.00474089, 0.        ,\n",
       "       0.00102758, 0.01993783, 0.00344067, 0.        , 0.00135298,\n",
       "       0.        , 0.        , 0.        , 0.        , 0.        ,\n",
       "       0.00533074, 0.00654411, 0.12426375, 0.02916932, 0.0182791 ,\n",
       "       0.01327962, 0.02181474, 0.01894735, 0.01111051, 0.00332383,\n",
       "       0.        , 0.00631946, 0.01716056, 0.00185707, 0.01601369,\n",
       "       0.00951642, 0.01636311, 0.01016677, 0.00361551, 0.00934483])"
      ]
     },
     "execution_count": 65,
     "metadata": {},
     "output_type": "execute_result"
    }
   ],
   "source": [
    "rf_Model.feature_importances_"
   ]
  },
  {
   "cell_type": "code",
   "execution_count": 66,
   "id": "0c93c19d",
   "metadata": {},
   "outputs": [],
   "source": [
    "imp_feat=pd.DataFrame({'Feature_Name' : X.columns.tolist(), 'Feature_Importance' : rf_Model.feature_importances_})"
   ]
  },
  {
   "cell_type": "code",
   "execution_count": 67,
   "id": "40b6de9a",
   "metadata": {},
   "outputs": [],
   "source": [
    "imp_feat.sort_values(by = 'Feature_Importance', ascending=False, inplace = True)"
   ]
  },
  {
   "cell_type": "code",
   "execution_count": 68,
   "id": "1c117179",
   "metadata": {},
   "outputs": [
    {
     "data": {
      "text/html": [
       "<div>\n",
       "<style scoped>\n",
       "    .dataframe tbody tr th:only-of-type {\n",
       "        vertical-align: middle;\n",
       "    }\n",
       "\n",
       "    .dataframe tbody tr th {\n",
       "        vertical-align: top;\n",
       "    }\n",
       "\n",
       "    .dataframe thead th {\n",
       "        text-align: right;\n",
       "    }\n",
       "</style>\n",
       "<table border=\"1\" class=\"dataframe\">\n",
       "  <thead>\n",
       "    <tr style=\"text-align: right;\">\n",
       "      <th></th>\n",
       "      <th>Feature_Name</th>\n",
       "      <th>Feature_Importance</th>\n",
       "    </tr>\n",
       "  </thead>\n",
       "  <tbody>\n",
       "    <tr>\n",
       "      <th>132</th>\n",
       "      <td>C</td>\n",
       "      <td>0.124264</td>\n",
       "    </tr>\n",
       "    <tr>\n",
       "      <th>50</th>\n",
       "      <td>IGEIM800108</td>\n",
       "      <td>0.050760</td>\n",
       "    </tr>\n",
       "    <tr>\n",
       "      <th>26</th>\n",
       "      <td>IV0</td>\n",
       "      <td>0.050154</td>\n",
       "    </tr>\n",
       "    <tr>\n",
       "      <th>81</th>\n",
       "      <td>IOOBM850105</td>\n",
       "      <td>0.049998</td>\n",
       "    </tr>\n",
       "    <tr>\n",
       "      <th>87</th>\n",
       "      <td>IRACS770102</td>\n",
       "      <td>0.048675</td>\n",
       "    </tr>\n",
       "    <tr>\n",
       "      <th>71</th>\n",
       "      <td>IMAXF760106</td>\n",
       "      <td>0.047584</td>\n",
       "    </tr>\n",
       "    <tr>\n",
       "      <th>30</th>\n",
       "      <td>IASAD</td>\n",
       "      <td>0.047545</td>\n",
       "    </tr>\n",
       "    <tr>\n",
       "      <th>2</th>\n",
       "      <td>IHp</td>\n",
       "      <td>0.044061</td>\n",
       "    </tr>\n",
       "    <tr>\n",
       "      <th>28</th>\n",
       "      <td>INl</td>\n",
       "      <td>0.042493</td>\n",
       "    </tr>\n",
       "    <tr>\n",
       "      <th>133</th>\n",
       "      <td>E</td>\n",
       "      <td>0.029169</td>\n",
       "    </tr>\n",
       "    <tr>\n",
       "      <th>136</th>\n",
       "      <td>H</td>\n",
       "      <td>0.021815</td>\n",
       "    </tr>\n",
       "    <tr>\n",
       "      <th>121</th>\n",
       "      <td>IFASG890101</td>\n",
       "      <td>0.019938</td>\n",
       "    </tr>\n",
       "    <tr>\n",
       "      <th>137</th>\n",
       "      <td>I</td>\n",
       "      <td>0.018947</td>\n",
       "    </tr>\n",
       "    <tr>\n",
       "      <th>134</th>\n",
       "      <td>F</td>\n",
       "      <td>0.018279</td>\n",
       "    </tr>\n",
       "    <tr>\n",
       "      <th>142</th>\n",
       "      <td>P</td>\n",
       "      <td>0.017161</td>\n",
       "    </tr>\n",
       "    <tr>\n",
       "      <th>116</th>\n",
       "      <td>ICORJ870102</td>\n",
       "      <td>0.016573</td>\n",
       "    </tr>\n",
       "    <tr>\n",
       "      <th>77</th>\n",
       "      <td>INISK860101</td>\n",
       "      <td>0.016556</td>\n",
       "    </tr>\n",
       "    <tr>\n",
       "      <th>146</th>\n",
       "      <td>T</td>\n",
       "      <td>0.016363</td>\n",
       "    </tr>\n",
       "    <tr>\n",
       "      <th>61</th>\n",
       "      <td>IKANM800103</td>\n",
       "      <td>0.016048</td>\n",
       "    </tr>\n",
       "    <tr>\n",
       "      <th>144</th>\n",
       "      <td>R</td>\n",
       "      <td>0.016014</td>\n",
       "    </tr>\n",
       "    <tr>\n",
       "      <th>54</th>\n",
       "      <td>IHOPA770101</td>\n",
       "      <td>0.015690</td>\n",
       "    </tr>\n",
       "  </tbody>\n",
       "</table>\n",
       "</div>"
      ],
      "text/plain": [
       "    Feature_Name  Feature_Importance\n",
       "132            C            0.124264\n",
       "50   IGEIM800108            0.050760\n",
       "26           IV0            0.050154\n",
       "81   IOOBM850105            0.049998\n",
       "87   IRACS770102            0.048675\n",
       "71   IMAXF760106            0.047584\n",
       "30         IASAD            0.047545\n",
       "2            IHp            0.044061\n",
       "28           INl            0.042493\n",
       "133            E            0.029169\n",
       "136            H            0.021815\n",
       "121  IFASG890101            0.019938\n",
       "137            I            0.018947\n",
       "134            F            0.018279\n",
       "142            P            0.017161\n",
       "116  ICORJ870102            0.016573\n",
       "77   INISK860101            0.016556\n",
       "146            T            0.016363\n",
       "61   IKANM800103            0.016048\n",
       "144            R            0.016014\n",
       "54   IHOPA770101            0.015690"
      ]
     },
     "execution_count": 68,
     "metadata": {},
     "output_type": "execute_result"
    }
   ],
   "source": [
    "imp_feat.head(21)"
   ]
  },
  {
   "cell_type": "code",
   "execution_count": 69,
   "id": "8c5092a6",
   "metadata": {},
   "outputs": [],
   "source": [
    "imp_feat.to_csv('DNA_Feature_importance.csv', index = False)"
   ]
  },
  {
   "cell_type": "code",
   "execution_count": 70,
   "id": "e00243d4",
   "metadata": {},
   "outputs": [],
   "source": [
    "y_train_prediction = rf_Model.predict(X_train)\n",
    "y_test_prediction = rf_Model.predict(X_test)"
   ]
  },
  {
   "cell_type": "code",
   "execution_count": 71,
   "id": "46d01936",
   "metadata": {},
   "outputs": [
    {
     "name": "stdout",
     "output_type": "stream",
     "text": [
      "---------Train\n",
      "              precision    recall  f1-score   support\n",
      "\n",
      "           0       0.59      0.70      0.64       224\n",
      "           1       0.87      0.81      0.84       554\n",
      "\n",
      "    accuracy                           0.77       778\n",
      "   macro avg       0.73      0.75      0.74       778\n",
      "weighted avg       0.79      0.77      0.78       778\n",
      "\n",
      "---------Test\n",
      "              precision    recall  f1-score   support\n",
      "\n",
      "           0       0.42      0.48      0.45        56\n",
      "           1       0.78      0.73      0.76       139\n",
      "\n",
      "    accuracy                           0.66       195\n",
      "   macro avg       0.60      0.61      0.60       195\n",
      "weighted avg       0.68      0.66      0.67       195\n",
      "\n"
     ]
    }
   ],
   "source": [
    "from sklearn.metrics import classification_report\n",
    "print ('---------Train')\n",
    "print(classification_report(y_train,y_train_prediction))\n",
    "print ('---------Test')\n",
    "print(classification_report(y_test,y_test_prediction))"
   ]
  },
  {
   "cell_type": "code",
   "execution_count": 72,
   "id": "135ba981",
   "metadata": {},
   "outputs": [
    {
     "data": {
      "text/html": [
       "<div>\n",
       "<style scoped>\n",
       "    .dataframe tbody tr th:only-of-type {\n",
       "        vertical-align: middle;\n",
       "    }\n",
       "\n",
       "    .dataframe tbody tr th {\n",
       "        vertical-align: top;\n",
       "    }\n",
       "\n",
       "    .dataframe thead th {\n",
       "        text-align: right;\n",
       "    }\n",
       "</style>\n",
       "<table border=\"1\" class=\"dataframe\">\n",
       "  <thead>\n",
       "    <tr style=\"text-align: right;\">\n",
       "      <th></th>\n",
       "      <th>index</th>\n",
       "      <th>precision</th>\n",
       "      <th>recall</th>\n",
       "      <th>f1-score</th>\n",
       "      <th>support</th>\n",
       "      <th>Model</th>\n",
       "    </tr>\n",
       "  </thead>\n",
       "  <tbody>\n",
       "    <tr>\n",
       "      <th>0</th>\n",
       "      <td>0</td>\n",
       "      <td>0.590909</td>\n",
       "      <td>0.696429</td>\n",
       "      <td>0.639344</td>\n",
       "      <td>224.000000</td>\n",
       "      <td>Train</td>\n",
       "    </tr>\n",
       "    <tr>\n",
       "      <th>1</th>\n",
       "      <td>1</td>\n",
       "      <td>0.867704</td>\n",
       "      <td>0.805054</td>\n",
       "      <td>0.835206</td>\n",
       "      <td>554.000000</td>\n",
       "      <td>Train</td>\n",
       "    </tr>\n",
       "    <tr>\n",
       "      <th>2</th>\n",
       "      <td>accuracy</td>\n",
       "      <td>0.773779</td>\n",
       "      <td>0.773779</td>\n",
       "      <td>0.773779</td>\n",
       "      <td>0.773779</td>\n",
       "      <td>Train</td>\n",
       "    </tr>\n",
       "    <tr>\n",
       "      <th>3</th>\n",
       "      <td>macro avg</td>\n",
       "      <td>0.729307</td>\n",
       "      <td>0.750741</td>\n",
       "      <td>0.737275</td>\n",
       "      <td>778.000000</td>\n",
       "      <td>Train</td>\n",
       "    </tr>\n",
       "    <tr>\n",
       "      <th>4</th>\n",
       "      <td>weighted avg</td>\n",
       "      <td>0.788010</td>\n",
       "      <td>0.773779</td>\n",
       "      <td>0.778814</td>\n",
       "      <td>778.000000</td>\n",
       "      <td>Train</td>\n",
       "    </tr>\n",
       "    <tr>\n",
       "      <th>0</th>\n",
       "      <td>0</td>\n",
       "      <td>0.421875</td>\n",
       "      <td>0.482143</td>\n",
       "      <td>0.450000</td>\n",
       "      <td>56.000000</td>\n",
       "      <td>Test</td>\n",
       "    </tr>\n",
       "    <tr>\n",
       "      <th>1</th>\n",
       "      <td>1</td>\n",
       "      <td>0.778626</td>\n",
       "      <td>0.733813</td>\n",
       "      <td>0.755556</td>\n",
       "      <td>139.000000</td>\n",
       "      <td>Test</td>\n",
       "    </tr>\n",
       "    <tr>\n",
       "      <th>2</th>\n",
       "      <td>accuracy</td>\n",
       "      <td>0.661538</td>\n",
       "      <td>0.661538</td>\n",
       "      <td>0.661538</td>\n",
       "      <td>0.661538</td>\n",
       "      <td>Test</td>\n",
       "    </tr>\n",
       "    <tr>\n",
       "      <th>3</th>\n",
       "      <td>macro avg</td>\n",
       "      <td>0.600250</td>\n",
       "      <td>0.607978</td>\n",
       "      <td>0.602778</td>\n",
       "      <td>195.000000</td>\n",
       "      <td>Test</td>\n",
       "    </tr>\n",
       "    <tr>\n",
       "      <th>4</th>\n",
       "      <td>weighted avg</td>\n",
       "      <td>0.676174</td>\n",
       "      <td>0.661538</td>\n",
       "      <td>0.667806</td>\n",
       "      <td>195.000000</td>\n",
       "      <td>Test</td>\n",
       "    </tr>\n",
       "  </tbody>\n",
       "</table>\n",
       "</div>"
      ],
      "text/plain": [
       "          index  precision    recall  f1-score     support  Model\n",
       "0             0   0.590909  0.696429  0.639344  224.000000  Train\n",
       "1             1   0.867704  0.805054  0.835206  554.000000  Train\n",
       "2      accuracy   0.773779  0.773779  0.773779    0.773779  Train\n",
       "3     macro avg   0.729307  0.750741  0.737275  778.000000  Train\n",
       "4  weighted avg   0.788010  0.773779  0.778814  778.000000  Train\n",
       "0             0   0.421875  0.482143  0.450000   56.000000   Test\n",
       "1             1   0.778626  0.733813  0.755556  139.000000   Test\n",
       "2      accuracy   0.661538  0.661538  0.661538    0.661538   Test\n",
       "3     macro avg   0.600250  0.607978  0.602778  195.000000   Test\n",
       "4  weighted avg   0.676174  0.661538  0.667806  195.000000   Test"
      ]
     },
     "execution_count": 72,
     "metadata": {},
     "output_type": "execute_result"
    }
   ],
   "source": [
    "clf_report_train = pd.DataFrame(classification_report(y_train,y_train_prediction, output_dict=True)).transpose().reset_index()\n",
    "clf_report_train['Model'] = 'Train'\n",
    "\n",
    "clf_report_test = pd.DataFrame(classification_report(y_test,y_test_prediction, output_dict=True)).transpose().reset_index()\n",
    "clf_report_test['Model'] = 'Test'\n",
    "\n",
    "clf_report = pd.concat([clf_report_train,clf_report_test]) \n",
    "clf_report.to_csv('DNA_Clf_Report.csv', index = False)\n",
    "clf_report"
   ]
  },
  {
   "cell_type": "code",
   "execution_count": 73,
   "id": "5e252fc8",
   "metadata": {},
   "outputs": [],
   "source": [
    "y_train_predpro = rf_Model.predict_proba(X_train)[:,1]\n",
    "y_test_predpro = rf_Model.predict_proba(X_test)[:,1]"
   ]
  },
  {
   "cell_type": "code",
   "execution_count": 74,
   "id": "2f12eb69",
   "metadata": {},
   "outputs": [],
   "source": [
    "y_train_pred =rf_Model.predict(X)"
   ]
  },
  {
   "cell_type": "code",
   "execution_count": 75,
   "id": "4b51ffcd",
   "metadata": {},
   "outputs": [],
   "source": [
    "y_train_predpro = rf_Model.predict_proba(X)[:,1]"
   ]
  },
  {
   "cell_type": "code",
   "execution_count": 76,
   "id": "f066f772",
   "metadata": {},
   "outputs": [
    {
     "data": {
      "text/plain": [
       "(973, 155)"
      ]
     },
     "execution_count": 76,
     "metadata": {},
     "output_type": "execute_result"
    }
   ],
   "source": [
    "DNA_df.shape"
   ]
  },
  {
   "cell_type": "code",
   "execution_count": 77,
   "id": "98924df4",
   "metadata": {},
   "outputs": [
    {
     "name": "stderr",
     "output_type": "stream",
     "text": [
      "C:\\Users\\Senthil\\AppData\\Local\\Temp/ipykernel_5932/2889968376.py:1: SettingWithCopyWarning: \n",
      "A value is trying to be set on a copy of a slice from a DataFrame.\n",
      "Try using .loc[row_indexer,col_indexer] = value instead\n",
      "\n",
      "See the caveats in the documentation: https://pandas.pydata.org/pandas-docs/stable/user_guide/indexing.html#returning-a-view-versus-a-copy\n",
      "  DNA_df['y_train_pred']=y_train_pred\n"
     ]
    }
   ],
   "source": [
    "DNA_df['y_train_pred']=y_train_pred"
   ]
  },
  {
   "cell_type": "code",
   "execution_count": 78,
   "id": "e6d92983",
   "metadata": {},
   "outputs": [
    {
     "name": "stderr",
     "output_type": "stream",
     "text": [
      "C:\\Users\\Senthil\\AppData\\Local\\Temp/ipykernel_5932/3348486766.py:1: SettingWithCopyWarning: \n",
      "A value is trying to be set on a copy of a slice from a DataFrame.\n",
      "Try using .loc[row_indexer,col_indexer] = value instead\n",
      "\n",
      "See the caveats in the documentation: https://pandas.pydata.org/pandas-docs/stable/user_guide/indexing.html#returning-a-view-versus-a-copy\n",
      "  DNA_df['y_train_predpro']=y_train_predpro\n"
     ]
    }
   ],
   "source": [
    "DNA_df['y_train_predpro']=y_train_predpro"
   ]
  },
  {
   "cell_type": "code",
   "execution_count": 79,
   "id": "7ff8ebeb",
   "metadata": {},
   "outputs": [
    {
     "data": {
      "text/html": [
       "<div>\n",
       "<style scoped>\n",
       "    .dataframe tbody tr th:only-of-type {\n",
       "        vertical-align: middle;\n",
       "    }\n",
       "\n",
       "    .dataframe tbody tr th {\n",
       "        vertical-align: top;\n",
       "    }\n",
       "\n",
       "    .dataframe thead th {\n",
       "        text-align: right;\n",
       "    }\n",
       "</style>\n",
       "<table border=\"1\" class=\"dataframe\">\n",
       "  <thead>\n",
       "    <tr style=\"text-align: right;\">\n",
       "      <th></th>\n",
       "      <th>Entry</th>\n",
       "      <th>Class</th>\n",
       "      <th>IK0</th>\n",
       "      <th>IHt</th>\n",
       "      <th>IHp</th>\n",
       "      <th>IP</th>\n",
       "      <th>IpHi</th>\n",
       "      <th>IpK'</th>\n",
       "      <th>IMw</th>\n",
       "      <th>IBl</th>\n",
       "      <th>...</th>\n",
       "      <th>Q</th>\n",
       "      <th>R</th>\n",
       "      <th>S</th>\n",
       "      <th>T</th>\n",
       "      <th>V</th>\n",
       "      <th>W</th>\n",
       "      <th>Y</th>\n",
       "      <th>target</th>\n",
       "      <th>y_train_pred</th>\n",
       "      <th>y_train_predpro</th>\n",
       "    </tr>\n",
       "  </thead>\n",
       "  <tbody>\n",
       "    <tr>\n",
       "      <th>1111</th>\n",
       "      <td>Q9NQ94</td>\n",
       "      <td>CGC</td>\n",
       "      <td>0.943956</td>\n",
       "      <td>0.616465</td>\n",
       "      <td>0.639461</td>\n",
       "      <td>0.550623</td>\n",
       "      <td>0.853148</td>\n",
       "      <td>1.531212</td>\n",
       "      <td>0.803737</td>\n",
       "      <td>1.203030</td>\n",
       "      <td>...</td>\n",
       "      <td>0.032857</td>\n",
       "      <td>0.045714</td>\n",
       "      <td>0.034286</td>\n",
       "      <td>0.052857</td>\n",
       "      <td>0.058571</td>\n",
       "      <td>0.005714</td>\n",
       "      <td>0.044286</td>\n",
       "      <td>1</td>\n",
       "      <td>1</td>\n",
       "      <td>0.610135</td>\n",
       "    </tr>\n",
       "    <tr>\n",
       "      <th>1112</th>\n",
       "      <td>P00519</td>\n",
       "      <td>CGC</td>\n",
       "      <td>0.496204</td>\n",
       "      <td>0.324053</td>\n",
       "      <td>0.336142</td>\n",
       "      <td>0.289442</td>\n",
       "      <td>0.448469</td>\n",
       "      <td>0.804903</td>\n",
       "      <td>0.422496</td>\n",
       "      <td>0.632389</td>\n",
       "      <td>...</td>\n",
       "      <td>0.047143</td>\n",
       "      <td>0.091429</td>\n",
       "      <td>0.171429</td>\n",
       "      <td>0.092857</td>\n",
       "      <td>0.088571</td>\n",
       "      <td>0.018571</td>\n",
       "      <td>0.042857</td>\n",
       "      <td>1</td>\n",
       "      <td>1</td>\n",
       "      <td>0.799025</td>\n",
       "    </tr>\n",
       "    <tr>\n",
       "      <th>1113</th>\n",
       "      <td>P42684</td>\n",
       "      <td>CGC</td>\n",
       "      <td>0.474374</td>\n",
       "      <td>0.309797</td>\n",
       "      <td>0.321354</td>\n",
       "      <td>0.276709</td>\n",
       "      <td>0.428739</td>\n",
       "      <td>0.769492</td>\n",
       "      <td>0.403909</td>\n",
       "      <td>0.604569</td>\n",
       "      <td>...</td>\n",
       "      <td>0.064286</td>\n",
       "      <td>0.087143</td>\n",
       "      <td>0.160000</td>\n",
       "      <td>0.105714</td>\n",
       "      <td>0.105714</td>\n",
       "      <td>0.018571</td>\n",
       "      <td>0.047143</td>\n",
       "      <td>1</td>\n",
       "      <td>1</td>\n",
       "      <td>0.810330</td>\n",
       "    </tr>\n",
       "    <tr>\n",
       "      <th>1114</th>\n",
       "      <td>P25106</td>\n",
       "      <td>CGC</td>\n",
       "      <td>1.548923</td>\n",
       "      <td>1.011547</td>\n",
       "      <td>1.049282</td>\n",
       "      <td>0.903508</td>\n",
       "      <td>1.399917</td>\n",
       "      <td>2.512541</td>\n",
       "      <td>1.318840</td>\n",
       "      <td>1.974033</td>\n",
       "      <td>...</td>\n",
       "      <td>0.008571</td>\n",
       "      <td>0.015714</td>\n",
       "      <td>0.051429</td>\n",
       "      <td>0.032857</td>\n",
       "      <td>0.055714</td>\n",
       "      <td>0.011429</td>\n",
       "      <td>0.028571</td>\n",
       "      <td>1</td>\n",
       "      <td>1</td>\n",
       "      <td>0.547305</td>\n",
       "    </tr>\n",
       "    <tr>\n",
       "      <th>1115</th>\n",
       "      <td>O95573</td>\n",
       "      <td>CGC</td>\n",
       "      <td>0.778764</td>\n",
       "      <td>0.508583</td>\n",
       "      <td>0.527556</td>\n",
       "      <td>0.454264</td>\n",
       "      <td>0.703847</td>\n",
       "      <td>1.263250</td>\n",
       "      <td>0.663083</td>\n",
       "      <td>0.992500</td>\n",
       "      <td>...</td>\n",
       "      <td>0.028571</td>\n",
       "      <td>0.038571</td>\n",
       "      <td>0.070000</td>\n",
       "      <td>0.057143</td>\n",
       "      <td>0.062857</td>\n",
       "      <td>0.011429</td>\n",
       "      <td>0.041429</td>\n",
       "      <td>1</td>\n",
       "      <td>1</td>\n",
       "      <td>0.507011</td>\n",
       "    </tr>\n",
       "  </tbody>\n",
       "</table>\n",
       "<p>5 rows × 155 columns</p>\n",
       "</div>"
      ],
      "text/plain": [
       "       Entry Class       IK0       IHt       IHp        IP      IpHi  \\\n",
       "1111  Q9NQ94   CGC  0.943956  0.616465  0.639461  0.550623  0.853148   \n",
       "1112  P00519   CGC  0.496204  0.324053  0.336142  0.289442  0.448469   \n",
       "1113  P42684   CGC  0.474374  0.309797  0.321354  0.276709  0.428739   \n",
       "1114  P25106   CGC  1.548923  1.011547  1.049282  0.903508  1.399917   \n",
       "1115  O95573   CGC  0.778764  0.508583  0.527556  0.454264  0.703847   \n",
       "\n",
       "          IpK'       IMw       IBl  ...         Q         R         S  \\\n",
       "1111  1.531212  0.803737  1.203030  ...  0.032857  0.045714  0.034286   \n",
       "1112  0.804903  0.422496  0.632389  ...  0.047143  0.091429  0.171429   \n",
       "1113  0.769492  0.403909  0.604569  ...  0.064286  0.087143  0.160000   \n",
       "1114  2.512541  1.318840  1.974033  ...  0.008571  0.015714  0.051429   \n",
       "1115  1.263250  0.663083  0.992500  ...  0.028571  0.038571  0.070000   \n",
       "\n",
       "             T         V         W         Y  target  y_train_pred  \\\n",
       "1111  0.052857  0.058571  0.005714  0.044286       1             1   \n",
       "1112  0.092857  0.088571  0.018571  0.042857       1             1   \n",
       "1113  0.105714  0.105714  0.018571  0.047143       1             1   \n",
       "1114  0.032857  0.055714  0.011429  0.028571       1             1   \n",
       "1115  0.057143  0.062857  0.011429  0.041429       1             1   \n",
       "\n",
       "      y_train_predpro  \n",
       "1111         0.610135  \n",
       "1112         0.799025  \n",
       "1113         0.810330  \n",
       "1114         0.547305  \n",
       "1115         0.507011  \n",
       "\n",
       "[5 rows x 155 columns]"
      ]
     },
     "execution_count": 79,
     "metadata": {},
     "output_type": "execute_result"
    }
   ],
   "source": [
    "DNA_df.head()"
   ]
  },
  {
   "cell_type": "code",
   "execution_count": 80,
   "id": "3931a774",
   "metadata": {},
   "outputs": [
    {
     "name": "stderr",
     "output_type": "stream",
     "text": [
      "C:\\Users\\Senthil\\anaconda3\\lib\\site-packages\\sklearn\\utils\\deprecation.py:87: FutureWarning: Function plot_confusion_matrix is deprecated; Function `plot_confusion_matrix` is deprecated in 1.0 and will be removed in 1.2. Use one of the class methods: ConfusionMatrixDisplay.from_predictions or ConfusionMatrixDisplay.from_estimator.\n",
      "  warnings.warn(msg, category=FutureWarning)\n"
     ]
    },
    {
     "data": {
      "text/plain": [
       "<sklearn.metrics._plot.confusion_matrix.ConfusionMatrixDisplay at 0x2a55e458cd0>"
      ]
     },
     "execution_count": 80,
     "metadata": {},
     "output_type": "execute_result"
    },
    {
     "data": {
      "image/png": "[encoded data removed]",
      "text/plain": [
       "<Figure size 432x288 with 2 Axes>"
      ]
     },
     "metadata": {
      "needs_background": "light"
     },
     "output_type": "display_data"
    }
   ],
   "source": [
    "from sklearn.metrics import confusion_matrix, ConfusionMatrixDisplay, accuracy_score, plot_confusion_matrix, plot_roc_curve\n",
    "plot_confusion_matrix(rf_Model, X_test, y_test) "
   ]
  },
  {
   "cell_type": "code",
   "execution_count": null,
   "id": "b912ea16",
   "metadata": {},
   "outputs": [],
   "source": [
    "sensitivity = 18/(18+38)\n",
    "sensitivity"
   ]
  },
  {
   "cell_type": "code",
   "execution_count": null,
   "id": "f16d94ea",
   "metadata": {},
   "outputs": [],
   "source": [
    "specificity = 130/(130+9)\n",
    "specificity"
   ]
  },
  {
   "cell_type": "code",
   "execution_count": null,
   "id": "72a08d5d",
   "metadata": {},
   "outputs": [],
   "source": [
    "precision = 18/(18+9)\n",
    "precision"
   ]
  },
  {
   "cell_type": "code",
   "execution_count": null,
   "id": "13349c42",
   "metadata": {},
   "outputs": [],
   "source": [
    "sensitivity + specificity"
   ]
  },
  {
   "cell_type": "code",
   "execution_count": null,
   "id": "e0a2bc04",
   "metadata": {},
   "outputs": [],
   "source": [
    "f1 = (precision * sensitivity)/(precision+sensitivity)\n",
    "f1"
   ]
  },
  {
   "cell_type": "code",
   "execution_count": 81,
   "id": "0769263d",
   "metadata": {},
   "outputs": [
    {
     "name": "stderr",
     "output_type": "stream",
     "text": [
      "C:\\Users\\Senthil\\anaconda3\\lib\\site-packages\\sklearn\\utils\\deprecation.py:87: FutureWarning: Function plot_roc_curve is deprecated; Function :func:`plot_roc_curve` is deprecated in 1.0 and will be removed in 1.2. Use one of the class methods: :meth:`sklearn.metric.RocCurveDisplay.from_predictions` or :meth:`sklearn.metric.RocCurveDisplay.from_estimator`.\n",
      "  warnings.warn(msg, category=FutureWarning)\n"
     ]
    },
    {
     "data": {
      "text/plain": [
       "<sklearn.metrics._plot.roc_curve.RocCurveDisplay at 0x2a55d9049a0>"
      ]
     },
     "execution_count": 81,
     "metadata": {},
     "output_type": "execute_result"
    },
    {
     "data": {
      "image/png": "[encoded data removed]",
      "text/plain": [
       "<Figure size 432x288 with 1 Axes>"
      ]
     },
     "metadata": {
      "needs_background": "light"
     },
     "output_type": "display_data"
    }
   ],
   "source": [
    "plot_roc_curve(rf_Model, X_test, y_test)  "
   ]
  },
  {
   "cell_type": "code",
   "execution_count": null,
   "id": "0d9a7e7f",
   "metadata": {},
   "outputs": [],
   "source": []
  }
 ],
 "metadata": {
  "kernelspec": {
   "display_name": "Python 3 (ipykernel)",
   "language": "python",
   "name": "python3"
  },
  "language_info": {
   "codemirror_mode": {
    "name": "ipython",
    "version": 3
   },
   "file_extension": ".py",
   "mimetype": "text/x-python",
   "name": "python",
   "nbconvert_exporter": "python",
   "pygments_lexer": "ipython3",
   "version": "3.9.7"
  }
 },
 "nbformat": 4,
 "nbformat_minor": 5
}
