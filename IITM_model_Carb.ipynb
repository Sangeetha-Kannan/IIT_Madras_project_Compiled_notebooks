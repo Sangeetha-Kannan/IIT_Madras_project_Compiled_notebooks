{
 "cells": [
  {
   "cell_type": "code",
   "execution_count": 1,
   "id": "9fb4d917",
   "metadata": {},
   "outputs": [],
   "source": [
    "# importing necessary libraries\n",
    "import os\n",
    "import pandas as pd\n",
    "import numpy as np\n",
    "from pandas import DataFrame\n",
    "import matplotlib.pyplot as plt\n",
    "%matplotlib inline\n",
    "from sklearn import datasets\n",
    "from sklearn.metrics import confusion_matrix\n",
    "from sklearn.model_selection import train_test_split"
   ]
  },
  {
   "cell_type": "code",
   "execution_count": 2,
   "id": "97f8b7b2",
   "metadata": {},
   "outputs": [],
   "source": [
    "#loading dataset\n",
    "df = pd.read_csv(\"Final_nrd_Prop_compn.csv\")"
   ]
  },
  {
   "cell_type": "code",
   "execution_count": 3,
   "id": "873c3d5b",
   "metadata": {},
   "outputs": [
    {
     "data": {
      "text/html": [
       "<div>\n",
       "<style scoped>\n",
       "    .dataframe tbody tr th:only-of-type {\n",
       "        vertical-align: middle;\n",
       "    }\n",
       "\n",
       "    .dataframe tbody tr th {\n",
       "        vertical-align: top;\n",
       "    }\n",
       "\n",
       "    .dataframe thead th {\n",
       "        text-align: right;\n",
       "    }\n",
       "</style>\n",
       "<table border=\"1\" class=\"dataframe\">\n",
       "  <thead>\n",
       "    <tr style=\"text-align: right;\">\n",
       "      <th></th>\n",
       "      <th>Entry</th>\n",
       "      <th>Class</th>\n",
       "      <th>IK0</th>\n",
       "      <th>IHt</th>\n",
       "      <th>IHp</th>\n",
       "      <th>IP</th>\n",
       "      <th>IpHi</th>\n",
       "      <th>IpK'</th>\n",
       "      <th>IMw</th>\n",
       "      <th>IBl</th>\n",
       "      <th>...</th>\n",
       "      <th>M</th>\n",
       "      <th>N</th>\n",
       "      <th>P</th>\n",
       "      <th>Q</th>\n",
       "      <th>R</th>\n",
       "      <th>S</th>\n",
       "      <th>T</th>\n",
       "      <th>V</th>\n",
       "      <th>W</th>\n",
       "      <th>Y</th>\n",
       "    </tr>\n",
       "  </thead>\n",
       "  <tbody>\n",
       "    <tr>\n",
       "      <th>0</th>\n",
       "      <td>Q59288</td>\n",
       "      <td>Carb</td>\n",
       "      <td>0.801014</td>\n",
       "      <td>0.523114</td>\n",
       "      <td>0.542629</td>\n",
       "      <td>0.467243</td>\n",
       "      <td>0.723957</td>\n",
       "      <td>1.299343</td>\n",
       "      <td>0.682029</td>\n",
       "      <td>1.020857</td>\n",
       "      <td>...</td>\n",
       "      <td>0.018571</td>\n",
       "      <td>0.051429</td>\n",
       "      <td>0.041429</td>\n",
       "      <td>0.045714</td>\n",
       "      <td>0.038571</td>\n",
       "      <td>0.055714</td>\n",
       "      <td>0.054286</td>\n",
       "      <td>0.052857</td>\n",
       "      <td>0.022857</td>\n",
       "      <td>0.055714</td>\n",
       "    </tr>\n",
       "    <tr>\n",
       "      <th>1</th>\n",
       "      <td>Q9I6P8</td>\n",
       "      <td>Carb</td>\n",
       "      <td>1.331853</td>\n",
       "      <td>0.869786</td>\n",
       "      <td>0.902233</td>\n",
       "      <td>0.776888</td>\n",
       "      <td>1.203729</td>\n",
       "      <td>2.160428</td>\n",
       "      <td>1.134014</td>\n",
       "      <td>1.697387</td>\n",
       "      <td>...</td>\n",
       "      <td>0.008571</td>\n",
       "      <td>0.025714</td>\n",
       "      <td>0.018571</td>\n",
       "      <td>0.025714</td>\n",
       "      <td>0.050000</td>\n",
       "      <td>0.051429</td>\n",
       "      <td>0.024286</td>\n",
       "      <td>0.024286</td>\n",
       "      <td>0.012857</td>\n",
       "      <td>0.018571</td>\n",
       "    </tr>\n",
       "    <tr>\n",
       "      <th>2</th>\n",
       "      <td>Q9IH62</td>\n",
       "      <td>Carb</td>\n",
       "      <td>0.931412</td>\n",
       "      <td>0.608272</td>\n",
       "      <td>0.630963</td>\n",
       "      <td>0.543306</td>\n",
       "      <td>0.841811</td>\n",
       "      <td>1.510864</td>\n",
       "      <td>0.793056</td>\n",
       "      <td>1.187043</td>\n",
       "      <td>...</td>\n",
       "      <td>0.015714</td>\n",
       "      <td>0.064286</td>\n",
       "      <td>0.051429</td>\n",
       "      <td>0.035714</td>\n",
       "      <td>0.031429</td>\n",
       "      <td>0.072857</td>\n",
       "      <td>0.052857</td>\n",
       "      <td>0.058571</td>\n",
       "      <td>0.010000</td>\n",
       "      <td>0.035714</td>\n",
       "    </tr>\n",
       "    <tr>\n",
       "      <th>3</th>\n",
       "      <td>P52799</td>\n",
       "      <td>Carb</td>\n",
       "      <td>1.683814</td>\n",
       "      <td>1.099640</td>\n",
       "      <td>1.140661</td>\n",
       "      <td>0.982192</td>\n",
       "      <td>1.521832</td>\n",
       "      <td>2.731351</td>\n",
       "      <td>1.433694</td>\n",
       "      <td>2.145946</td>\n",
       "      <td>...</td>\n",
       "      <td>0.008571</td>\n",
       "      <td>0.025714</td>\n",
       "      <td>0.030000</td>\n",
       "      <td>0.018571</td>\n",
       "      <td>0.021429</td>\n",
       "      <td>0.045714</td>\n",
       "      <td>0.028571</td>\n",
       "      <td>0.031429</td>\n",
       "      <td>0.005714</td>\n",
       "      <td>0.021429</td>\n",
       "    </tr>\n",
       "    <tr>\n",
       "      <th>4</th>\n",
       "      <td>P49354</td>\n",
       "      <td>Carb</td>\n",
       "      <td>1.479446</td>\n",
       "      <td>0.966174</td>\n",
       "      <td>1.002216</td>\n",
       "      <td>0.862982</td>\n",
       "      <td>1.337124</td>\n",
       "      <td>2.399842</td>\n",
       "      <td>1.259683</td>\n",
       "      <td>1.885488</td>\n",
       "      <td>...</td>\n",
       "      <td>0.008571</td>\n",
       "      <td>0.032857</td>\n",
       "      <td>0.032857</td>\n",
       "      <td>0.041429</td>\n",
       "      <td>0.031429</td>\n",
       "      <td>0.027143</td>\n",
       "      <td>0.014286</td>\n",
       "      <td>0.034286</td>\n",
       "      <td>0.014286</td>\n",
       "      <td>0.027143</td>\n",
       "    </tr>\n",
       "  </tbody>\n",
       "</table>\n",
       "<p>5 rows × 152 columns</p>\n",
       "</div>"
      ],
      "text/plain": [
       "    Entry Class       IK0       IHt       IHp        IP      IpHi      IpK'  \\\n",
       "0  Q59288  Carb  0.801014  0.523114  0.542629  0.467243  0.723957  1.299343   \n",
       "1  Q9I6P8  Carb  1.331853  0.869786  0.902233  0.776888  1.203729  2.160428   \n",
       "2  Q9IH62  Carb  0.931412  0.608272  0.630963  0.543306  0.841811  1.510864   \n",
       "3  P52799  Carb  1.683814  1.099640  1.140661  0.982192  1.521832  2.731351   \n",
       "4  P49354  Carb  1.479446  0.966174  1.002216  0.862982  1.337124  2.399842   \n",
       "\n",
       "        IMw       IBl  ...         M         N         P         Q         R  \\\n",
       "0  0.682029  1.020857  ...  0.018571  0.051429  0.041429  0.045714  0.038571   \n",
       "1  1.134014  1.697387  ...  0.008571  0.025714  0.018571  0.025714  0.050000   \n",
       "2  0.793056  1.187043  ...  0.015714  0.064286  0.051429  0.035714  0.031429   \n",
       "3  1.433694  2.145946  ...  0.008571  0.025714  0.030000  0.018571  0.021429   \n",
       "4  1.259683  1.885488  ...  0.008571  0.032857  0.032857  0.041429  0.031429   \n",
       "\n",
       "          S         T         V         W         Y  \n",
       "0  0.055714  0.054286  0.052857  0.022857  0.055714  \n",
       "1  0.051429  0.024286  0.024286  0.012857  0.018571  \n",
       "2  0.072857  0.052857  0.058571  0.010000  0.035714  \n",
       "3  0.045714  0.028571  0.031429  0.005714  0.021429  \n",
       "4  0.027143  0.014286  0.034286  0.014286  0.027143  \n",
       "\n",
       "[5 rows x 152 columns]"
      ]
     },
     "execution_count": 3,
     "metadata": {},
     "output_type": "execute_result"
    }
   ],
   "source": [
    "#Top five columns of the data\n",
    "df.head()"
   ]
  },
  {
   "cell_type": "code",
   "execution_count": 4,
   "id": "83512bda",
   "metadata": {},
   "outputs": [
    {
     "data": {
      "text/plain": [
       "(2747, 152)"
      ]
     },
     "execution_count": 4,
     "metadata": {},
     "output_type": "execute_result"
    }
   ],
   "source": [
    "#Number of columns and rows\n",
    "df.shape"
   ]
  },
  {
   "cell_type": "code",
   "execution_count": 5,
   "id": "2c3ec3d2",
   "metadata": {},
   "outputs": [
    {
     "data": {
      "text/plain": [
       "Carb      1111\n",
       "CGC        693\n",
       "Hetero     500\n",
       "DNA        280\n",
       "RNA        163\n",
       "Name: Class, dtype: int64"
      ]
     },
     "execution_count": 5,
     "metadata": {},
     "output_type": "execute_result"
    }
   ],
   "source": [
    "#Number of columns under each class\n",
    "df.Class.value_counts()"
   ]
  },
  {
   "cell_type": "code",
   "execution_count": 6,
   "id": "566140c6",
   "metadata": {},
   "outputs": [],
   "source": [
    "#New dataframe with only carbohydrate class and CGC\n",
    "Carb_df = df[(df['Class'] == 'Carb') | (df['Class'] == 'CGC')]"
   ]
  },
  {
   "cell_type": "code",
   "execution_count": 8,
   "id": "b62ab5f1",
   "metadata": {},
   "outputs": [
    {
     "name": "stderr",
     "output_type": "stream",
     "text": [
      "C:\\Users\\Senthil\\AppData\\Local\\Temp/ipykernel_9552/4235235700.py:1: SettingWithCopyWarning: \n",
      "A value is trying to be set on a copy of a slice from a DataFrame.\n",
      "Try using .loc[row_indexer,col_indexer] = value instead\n",
      "\n",
      "See the caveats in the documentation: https://pandas.pydata.org/pandas-docs/stable/user_guide/indexing.html#returning-a-view-versus-a-copy\n",
      "  Carb_df[\"target\"] = np.where(Carb_df[\"Class\"].str.contains(\"CGC\"), 1, 0)\n"
     ]
    }
   ],
   "source": [
    "#Creating a column \"target\" which represents presence and absence of CGC as 1 and 0 respectively\n",
    "Carb_df[\"target\"] = np.where(Carb_df[\"Class\"].str.contains(\"CGC\"), 1, 0)"
   ]
  },
  {
   "cell_type": "code",
   "execution_count": 9,
   "id": "863435fb",
   "metadata": {},
   "outputs": [
    {
     "data": {
      "text/html": [
       "<div>\n",
       "<style scoped>\n",
       "    .dataframe tbody tr th:only-of-type {\n",
       "        vertical-align: middle;\n",
       "    }\n",
       "\n",
       "    .dataframe tbody tr th {\n",
       "        vertical-align: top;\n",
       "    }\n",
       "\n",
       "    .dataframe thead th {\n",
       "        text-align: right;\n",
       "    }\n",
       "</style>\n",
       "<table border=\"1\" class=\"dataframe\">\n",
       "  <thead>\n",
       "    <tr style=\"text-align: right;\">\n",
       "      <th></th>\n",
       "      <th>Entry</th>\n",
       "      <th>Class</th>\n",
       "      <th>IK0</th>\n",
       "      <th>IHt</th>\n",
       "      <th>IHp</th>\n",
       "      <th>IP</th>\n",
       "      <th>IpHi</th>\n",
       "      <th>IpK'</th>\n",
       "      <th>IMw</th>\n",
       "      <th>IBl</th>\n",
       "      <th>...</th>\n",
       "      <th>N</th>\n",
       "      <th>P</th>\n",
       "      <th>Q</th>\n",
       "      <th>R</th>\n",
       "      <th>S</th>\n",
       "      <th>T</th>\n",
       "      <th>V</th>\n",
       "      <th>W</th>\n",
       "      <th>Y</th>\n",
       "      <th>target</th>\n",
       "    </tr>\n",
       "  </thead>\n",
       "  <tbody>\n",
       "    <tr>\n",
       "      <th>0</th>\n",
       "      <td>Q59288</td>\n",
       "      <td>Carb</td>\n",
       "      <td>0.801014</td>\n",
       "      <td>0.523114</td>\n",
       "      <td>0.542629</td>\n",
       "      <td>0.467243</td>\n",
       "      <td>0.723957</td>\n",
       "      <td>1.299343</td>\n",
       "      <td>0.682029</td>\n",
       "      <td>1.020857</td>\n",
       "      <td>...</td>\n",
       "      <td>0.051429</td>\n",
       "      <td>0.041429</td>\n",
       "      <td>0.045714</td>\n",
       "      <td>0.038571</td>\n",
       "      <td>0.055714</td>\n",
       "      <td>0.054286</td>\n",
       "      <td>0.052857</td>\n",
       "      <td>0.022857</td>\n",
       "      <td>0.055714</td>\n",
       "      <td>0</td>\n",
       "    </tr>\n",
       "    <tr>\n",
       "      <th>1</th>\n",
       "      <td>Q9I6P8</td>\n",
       "      <td>Carb</td>\n",
       "      <td>1.331853</td>\n",
       "      <td>0.869786</td>\n",
       "      <td>0.902233</td>\n",
       "      <td>0.776888</td>\n",
       "      <td>1.203729</td>\n",
       "      <td>2.160428</td>\n",
       "      <td>1.134014</td>\n",
       "      <td>1.697387</td>\n",
       "      <td>...</td>\n",
       "      <td>0.025714</td>\n",
       "      <td>0.018571</td>\n",
       "      <td>0.025714</td>\n",
       "      <td>0.050000</td>\n",
       "      <td>0.051429</td>\n",
       "      <td>0.024286</td>\n",
       "      <td>0.024286</td>\n",
       "      <td>0.012857</td>\n",
       "      <td>0.018571</td>\n",
       "      <td>0</td>\n",
       "    </tr>\n",
       "    <tr>\n",
       "      <th>2</th>\n",
       "      <td>Q9IH62</td>\n",
       "      <td>Carb</td>\n",
       "      <td>0.931412</td>\n",
       "      <td>0.608272</td>\n",
       "      <td>0.630963</td>\n",
       "      <td>0.543306</td>\n",
       "      <td>0.841811</td>\n",
       "      <td>1.510864</td>\n",
       "      <td>0.793056</td>\n",
       "      <td>1.187043</td>\n",
       "      <td>...</td>\n",
       "      <td>0.064286</td>\n",
       "      <td>0.051429</td>\n",
       "      <td>0.035714</td>\n",
       "      <td>0.031429</td>\n",
       "      <td>0.072857</td>\n",
       "      <td>0.052857</td>\n",
       "      <td>0.058571</td>\n",
       "      <td>0.010000</td>\n",
       "      <td>0.035714</td>\n",
       "      <td>0</td>\n",
       "    </tr>\n",
       "    <tr>\n",
       "      <th>3</th>\n",
       "      <td>P52799</td>\n",
       "      <td>Carb</td>\n",
       "      <td>1.683814</td>\n",
       "      <td>1.099640</td>\n",
       "      <td>1.140661</td>\n",
       "      <td>0.982192</td>\n",
       "      <td>1.521832</td>\n",
       "      <td>2.731351</td>\n",
       "      <td>1.433694</td>\n",
       "      <td>2.145946</td>\n",
       "      <td>...</td>\n",
       "      <td>0.025714</td>\n",
       "      <td>0.030000</td>\n",
       "      <td>0.018571</td>\n",
       "      <td>0.021429</td>\n",
       "      <td>0.045714</td>\n",
       "      <td>0.028571</td>\n",
       "      <td>0.031429</td>\n",
       "      <td>0.005714</td>\n",
       "      <td>0.021429</td>\n",
       "      <td>0</td>\n",
       "    </tr>\n",
       "    <tr>\n",
       "      <th>4</th>\n",
       "      <td>P49354</td>\n",
       "      <td>Carb</td>\n",
       "      <td>1.479446</td>\n",
       "      <td>0.966174</td>\n",
       "      <td>1.002216</td>\n",
       "      <td>0.862982</td>\n",
       "      <td>1.337124</td>\n",
       "      <td>2.399842</td>\n",
       "      <td>1.259683</td>\n",
       "      <td>1.885488</td>\n",
       "      <td>...</td>\n",
       "      <td>0.032857</td>\n",
       "      <td>0.032857</td>\n",
       "      <td>0.041429</td>\n",
       "      <td>0.031429</td>\n",
       "      <td>0.027143</td>\n",
       "      <td>0.014286</td>\n",
       "      <td>0.034286</td>\n",
       "      <td>0.014286</td>\n",
       "      <td>0.027143</td>\n",
       "      <td>0</td>\n",
       "    </tr>\n",
       "  </tbody>\n",
       "</table>\n",
       "<p>5 rows × 153 columns</p>\n",
       "</div>"
      ],
      "text/plain": [
       "    Entry Class       IK0       IHt       IHp        IP      IpHi      IpK'  \\\n",
       "0  Q59288  Carb  0.801014  0.523114  0.542629  0.467243  0.723957  1.299343   \n",
       "1  Q9I6P8  Carb  1.331853  0.869786  0.902233  0.776888  1.203729  2.160428   \n",
       "2  Q9IH62  Carb  0.931412  0.608272  0.630963  0.543306  0.841811  1.510864   \n",
       "3  P52799  Carb  1.683814  1.099640  1.140661  0.982192  1.521832  2.731351   \n",
       "4  P49354  Carb  1.479446  0.966174  1.002216  0.862982  1.337124  2.399842   \n",
       "\n",
       "        IMw       IBl  ...         N         P         Q         R         S  \\\n",
       "0  0.682029  1.020857  ...  0.051429  0.041429  0.045714  0.038571  0.055714   \n",
       "1  1.134014  1.697387  ...  0.025714  0.018571  0.025714  0.050000  0.051429   \n",
       "2  0.793056  1.187043  ...  0.064286  0.051429  0.035714  0.031429  0.072857   \n",
       "3  1.433694  2.145946  ...  0.025714  0.030000  0.018571  0.021429  0.045714   \n",
       "4  1.259683  1.885488  ...  0.032857  0.032857  0.041429  0.031429  0.027143   \n",
       "\n",
       "          T         V         W         Y  target  \n",
       "0  0.054286  0.052857  0.022857  0.055714       0  \n",
       "1  0.024286  0.024286  0.012857  0.018571       0  \n",
       "2  0.052857  0.058571  0.010000  0.035714       0  \n",
       "3  0.028571  0.031429  0.005714  0.021429       0  \n",
       "4  0.014286  0.034286  0.014286  0.027143       0  \n",
       "\n",
       "[5 rows x 153 columns]"
      ]
     },
     "execution_count": 9,
     "metadata": {},
     "output_type": "execute_result"
    }
   ],
   "source": [
    "#Check inclusion of target column\n",
    "Carb_df.head()"
   ]
  },
  {
   "cell_type": "code",
   "execution_count": 10,
   "id": "4566fa5e",
   "metadata": {},
   "outputs": [],
   "source": [
    "#Split data to X and y\n",
    "# X -> features, y -> label\n",
    "y=Carb_df['target']\n",
    "X=Carb_df.drop(['Class','Entry','target'],axis=1)"
   ]
  },
  {
   "cell_type": "code",
   "execution_count": 11,
   "id": "bf203207",
   "metadata": {},
   "outputs": [
    {
     "name": "stdout",
     "output_type": "stream",
     "text": [
      "X : (1804, 150)\n"
     ]
    }
   ],
   "source": [
    "print(f'X : {X.shape}')"
   ]
  },
  {
   "cell_type": "code",
   "execution_count": 12,
   "id": "b6bc3527",
   "metadata": {},
   "outputs": [],
   "source": [
    "# dividing X, y into train and test data\n",
    "X_train, X_test, y_train, y_test = train_test_split(X, y, train_size=0.80, test_size=0.20, random_state = 230,stratify = y)"
   ]
  },
  {
   "cell_type": "code",
   "execution_count": 13,
   "id": "c2bc5f93",
   "metadata": {},
   "outputs": [
    {
     "name": "stdout",
     "output_type": "stream",
     "text": [
      "X_train: (1443, 150)\n",
      "y_train: (1443,)\n",
      "X_test: (361, 150)\n",
      "y_test: (361,)\n"
     ]
    }
   ],
   "source": [
    "print(f'X_train: {X_train.shape}')\n",
    "print(f'y_train: {y_train.shape}')\n",
    "print(f'X_test: {X_test.shape}')\n",
    "print(f'y_test: {y_test.shape}')     "
   ]
  },
  {
   "cell_type": "markdown",
   "id": "8d4bba59",
   "metadata": {},
   "source": [
    "# Random Forest"
   ]
  },
  {
   "cell_type": "code",
   "execution_count": 14,
   "id": "9fc42c66",
   "metadata": {},
   "outputs": [],
   "source": [
    "from sklearn.ensemble import RandomForestClassifier"
   ]
  },
  {
   "cell_type": "code",
   "execution_count": 15,
   "id": "2ff49896",
   "metadata": {},
   "outputs": [],
   "source": [
    "#clf=RandomForestClassifier(n_estimators=80,oob_score=True,n_jobs=-1,random_state=400,class_weight='balanced')"
   ]
  },
  {
   "cell_type": "code",
   "execution_count": 16,
   "id": "336e2df0",
   "metadata": {},
   "outputs": [],
   "source": [
    "#clf.fit(X_train,y_train)"
   ]
  },
  {
   "cell_type": "code",
   "execution_count": 17,
   "id": "b099b01f",
   "metadata": {},
   "outputs": [],
   "source": [
    "#clf.oob_score_"
   ]
  },
  {
   "cell_type": "code",
   "execution_count": 18,
   "id": "d0089244",
   "metadata": {},
   "outputs": [],
   "source": [
    "n_estimators = [int(x) for x in np.linspace(start = 10, stop = 300, num = 20)]\n",
    "max_features = ['auto', 'sqrt']\n",
    "max_depth = [2,4]\n",
    "min_samples_split = [2, 5]\n",
    "min_samples_leaf = [1, 2]\n",
    "bootstrap = [True, False]"
   ]
  },
  {
   "cell_type": "code",
   "execution_count": 19,
   "id": "1d7e9968",
   "metadata": {},
   "outputs": [
    {
     "name": "stdout",
     "output_type": "stream",
     "text": [
      "{'n_estimators': [10, 25, 40, 55, 71, 86, 101, 116, 132, 147, 162, 177, 193, 208, 223, 238, 254, 269, 284, 300], 'max_features': ['auto', 'sqrt'], 'max_depth': [2, 4], 'min_samples_split': [2, 5], 'min_samples_leaf': [1, 2], 'bootstrap': [True, False]}\n"
     ]
    }
   ],
   "source": [
    "param_grid = {'n_estimators': n_estimators,\n",
    "               'max_features': max_features,\n",
    "               'max_depth': max_depth,\n",
    "               'min_samples_split': min_samples_split,\n",
    "               'min_samples_leaf': min_samples_leaf,\n",
    "               'bootstrap': bootstrap}\n",
    "print(param_grid)"
   ]
  },
  {
   "cell_type": "code",
   "execution_count": 64,
   "id": "28f24447",
   "metadata": {},
   "outputs": [],
   "source": [
    "rf = RandomForestClassifier(random_state=42, class_weight='balanced')"
   ]
  },
  {
   "cell_type": "code",
   "execution_count": 65,
   "id": "ad7d88f2",
   "metadata": {},
   "outputs": [],
   "source": [
    "from sklearn.model_selection import GridSearchCV\n",
    "rf_Grid = GridSearchCV(estimator = rf, param_grid = param_grid, cv = 3, verbose=2, n_jobs = 4)"
   ]
  },
  {
   "cell_type": "code",
   "execution_count": 66,
   "id": "6c98fa4e",
   "metadata": {},
   "outputs": [
    {
     "name": "stdout",
     "output_type": "stream",
     "text": [
      "Fitting 3 folds for each of 640 candidates, totalling 1920 fits\n"
     ]
    },
    {
     "data": {
      "text/plain": [
       "GridSearchCV(cv=3,\n",
       "             estimator=RandomForestClassifier(class_weight='balanced',\n",
       "                                              random_state=42),\n",
       "             n_jobs=4,\n",
       "             param_grid={'bootstrap': [True, False], 'max_depth': [2, 4],\n",
       "                         'max_features': ['auto', 'sqrt'],\n",
       "                         'min_samples_leaf': [1, 2],\n",
       "                         'min_samples_split': [2, 5],\n",
       "                         'n_estimators': [10, 25, 40, 55, 71, 86, 101, 116, 132,\n",
       "                                          147, 162, 177, 193, 208, 223, 238,\n",
       "                                          254, 269, 284, 300]},\n",
       "             verbose=2)"
      ]
     },
     "execution_count": 66,
     "metadata": {},
     "output_type": "execute_result"
    }
   ],
   "source": [
    "rf_Grid.fit(X_train, y_train)"
   ]
  },
  {
   "cell_type": "code",
   "execution_count": 69,
   "id": "89c5a175",
   "metadata": {},
   "outputs": [
    {
     "data": {
      "text/plain": [
       "{'bootstrap': True,\n",
       " 'max_depth': 4,\n",
       " 'max_features': 'auto',\n",
       " 'min_samples_leaf': 1,\n",
       " 'min_samples_split': 5,\n",
       " 'n_estimators': 40}"
      ]
     },
     "execution_count": 69,
     "metadata": {},
     "output_type": "execute_result"
    }
   ],
   "source": [
    "best_rf_params = rf_Grid.best_params_\n",
    "best_rf_params"
   ]
  },
  {
   "cell_type": "code",
   "execution_count": 70,
   "id": "40314b65",
   "metadata": {},
   "outputs": [],
   "source": [
    "rf_Model = rf_Grid.best_estimator_"
   ]
  },
  {
   "cell_type": "code",
   "execution_count": 71,
   "id": "b8f38312",
   "metadata": {},
   "outputs": [
    {
     "data": {
      "text/plain": [
       "RandomForestClassifier(class_weight='balanced', max_depth=4,\n",
       "                       min_samples_split=5, n_estimators=40, random_state=42)"
      ]
     },
     "execution_count": 71,
     "metadata": {},
     "output_type": "execute_result"
    }
   ],
   "source": [
    "rf_Model.fit(X_train,y_train)"
   ]
  },
  {
   "cell_type": "code",
   "execution_count": 72,
   "id": "0e1dc878",
   "metadata": {},
   "outputs": [
    {
     "data": {
      "text/plain": [
       "array([2.28549837e-04, 0.00000000e+00, 0.00000000e+00, 8.98224102e-03,\n",
       "       0.00000000e+00, 1.13502734e-03, 2.26605262e-03, 3.54538633e-04,\n",
       "       0.00000000e+00, 1.94402539e-04, 0.00000000e+00, 0.00000000e+00,\n",
       "       6.91730108e-04, 2.68240181e-03, 0.00000000e+00, 0.00000000e+00,\n",
       "       6.95254809e-04, 2.96265141e-04, 0.00000000e+00, 0.00000000e+00,\n",
       "       0.00000000e+00, 6.39569734e-04, 0.00000000e+00, 1.31955922e-03,\n",
       "       7.70693645e-04, 1.64234646e-03, 0.00000000e+00, 5.56085399e-04,\n",
       "       9.80316757e-03, 2.82568682e-04, 4.93906597e-04, 0.00000000e+00,\n",
       "       4.15365579e-04, 0.00000000e+00, 9.61770566e-03, 3.66809169e-04,\n",
       "       1.35456389e-04, 0.00000000e+00, 0.00000000e+00, 0.00000000e+00,\n",
       "       0.00000000e+00, 7.69801679e-04, 0.00000000e+00, 2.32432712e-03,\n",
       "       6.12463279e-04, 1.72315876e-03, 0.00000000e+00, 2.78370546e-04,\n",
       "       0.00000000e+00, 3.99981234e-04, 3.71260654e-04, 9.21605720e-04,\n",
       "       2.19824019e-04, 0.00000000e+00, 0.00000000e+00, 0.00000000e+00,\n",
       "       6.52765630e-03, 7.67623601e-04, 0.00000000e+00, 4.97467907e-04,\n",
       "       8.94493169e-04, 5.97703293e-04, 1.66203592e-03, 8.98646728e-04,\n",
       "       4.16060299e-04, 3.53348487e-03, 2.63214056e-02, 0.00000000e+00,\n",
       "       5.83413599e-04, 0.00000000e+00, 0.00000000e+00, 0.00000000e+00,\n",
       "       2.11670057e-03, 0.00000000e+00, 1.27364289e-02, 5.17295864e-05,\n",
       "       5.04233563e-04, 1.41083487e-02, 1.94863355e-03, 1.29684586e-02,\n",
       "       7.93548259e-04, 0.00000000e+00, 1.21279253e-03, 0.00000000e+00,\n",
       "       5.75940884e-04, 0.00000000e+00, 3.53817958e-04, 0.00000000e+00,\n",
       "       8.69323455e-04, 1.75471144e-03, 2.66092652e-02, 1.06093270e-02,\n",
       "       0.00000000e+00, 0.00000000e+00, 1.07636461e-02, 0.00000000e+00,\n",
       "       0.00000000e+00, 0.00000000e+00, 0.00000000e+00, 4.42854555e-04,\n",
       "       6.27514854e-04, 1.38807659e-03, 4.80271552e-02, 2.57737163e-03,\n",
       "       2.37252640e-03, 7.25788245e-04, 1.48071631e-02, 0.00000000e+00,\n",
       "       1.89535070e-03, 1.60880881e-03, 0.00000000e+00, 1.65237020e-03,\n",
       "       2.43551877e-03, 1.05147610e-03, 0.00000000e+00, 2.22422724e-04,\n",
       "       1.31399870e-03, 1.16282883e-02, 2.91906386e-03, 1.55434671e-04,\n",
       "       1.38894529e-03, 1.64885965e-02, 7.86064336e-04, 0.00000000e+00,\n",
       "       0.00000000e+00, 7.12279125e-04, 0.00000000e+00, 5.13965355e-04,\n",
       "       1.51705586e-03, 4.02518850e-04, 1.32913043e-02, 1.09451178e-02,\n",
       "       3.49953451e-02, 5.74886161e-02, 8.43692090e-03, 5.92773367e-03,\n",
       "       5.54486393e-02, 1.66431938e-02, 6.28818668e-02, 1.82793509e-02,\n",
       "       3.33881876e-03, 1.16818397e-02, 6.42435335e-02, 1.23182963e-01,\n",
       "       6.68225359e-02, 6.18596898e-02, 8.05449797e-03, 2.54879961e-02,\n",
       "       2.29331137e-02, 1.85289254e-02])"
      ]
     },
     "execution_count": 72,
     "metadata": {},
     "output_type": "execute_result"
    }
   ],
   "source": [
    "rf_Model.feature_importances_"
   ]
  },
  {
   "cell_type": "code",
   "execution_count": 73,
   "id": "f4f56d43",
   "metadata": {},
   "outputs": [],
   "source": [
    "imp_feat=pd.DataFrame({'Feature_Name' : X.columns.tolist(), 'Feature_Importance' : rf_Model.feature_importances_})"
   ]
  },
  {
   "cell_type": "code",
   "execution_count": 74,
   "id": "99b7ad3c",
   "metadata": {},
   "outputs": [],
   "source": [
    "imp_feat.sort_values(by = 'Feature_Importance', ascending=False, inplace = True)"
   ]
  },
  {
   "cell_type": "code",
   "execution_count": 75,
   "id": "e1c6f8db",
   "metadata": {},
   "outputs": [
    {
     "data": {
      "text/html": [
       "<div>\n",
       "<style scoped>\n",
       "    .dataframe tbody tr th:only-of-type {\n",
       "        vertical-align: middle;\n",
       "    }\n",
       "\n",
       "    .dataframe tbody tr th {\n",
       "        vertical-align: top;\n",
       "    }\n",
       "\n",
       "    .dataframe thead th {\n",
       "        text-align: right;\n",
       "    }\n",
       "</style>\n",
       "<table border=\"1\" class=\"dataframe\">\n",
       "  <thead>\n",
       "    <tr style=\"text-align: right;\">\n",
       "      <th></th>\n",
       "      <th>Feature_Name</th>\n",
       "      <th>Feature_Importance</th>\n",
       "    </tr>\n",
       "  </thead>\n",
       "  <tbody>\n",
       "    <tr>\n",
       "      <th>143</th>\n",
       "      <td>Q</td>\n",
       "      <td>0.123183</td>\n",
       "    </tr>\n",
       "    <tr>\n",
       "      <th>144</th>\n",
       "      <td>R</td>\n",
       "      <td>0.066823</td>\n",
       "    </tr>\n",
       "    <tr>\n",
       "      <th>142</th>\n",
       "      <td>P</td>\n",
       "      <td>0.064244</td>\n",
       "    </tr>\n",
       "    <tr>\n",
       "      <th>138</th>\n",
       "      <td>K</td>\n",
       "      <td>0.062882</td>\n",
       "    </tr>\n",
       "    <tr>\n",
       "      <th>145</th>\n",
       "      <td>S</td>\n",
       "      <td>0.061860</td>\n",
       "    </tr>\n",
       "    <tr>\n",
       "      <th>133</th>\n",
       "      <td>E</td>\n",
       "      <td>0.057489</td>\n",
       "    </tr>\n",
       "    <tr>\n",
       "      <th>136</th>\n",
       "      <td>H</td>\n",
       "      <td>0.055449</td>\n",
       "    </tr>\n",
       "    <tr>\n",
       "      <th>102</th>\n",
       "      <td>INADH010101</td>\n",
       "      <td>0.048027</td>\n",
       "    </tr>\n",
       "    <tr>\n",
       "      <th>132</th>\n",
       "      <td>C</td>\n",
       "      <td>0.034995</td>\n",
       "    </tr>\n",
       "    <tr>\n",
       "      <th>90</th>\n",
       "      <td>IROBB760105</td>\n",
       "      <td>0.026609</td>\n",
       "    </tr>\n",
       "    <tr>\n",
       "      <th>66</th>\n",
       "      <td>ILEVM760101</td>\n",
       "      <td>0.026321</td>\n",
       "    </tr>\n",
       "    <tr>\n",
       "      <th>147</th>\n",
       "      <td>V</td>\n",
       "      <td>0.025488</td>\n",
       "    </tr>\n",
       "    <tr>\n",
       "      <th>148</th>\n",
       "      <td>W</td>\n",
       "      <td>0.022933</td>\n",
       "    </tr>\n",
       "    <tr>\n",
       "      <th>149</th>\n",
       "      <td>Y</td>\n",
       "      <td>0.018529</td>\n",
       "    </tr>\n",
       "    <tr>\n",
       "      <th>139</th>\n",
       "      <td>L</td>\n",
       "      <td>0.018279</td>\n",
       "    </tr>\n",
       "    <tr>\n",
       "      <th>137</th>\n",
       "      <td>I</td>\n",
       "      <td>0.016643</td>\n",
       "    </tr>\n",
       "    <tr>\n",
       "      <th>121</th>\n",
       "      <td>IFASG890101</td>\n",
       "      <td>0.016489</td>\n",
       "    </tr>\n",
       "    <tr>\n",
       "      <th>106</th>\n",
       "      <td>IFUKS010102</td>\n",
       "      <td>0.014807</td>\n",
       "    </tr>\n",
       "    <tr>\n",
       "      <th>77</th>\n",
       "      <td>INISK860101</td>\n",
       "      <td>0.014108</td>\n",
       "    </tr>\n",
       "    <tr>\n",
       "      <th>130</th>\n",
       "      <td>A</td>\n",
       "      <td>0.013291</td>\n",
       "    </tr>\n",
       "    <tr>\n",
       "      <th>79</th>\n",
       "      <td>IOOBM850103</td>\n",
       "      <td>0.012968</td>\n",
       "    </tr>\n",
       "  </tbody>\n",
       "</table>\n",
       "</div>"
      ],
      "text/plain": [
       "    Feature_Name  Feature_Importance\n",
       "143            Q            0.123183\n",
       "144            R            0.066823\n",
       "142            P            0.064244\n",
       "138            K            0.062882\n",
       "145            S            0.061860\n",
       "133            E            0.057489\n",
       "136            H            0.055449\n",
       "102  INADH010101            0.048027\n",
       "132            C            0.034995\n",
       "90   IROBB760105            0.026609\n",
       "66   ILEVM760101            0.026321\n",
       "147            V            0.025488\n",
       "148            W            0.022933\n",
       "149            Y            0.018529\n",
       "139            L            0.018279\n",
       "137            I            0.016643\n",
       "121  IFASG890101            0.016489\n",
       "106  IFUKS010102            0.014807\n",
       "77   INISK860101            0.014108\n",
       "130            A            0.013291\n",
       "79   IOOBM850103            0.012968"
      ]
     },
     "execution_count": 75,
     "metadata": {},
     "output_type": "execute_result"
    }
   ],
   "source": [
    "imp_feat.head(21)"
   ]
  },
  {
   "cell_type": "code",
   "execution_count": 76,
   "id": "57d8c792",
   "metadata": {},
   "outputs": [],
   "source": [
    "imp_feat.to_csv('Carb_Feature_importance.csv', index = False)"
   ]
  },
  {
   "cell_type": "code",
   "execution_count": 77,
   "id": "7fc1a5a3",
   "metadata": {},
   "outputs": [],
   "source": [
    "y_train_prediction = rf_Model.predict(X_train)\n",
    "y_test_prediction = rf_Model.predict(X_test)"
   ]
  },
  {
   "cell_type": "code",
   "execution_count": 78,
   "id": "46e7847f",
   "metadata": {},
   "outputs": [
    {
     "name": "stdout",
     "output_type": "stream",
     "text": [
      "---------Train\n",
      "              precision    recall  f1-score   support\n",
      "\n",
      "           0       0.82      0.88      0.85       889\n",
      "           1       0.78      0.69      0.73       554\n",
      "\n",
      "    accuracy                           0.81      1443\n",
      "   macro avg       0.80      0.79      0.79      1443\n",
      "weighted avg       0.81      0.81      0.80      1443\n",
      "\n",
      "---------Test\n",
      "              precision    recall  f1-score   support\n",
      "\n",
      "           0       0.78      0.82      0.80       222\n",
      "           1       0.68      0.64      0.66       139\n",
      "\n",
      "    accuracy                           0.75       361\n",
      "   macro avg       0.73      0.73      0.73       361\n",
      "weighted avg       0.75      0.75      0.75       361\n",
      "\n"
     ]
    }
   ],
   "source": [
    "from sklearn.metrics import classification_report\n",
    "print ('---------Train')\n",
    "print(classification_report(y_train,y_train_prediction))\n",
    "print ('---------Test')\n",
    "print(classification_report(y_test,y_test_prediction))"
   ]
  },
  {
   "cell_type": "code",
   "execution_count": 79,
   "id": "cc117af6",
   "metadata": {},
   "outputs": [
    {
     "data": {
      "text/html": [
       "<div>\n",
       "<style scoped>\n",
       "    .dataframe tbody tr th:only-of-type {\n",
       "        vertical-align: middle;\n",
       "    }\n",
       "\n",
       "    .dataframe tbody tr th {\n",
       "        vertical-align: top;\n",
       "    }\n",
       "\n",
       "    .dataframe thead th {\n",
       "        text-align: right;\n",
       "    }\n",
       "</style>\n",
       "<table border=\"1\" class=\"dataframe\">\n",
       "  <thead>\n",
       "    <tr style=\"text-align: right;\">\n",
       "      <th></th>\n",
       "      <th>index</th>\n",
       "      <th>precision</th>\n",
       "      <th>recall</th>\n",
       "      <th>f1-score</th>\n",
       "      <th>support</th>\n",
       "      <th>Model</th>\n",
       "    </tr>\n",
       "  </thead>\n",
       "  <tbody>\n",
       "    <tr>\n",
       "      <th>0</th>\n",
       "      <td>0</td>\n",
       "      <td>0.821918</td>\n",
       "      <td>0.877390</td>\n",
       "      <td>0.848749</td>\n",
       "      <td>889.000000</td>\n",
       "      <td>Train</td>\n",
       "    </tr>\n",
       "    <tr>\n",
       "      <th>1</th>\n",
       "      <td>1</td>\n",
       "      <td>0.779352</td>\n",
       "      <td>0.694946</td>\n",
       "      <td>0.734733</td>\n",
       "      <td>554.000000</td>\n",
       "      <td>Train</td>\n",
       "    </tr>\n",
       "    <tr>\n",
       "      <th>2</th>\n",
       "      <td>accuracy</td>\n",
       "      <td>0.807346</td>\n",
       "      <td>0.807346</td>\n",
       "      <td>0.807346</td>\n",
       "      <td>0.807346</td>\n",
       "      <td>Train</td>\n",
       "    </tr>\n",
       "    <tr>\n",
       "      <th>3</th>\n",
       "      <td>macro avg</td>\n",
       "      <td>0.800635</td>\n",
       "      <td>0.786168</td>\n",
       "      <td>0.791741</td>\n",
       "      <td>1443.000000</td>\n",
       "      <td>Train</td>\n",
       "    </tr>\n",
       "    <tr>\n",
       "      <th>4</th>\n",
       "      <td>weighted avg</td>\n",
       "      <td>0.805576</td>\n",
       "      <td>0.807346</td>\n",
       "      <td>0.804975</td>\n",
       "      <td>1443.000000</td>\n",
       "      <td>Train</td>\n",
       "    </tr>\n",
       "    <tr>\n",
       "      <th>0</th>\n",
       "      <td>0</td>\n",
       "      <td>0.783550</td>\n",
       "      <td>0.815315</td>\n",
       "      <td>0.799117</td>\n",
       "      <td>222.000000</td>\n",
       "      <td>Test</td>\n",
       "    </tr>\n",
       "    <tr>\n",
       "      <th>1</th>\n",
       "      <td>1</td>\n",
       "      <td>0.684615</td>\n",
       "      <td>0.640288</td>\n",
       "      <td>0.661710</td>\n",
       "      <td>139.000000</td>\n",
       "      <td>Test</td>\n",
       "    </tr>\n",
       "    <tr>\n",
       "      <th>2</th>\n",
       "      <td>accuracy</td>\n",
       "      <td>0.747922</td>\n",
       "      <td>0.747922</td>\n",
       "      <td>0.747922</td>\n",
       "      <td>0.747922</td>\n",
       "      <td>Test</td>\n",
       "    </tr>\n",
       "    <tr>\n",
       "      <th>3</th>\n",
       "      <td>macro avg</td>\n",
       "      <td>0.734083</td>\n",
       "      <td>0.727802</td>\n",
       "      <td>0.730414</td>\n",
       "      <td>361.000000</td>\n",
       "      <td>Test</td>\n",
       "    </tr>\n",
       "    <tr>\n",
       "      <th>4</th>\n",
       "      <td>weighted avg</td>\n",
       "      <td>0.745456</td>\n",
       "      <td>0.747922</td>\n",
       "      <td>0.746210</td>\n",
       "      <td>361.000000</td>\n",
       "      <td>Test</td>\n",
       "    </tr>\n",
       "  </tbody>\n",
       "</table>\n",
       "</div>"
      ],
      "text/plain": [
       "          index  precision    recall  f1-score      support  Model\n",
       "0             0   0.821918  0.877390  0.848749   889.000000  Train\n",
       "1             1   0.779352  0.694946  0.734733   554.000000  Train\n",
       "2      accuracy   0.807346  0.807346  0.807346     0.807346  Train\n",
       "3     macro avg   0.800635  0.786168  0.791741  1443.000000  Train\n",
       "4  weighted avg   0.805576  0.807346  0.804975  1443.000000  Train\n",
       "0             0   0.783550  0.815315  0.799117   222.000000   Test\n",
       "1             1   0.684615  0.640288  0.661710   139.000000   Test\n",
       "2      accuracy   0.747922  0.747922  0.747922     0.747922   Test\n",
       "3     macro avg   0.734083  0.727802  0.730414   361.000000   Test\n",
       "4  weighted avg   0.745456  0.747922  0.746210   361.000000   Test"
      ]
     },
     "execution_count": 79,
     "metadata": {},
     "output_type": "execute_result"
    }
   ],
   "source": [
    "clf_report_train = pd.DataFrame(classification_report(y_train,y_train_prediction, output_dict=True)).transpose().reset_index()\n",
    "clf_report_train['Model'] = 'Train'\n",
    "\n",
    "clf_report_test = pd.DataFrame(classification_report(y_test,y_test_prediction, output_dict=True)).transpose().reset_index()\n",
    "clf_report_test['Model'] = 'Test'\n",
    "\n",
    "clf_report = pd.concat([clf_report_train,clf_report_test]) \n",
    "clf_report.to_csv('Carb_Clf_Report.csv', index = False)\n",
    "clf_report"
   ]
  },
  {
   "cell_type": "code",
   "execution_count": 80,
   "id": "488b2d23",
   "metadata": {},
   "outputs": [],
   "source": [
    "y_train_predpro = rf_Model.predict_proba(X_train)[:,1]\n",
    "y_test_predpro = rf_Model.predict_proba(X_test)[:,1]"
   ]
  },
  {
   "cell_type": "code",
   "execution_count": 81,
   "id": "63dccb75",
   "metadata": {},
   "outputs": [],
   "source": [
    "y_train_pred =rf_Model.predict(X)"
   ]
  },
  {
   "cell_type": "code",
   "execution_count": 82,
   "id": "087f82a3",
   "metadata": {},
   "outputs": [],
   "source": [
    "y_train_predpro = rf_Model.predict_proba(X)[:,1]"
   ]
  },
  {
   "cell_type": "code",
   "execution_count": 83,
   "id": "be364742",
   "metadata": {},
   "outputs": [
    {
     "data": {
      "text/plain": [
       "(1804, 155)"
      ]
     },
     "execution_count": 83,
     "metadata": {},
     "output_type": "execute_result"
    }
   ],
   "source": [
    "Carb_df.shape"
   ]
  },
  {
   "cell_type": "code",
   "execution_count": 84,
   "id": "4190de70",
   "metadata": {},
   "outputs": [
    {
     "name": "stderr",
     "output_type": "stream",
     "text": [
      "C:\\Users\\Senthil\\AppData\\Local\\Temp/ipykernel_9552/1345730106.py:1: SettingWithCopyWarning: \n",
      "A value is trying to be set on a copy of a slice from a DataFrame.\n",
      "Try using .loc[row_indexer,col_indexer] = value instead\n",
      "\n",
      "See the caveats in the documentation: https://pandas.pydata.org/pandas-docs/stable/user_guide/indexing.html#returning-a-view-versus-a-copy\n",
      "  Carb_df['y_train_pred']=y_train_pred\n"
     ]
    }
   ],
   "source": [
    "Carb_df['y_train_pred']=y_train_pred"
   ]
  },
  {
   "cell_type": "code",
   "execution_count": 85,
   "id": "d60462ea",
   "metadata": {},
   "outputs": [
    {
     "name": "stderr",
     "output_type": "stream",
     "text": [
      "C:\\Users\\Senthil\\AppData\\Local\\Temp/ipykernel_9552/4220024667.py:1: SettingWithCopyWarning: \n",
      "A value is trying to be set on a copy of a slice from a DataFrame.\n",
      "Try using .loc[row_indexer,col_indexer] = value instead\n",
      "\n",
      "See the caveats in the documentation: https://pandas.pydata.org/pandas-docs/stable/user_guide/indexing.html#returning-a-view-versus-a-copy\n",
      "  Carb_df['y_train_predpro']=y_train_predpro\n"
     ]
    }
   ],
   "source": [
    "Carb_df['y_train_predpro']=y_train_predpro"
   ]
  },
  {
   "cell_type": "code",
   "execution_count": 86,
   "id": "96116339",
   "metadata": {},
   "outputs": [
    {
     "data": {
      "text/html": [
       "<div>\n",
       "<style scoped>\n",
       "    .dataframe tbody tr th:only-of-type {\n",
       "        vertical-align: middle;\n",
       "    }\n",
       "\n",
       "    .dataframe tbody tr th {\n",
       "        vertical-align: top;\n",
       "    }\n",
       "\n",
       "    .dataframe thead th {\n",
       "        text-align: right;\n",
       "    }\n",
       "</style>\n",
       "<table border=\"1\" class=\"dataframe\">\n",
       "  <thead>\n",
       "    <tr style=\"text-align: right;\">\n",
       "      <th></th>\n",
       "      <th>Entry</th>\n",
       "      <th>Class</th>\n",
       "      <th>IK0</th>\n",
       "      <th>IHt</th>\n",
       "      <th>IHp</th>\n",
       "      <th>IP</th>\n",
       "      <th>IpHi</th>\n",
       "      <th>IpK'</th>\n",
       "      <th>IMw</th>\n",
       "      <th>IBl</th>\n",
       "      <th>...</th>\n",
       "      <th>Q</th>\n",
       "      <th>R</th>\n",
       "      <th>S</th>\n",
       "      <th>T</th>\n",
       "      <th>V</th>\n",
       "      <th>W</th>\n",
       "      <th>Y</th>\n",
       "      <th>target</th>\n",
       "      <th>y_train_pred</th>\n",
       "      <th>y_train_predpro</th>\n",
       "    </tr>\n",
       "  </thead>\n",
       "  <tbody>\n",
       "    <tr>\n",
       "      <th>0</th>\n",
       "      <td>Q59288</td>\n",
       "      <td>Carb</td>\n",
       "      <td>0.801014</td>\n",
       "      <td>0.523114</td>\n",
       "      <td>0.542629</td>\n",
       "      <td>0.467243</td>\n",
       "      <td>0.723957</td>\n",
       "      <td>1.299343</td>\n",
       "      <td>0.682029</td>\n",
       "      <td>1.020857</td>\n",
       "      <td>...</td>\n",
       "      <td>0.045714</td>\n",
       "      <td>0.038571</td>\n",
       "      <td>0.055714</td>\n",
       "      <td>0.054286</td>\n",
       "      <td>0.052857</td>\n",
       "      <td>0.022857</td>\n",
       "      <td>0.055714</td>\n",
       "      <td>0</td>\n",
       "      <td>0</td>\n",
       "      <td>0.462356</td>\n",
       "    </tr>\n",
       "    <tr>\n",
       "      <th>1</th>\n",
       "      <td>Q9I6P8</td>\n",
       "      <td>Carb</td>\n",
       "      <td>1.331853</td>\n",
       "      <td>0.869786</td>\n",
       "      <td>0.902233</td>\n",
       "      <td>0.776888</td>\n",
       "      <td>1.203729</td>\n",
       "      <td>2.160428</td>\n",
       "      <td>1.134014</td>\n",
       "      <td>1.697387</td>\n",
       "      <td>...</td>\n",
       "      <td>0.025714</td>\n",
       "      <td>0.050000</td>\n",
       "      <td>0.051429</td>\n",
       "      <td>0.024286</td>\n",
       "      <td>0.024286</td>\n",
       "      <td>0.012857</td>\n",
       "      <td>0.018571</td>\n",
       "      <td>0</td>\n",
       "      <td>0</td>\n",
       "      <td>0.494852</td>\n",
       "    </tr>\n",
       "    <tr>\n",
       "      <th>2</th>\n",
       "      <td>Q9IH62</td>\n",
       "      <td>Carb</td>\n",
       "      <td>0.931412</td>\n",
       "      <td>0.608272</td>\n",
       "      <td>0.630963</td>\n",
       "      <td>0.543306</td>\n",
       "      <td>0.841811</td>\n",
       "      <td>1.510864</td>\n",
       "      <td>0.793056</td>\n",
       "      <td>1.187043</td>\n",
       "      <td>...</td>\n",
       "      <td>0.035714</td>\n",
       "      <td>0.031429</td>\n",
       "      <td>0.072857</td>\n",
       "      <td>0.052857</td>\n",
       "      <td>0.058571</td>\n",
       "      <td>0.010000</td>\n",
       "      <td>0.035714</td>\n",
       "      <td>0</td>\n",
       "      <td>0</td>\n",
       "      <td>0.389467</td>\n",
       "    </tr>\n",
       "    <tr>\n",
       "      <th>3</th>\n",
       "      <td>P52799</td>\n",
       "      <td>Carb</td>\n",
       "      <td>1.683814</td>\n",
       "      <td>1.099640</td>\n",
       "      <td>1.140661</td>\n",
       "      <td>0.982192</td>\n",
       "      <td>1.521832</td>\n",
       "      <td>2.731351</td>\n",
       "      <td>1.433694</td>\n",
       "      <td>2.145946</td>\n",
       "      <td>...</td>\n",
       "      <td>0.018571</td>\n",
       "      <td>0.021429</td>\n",
       "      <td>0.045714</td>\n",
       "      <td>0.028571</td>\n",
       "      <td>0.031429</td>\n",
       "      <td>0.005714</td>\n",
       "      <td>0.021429</td>\n",
       "      <td>0</td>\n",
       "      <td>0</td>\n",
       "      <td>0.259918</td>\n",
       "    </tr>\n",
       "    <tr>\n",
       "      <th>4</th>\n",
       "      <td>P49354</td>\n",
       "      <td>Carb</td>\n",
       "      <td>1.479446</td>\n",
       "      <td>0.966174</td>\n",
       "      <td>1.002216</td>\n",
       "      <td>0.862982</td>\n",
       "      <td>1.337124</td>\n",
       "      <td>2.399842</td>\n",
       "      <td>1.259683</td>\n",
       "      <td>1.885488</td>\n",
       "      <td>...</td>\n",
       "      <td>0.041429</td>\n",
       "      <td>0.031429</td>\n",
       "      <td>0.027143</td>\n",
       "      <td>0.014286</td>\n",
       "      <td>0.034286</td>\n",
       "      <td>0.014286</td>\n",
       "      <td>0.027143</td>\n",
       "      <td>0</td>\n",
       "      <td>0</td>\n",
       "      <td>0.339959</td>\n",
       "    </tr>\n",
       "  </tbody>\n",
       "</table>\n",
       "<p>5 rows × 155 columns</p>\n",
       "</div>"
      ],
      "text/plain": [
       "    Entry Class       IK0       IHt       IHp        IP      IpHi      IpK'  \\\n",
       "0  Q59288  Carb  0.801014  0.523114  0.542629  0.467243  0.723957  1.299343   \n",
       "1  Q9I6P8  Carb  1.331853  0.869786  0.902233  0.776888  1.203729  2.160428   \n",
       "2  Q9IH62  Carb  0.931412  0.608272  0.630963  0.543306  0.841811  1.510864   \n",
       "3  P52799  Carb  1.683814  1.099640  1.140661  0.982192  1.521832  2.731351   \n",
       "4  P49354  Carb  1.479446  0.966174  1.002216  0.862982  1.337124  2.399842   \n",
       "\n",
       "        IMw       IBl  ...         Q         R         S         T         V  \\\n",
       "0  0.682029  1.020857  ...  0.045714  0.038571  0.055714  0.054286  0.052857   \n",
       "1  1.134014  1.697387  ...  0.025714  0.050000  0.051429  0.024286  0.024286   \n",
       "2  0.793056  1.187043  ...  0.035714  0.031429  0.072857  0.052857  0.058571   \n",
       "3  1.433694  2.145946  ...  0.018571  0.021429  0.045714  0.028571  0.031429   \n",
       "4  1.259683  1.885488  ...  0.041429  0.031429  0.027143  0.014286  0.034286   \n",
       "\n",
       "          W         Y  target  y_train_pred  y_train_predpro  \n",
       "0  0.022857  0.055714       0             0         0.462356  \n",
       "1  0.012857  0.018571       0             0         0.494852  \n",
       "2  0.010000  0.035714       0             0         0.389467  \n",
       "3  0.005714  0.021429       0             0         0.259918  \n",
       "4  0.014286  0.027143       0             0         0.339959  \n",
       "\n",
       "[5 rows x 155 columns]"
      ]
     },
     "execution_count": 86,
     "metadata": {},
     "output_type": "execute_result"
    }
   ],
   "source": [
    "Carb_df.head()"
   ]
  },
  {
   "cell_type": "code",
   "execution_count": 87,
   "id": "4b02dad2",
   "metadata": {
    "scrolled": false
   },
   "outputs": [
    {
     "name": "stderr",
     "output_type": "stream",
     "text": [
      "C:\\Users\\Senthil\\anaconda3\\lib\\site-packages\\sklearn\\utils\\deprecation.py:87: FutureWarning: Function plot_confusion_matrix is deprecated; Function `plot_confusion_matrix` is deprecated in 1.0 and will be removed in 1.2. Use one of the class methods: ConfusionMatrixDisplay.from_predictions or ConfusionMatrixDisplay.from_estimator.\n",
      "  warnings.warn(msg, category=FutureWarning)\n"
     ]
    },
    {
     "data": {
      "text/plain": [
       "<sklearn.metrics._plot.confusion_matrix.ConfusionMatrixDisplay at 0x1b474901d60>"
      ]
     },
     "execution_count": 87,
     "metadata": {},
     "output_type": "execute_result"
    },
    {
     "data": {
      "image/png": "[encoded data removed]",
      "text/plain": [
       "<Figure size 432x288 with 2 Axes>"
      ]
     },
     "metadata": {
      "needs_background": "light"
     },
     "output_type": "display_data"
    }
   ],
   "source": [
    "from sklearn.metrics import confusion_matrix, ConfusionMatrixDisplay, accuracy_score, plot_confusion_matrix, plot_roc_curve\n",
    "#confusion = confusion_matrix(X_test, y_test_pred)\n",
    "#cf=confusion_matrix(True label, Predicted label)\n",
    "#conf = confusion_matrix(y_test, y_train_pred)\n",
    "plot_confusion_matrix(rf_Model, X_test, y_test) "
   ]
  },
  {
   "cell_type": "code",
   "execution_count": 88,
   "id": "8521f21a",
   "metadata": {},
   "outputs": [
    {
     "data": {
      "text/plain": [
       "0.8828828828828829"
      ]
     },
     "execution_count": 88,
     "metadata": {},
     "output_type": "execute_result"
    }
   ],
   "source": [
    "sensitivity = 196/(196+26)\n",
    "sensitivity"
   ]
  },
  {
   "cell_type": "code",
   "execution_count": 89,
   "id": "c06d7a64",
   "metadata": {},
   "outputs": [
    {
     "data": {
      "text/plain": [
       "0.6762589928057554"
      ]
     },
     "execution_count": 89,
     "metadata": {},
     "output_type": "execute_result"
    }
   ],
   "source": [
    "specificity = 94/(45+94)\n",
    "specificity"
   ]
  },
  {
   "cell_type": "code",
   "execution_count": 90,
   "id": "496e8565",
   "metadata": {},
   "outputs": [
    {
     "data": {
      "text/plain": [
       "1.5591418756886384"
      ]
     },
     "execution_count": 90,
     "metadata": {},
     "output_type": "execute_result"
    }
   ],
   "source": [
    "sensitivity + specificity"
   ]
  },
  {
   "cell_type": "code",
   "execution_count": 91,
   "id": "22f58b57",
   "metadata": {},
   "outputs": [
    {
     "data": {
      "text/plain": [
       "0.8132780082987552"
      ]
     },
     "execution_count": 91,
     "metadata": {},
     "output_type": "execute_result"
    }
   ],
   "source": [
    "precision = 196/(196+45)\n",
    "precision"
   ]
  },
  {
   "cell_type": "code",
   "execution_count": 92,
   "id": "9dab126e",
   "metadata": {},
   "outputs": [
    {
     "data": {
      "text/plain": [
       "0.4233261339092872"
      ]
     },
     "execution_count": 92,
     "metadata": {},
     "output_type": "execute_result"
    }
   ],
   "source": [
    "f1 = (precision * sensitivity)/(precision+sensitivity)\n",
    "f1"
   ]
  },
  {
   "cell_type": "code",
   "execution_count": 93,
   "id": "aeb6406a",
   "metadata": {},
   "outputs": [
    {
     "name": "stderr",
     "output_type": "stream",
     "text": [
      "C:\\Users\\Senthil\\anaconda3\\lib\\site-packages\\sklearn\\utils\\deprecation.py:87: FutureWarning: Function plot_roc_curve is deprecated; Function :func:`plot_roc_curve` is deprecated in 1.0 and will be removed in 1.2. Use one of the class methods: :meth:`sklearn.metric.RocCurveDisplay.from_predictions` or :meth:`sklearn.metric.RocCurveDisplay.from_estimator`.\n",
      "  warnings.warn(msg, category=FutureWarning)\n"
     ]
    },
    {
     "data": {
      "text/plain": [
       "<sklearn.metrics._plot.roc_curve.RocCurveDisplay at 0x1b47497c910>"
      ]
     },
     "execution_count": 93,
     "metadata": {},
     "output_type": "execute_result"
    },
    {
     "data": {
      "image/png": "[encoded data removed]",
      "text/plain": [
       "<Figure size 432x288 with 1 Axes>"
      ]
     },
     "metadata": {
      "needs_background": "light"
     },
     "output_type": "display_data"
    }
   ],
   "source": [
    "plot_roc_curve(rf_Model, X_test, y_test) "
   ]
  },
  {
   "cell_type": "code",
   "execution_count": null,
   "id": "99dfcc0d",
   "metadata": {},
   "outputs": [],
   "source": []
  },
  {
   "cell_type": "code",
   "execution_count": null,
   "id": "7867c1f6",
   "metadata": {},
   "outputs": [],
   "source": []
  }
 ],
 "metadata": {
  "kernelspec": {
   "display_name": "Python 3 (ipykernel)",
   "language": "python",
   "name": "python3"
  },
  "language_info": {
   "codemirror_mode": {
    "name": "ipython",
    "version": 3
   },
   "file_extension": ".py",
   "mimetype": "text/x-python",
   "name": "python",
   "nbconvert_exporter": "python",
   "pygments_lexer": "ipython3",
   "version": "3.9.7"
  }
 },
 "nbformat": 4,
 "nbformat_minor": 5
}
