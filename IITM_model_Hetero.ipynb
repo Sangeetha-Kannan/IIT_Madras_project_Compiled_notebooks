{
 "cells": [
  {
   "cell_type": "code",
   "execution_count": 1,
   "id": "9fb4d917",
   "metadata": {},
   "outputs": [],
   "source": [
    "# importing necessary libraries\n",
    "import os\n",
    "import pandas as pd\n",
    "import numpy as np\n",
    "from pandas import DataFrame\n",
    "import matplotlib.pyplot as plt\n",
    "%matplotlib inline\n",
    "from sklearn import datasets\n",
    "from sklearn.metrics import confusion_matrix\n",
    "from sklearn.model_selection import train_test_split"
   ]
  },
  {
   "cell_type": "code",
   "execution_count": 2,
   "id": "97f8b7b2",
   "metadata": {},
   "outputs": [],
   "source": [
    "#loading dataset\n",
    "df = pd.read_csv(\"Final_nrd_Prop_compn.csv\")"
   ]
  },
  {
   "cell_type": "code",
   "execution_count": 3,
   "id": "873c3d5b",
   "metadata": {},
   "outputs": [
    {
     "data": {
      "text/html": [
       "<div>\n",
       "<style scoped>\n",
       "    .dataframe tbody tr th:only-of-type {\n",
       "        vertical-align: middle;\n",
       "    }\n",
       "\n",
       "    .dataframe tbody tr th {\n",
       "        vertical-align: top;\n",
       "    }\n",
       "\n",
       "    .dataframe thead th {\n",
       "        text-align: right;\n",
       "    }\n",
       "</style>\n",
       "<table border=\"1\" class=\"dataframe\">\n",
       "  <thead>\n",
       "    <tr style=\"text-align: right;\">\n",
       "      <th></th>\n",
       "      <th>Entry</th>\n",
       "      <th>Class</th>\n",
       "      <th>IK0</th>\n",
       "      <th>IHt</th>\n",
       "      <th>IHp</th>\n",
       "      <th>IP</th>\n",
       "      <th>IpHi</th>\n",
       "      <th>IpK'</th>\n",
       "      <th>IMw</th>\n",
       "      <th>IBl</th>\n",
       "      <th>...</th>\n",
       "      <th>M</th>\n",
       "      <th>N</th>\n",
       "      <th>P</th>\n",
       "      <th>Q</th>\n",
       "      <th>R</th>\n",
       "      <th>S</th>\n",
       "      <th>T</th>\n",
       "      <th>V</th>\n",
       "      <th>W</th>\n",
       "      <th>Y</th>\n",
       "    </tr>\n",
       "  </thead>\n",
       "  <tbody>\n",
       "    <tr>\n",
       "      <th>0</th>\n",
       "      <td>Q59288</td>\n",
       "      <td>Carb</td>\n",
       "      <td>0.801014</td>\n",
       "      <td>0.523114</td>\n",
       "      <td>0.542629</td>\n",
       "      <td>0.467243</td>\n",
       "      <td>0.723957</td>\n",
       "      <td>1.299343</td>\n",
       "      <td>0.682029</td>\n",
       "      <td>1.020857</td>\n",
       "      <td>...</td>\n",
       "      <td>0.018571</td>\n",
       "      <td>0.051429</td>\n",
       "      <td>0.041429</td>\n",
       "      <td>0.045714</td>\n",
       "      <td>0.038571</td>\n",
       "      <td>0.055714</td>\n",
       "      <td>0.054286</td>\n",
       "      <td>0.052857</td>\n",
       "      <td>0.022857</td>\n",
       "      <td>0.055714</td>\n",
       "    </tr>\n",
       "    <tr>\n",
       "      <th>1</th>\n",
       "      <td>Q9I6P8</td>\n",
       "      <td>Carb</td>\n",
       "      <td>1.331853</td>\n",
       "      <td>0.869786</td>\n",
       "      <td>0.902233</td>\n",
       "      <td>0.776888</td>\n",
       "      <td>1.203729</td>\n",
       "      <td>2.160428</td>\n",
       "      <td>1.134014</td>\n",
       "      <td>1.697387</td>\n",
       "      <td>...</td>\n",
       "      <td>0.008571</td>\n",
       "      <td>0.025714</td>\n",
       "      <td>0.018571</td>\n",
       "      <td>0.025714</td>\n",
       "      <td>0.050000</td>\n",
       "      <td>0.051429</td>\n",
       "      <td>0.024286</td>\n",
       "      <td>0.024286</td>\n",
       "      <td>0.012857</td>\n",
       "      <td>0.018571</td>\n",
       "    </tr>\n",
       "    <tr>\n",
       "      <th>2</th>\n",
       "      <td>Q9IH62</td>\n",
       "      <td>Carb</td>\n",
       "      <td>0.931412</td>\n",
       "      <td>0.608272</td>\n",
       "      <td>0.630963</td>\n",
       "      <td>0.543306</td>\n",
       "      <td>0.841811</td>\n",
       "      <td>1.510864</td>\n",
       "      <td>0.793056</td>\n",
       "      <td>1.187043</td>\n",
       "      <td>...</td>\n",
       "      <td>0.015714</td>\n",
       "      <td>0.064286</td>\n",
       "      <td>0.051429</td>\n",
       "      <td>0.035714</td>\n",
       "      <td>0.031429</td>\n",
       "      <td>0.072857</td>\n",
       "      <td>0.052857</td>\n",
       "      <td>0.058571</td>\n",
       "      <td>0.010000</td>\n",
       "      <td>0.035714</td>\n",
       "    </tr>\n",
       "    <tr>\n",
       "      <th>3</th>\n",
       "      <td>P52799</td>\n",
       "      <td>Carb</td>\n",
       "      <td>1.683814</td>\n",
       "      <td>1.099640</td>\n",
       "      <td>1.140661</td>\n",
       "      <td>0.982192</td>\n",
       "      <td>1.521832</td>\n",
       "      <td>2.731351</td>\n",
       "      <td>1.433694</td>\n",
       "      <td>2.145946</td>\n",
       "      <td>...</td>\n",
       "      <td>0.008571</td>\n",
       "      <td>0.025714</td>\n",
       "      <td>0.030000</td>\n",
       "      <td>0.018571</td>\n",
       "      <td>0.021429</td>\n",
       "      <td>0.045714</td>\n",
       "      <td>0.028571</td>\n",
       "      <td>0.031429</td>\n",
       "      <td>0.005714</td>\n",
       "      <td>0.021429</td>\n",
       "    </tr>\n",
       "    <tr>\n",
       "      <th>4</th>\n",
       "      <td>P49354</td>\n",
       "      <td>Carb</td>\n",
       "      <td>1.479446</td>\n",
       "      <td>0.966174</td>\n",
       "      <td>1.002216</td>\n",
       "      <td>0.862982</td>\n",
       "      <td>1.337124</td>\n",
       "      <td>2.399842</td>\n",
       "      <td>1.259683</td>\n",
       "      <td>1.885488</td>\n",
       "      <td>...</td>\n",
       "      <td>0.008571</td>\n",
       "      <td>0.032857</td>\n",
       "      <td>0.032857</td>\n",
       "      <td>0.041429</td>\n",
       "      <td>0.031429</td>\n",
       "      <td>0.027143</td>\n",
       "      <td>0.014286</td>\n",
       "      <td>0.034286</td>\n",
       "      <td>0.014286</td>\n",
       "      <td>0.027143</td>\n",
       "    </tr>\n",
       "  </tbody>\n",
       "</table>\n",
       "<p>5 rows × 152 columns</p>\n",
       "</div>"
      ],
      "text/plain": [
       "    Entry Class       IK0       IHt       IHp        IP      IpHi      IpK'  \\\n",
       "0  Q59288  Carb  0.801014  0.523114  0.542629  0.467243  0.723957  1.299343   \n",
       "1  Q9I6P8  Carb  1.331853  0.869786  0.902233  0.776888  1.203729  2.160428   \n",
       "2  Q9IH62  Carb  0.931412  0.608272  0.630963  0.543306  0.841811  1.510864   \n",
       "3  P52799  Carb  1.683814  1.099640  1.140661  0.982192  1.521832  2.731351   \n",
       "4  P49354  Carb  1.479446  0.966174  1.002216  0.862982  1.337124  2.399842   \n",
       "\n",
       "        IMw       IBl  ...         M         N         P         Q         R  \\\n",
       "0  0.682029  1.020857  ...  0.018571  0.051429  0.041429  0.045714  0.038571   \n",
       "1  1.134014  1.697387  ...  0.008571  0.025714  0.018571  0.025714  0.050000   \n",
       "2  0.793056  1.187043  ...  0.015714  0.064286  0.051429  0.035714  0.031429   \n",
       "3  1.433694  2.145946  ...  0.008571  0.025714  0.030000  0.018571  0.021429   \n",
       "4  1.259683  1.885488  ...  0.008571  0.032857  0.032857  0.041429  0.031429   \n",
       "\n",
       "          S         T         V         W         Y  \n",
       "0  0.055714  0.054286  0.052857  0.022857  0.055714  \n",
       "1  0.051429  0.024286  0.024286  0.012857  0.018571  \n",
       "2  0.072857  0.052857  0.058571  0.010000  0.035714  \n",
       "3  0.045714  0.028571  0.031429  0.005714  0.021429  \n",
       "4  0.027143  0.014286  0.034286  0.014286  0.027143  \n",
       "\n",
       "[5 rows x 152 columns]"
      ]
     },
     "execution_count": 3,
     "metadata": {},
     "output_type": "execute_result"
    }
   ],
   "source": [
    "df.head()"
   ]
  },
  {
   "cell_type": "code",
   "execution_count": 4,
   "id": "83512bda",
   "metadata": {},
   "outputs": [
    {
     "data": {
      "text/plain": [
       "(2747, 152)"
      ]
     },
     "execution_count": 4,
     "metadata": {},
     "output_type": "execute_result"
    }
   ],
   "source": [
    "df.shape"
   ]
  },
  {
   "cell_type": "code",
   "execution_count": 5,
   "id": "2c3ec3d2",
   "metadata": {},
   "outputs": [
    {
     "data": {
      "text/plain": [
       "Carb      1111\n",
       "CGC        693\n",
       "Hetero     500\n",
       "DNA        280\n",
       "RNA        163\n",
       "Name: Class, dtype: int64"
      ]
     },
     "execution_count": 5,
     "metadata": {},
     "output_type": "execute_result"
    }
   ],
   "source": [
    "df.Class.value_counts()"
   ]
  },
  {
   "cell_type": "code",
   "execution_count": 6,
   "id": "566140c6",
   "metadata": {},
   "outputs": [],
   "source": [
    "Hetero_df = df[(df['Class'] == 'Hetero') | (df['Class'] == 'CGC')]"
   ]
  },
  {
   "cell_type": "code",
   "execution_count": 7,
   "id": "e181e346",
   "metadata": {},
   "outputs": [],
   "source": [
    "#Carb_df"
   ]
  },
  {
   "cell_type": "code",
   "execution_count": 8,
   "id": "b62ab5f1",
   "metadata": {},
   "outputs": [
    {
     "name": "stderr",
     "output_type": "stream",
     "text": [
      "C:\\Users\\Senthil\\AppData\\Local\\Temp/ipykernel_15220/1469473897.py:1: SettingWithCopyWarning: \n",
      "A value is trying to be set on a copy of a slice from a DataFrame.\n",
      "Try using .loc[row_indexer,col_indexer] = value instead\n",
      "\n",
      "See the caveats in the documentation: https://pandas.pydata.org/pandas-docs/stable/user_guide/indexing.html#returning-a-view-versus-a-copy\n",
      "  Hetero_df[\"target\"] = np.where(Hetero_df[\"Class\"].str.contains(\"CGC\"), 1, 0)\n"
     ]
    }
   ],
   "source": [
    "Hetero_df[\"target\"] = np.where(Hetero_df[\"Class\"].str.contains(\"CGC\"), 1, 0)"
   ]
  },
  {
   "cell_type": "code",
   "execution_count": 9,
   "id": "863435fb",
   "metadata": {},
   "outputs": [
    {
     "data": {
      "text/html": [
       "<div>\n",
       "<style scoped>\n",
       "    .dataframe tbody tr th:only-of-type {\n",
       "        vertical-align: middle;\n",
       "    }\n",
       "\n",
       "    .dataframe tbody tr th {\n",
       "        vertical-align: top;\n",
       "    }\n",
       "\n",
       "    .dataframe thead th {\n",
       "        text-align: right;\n",
       "    }\n",
       "</style>\n",
       "<table border=\"1\" class=\"dataframe\">\n",
       "  <thead>\n",
       "    <tr style=\"text-align: right;\">\n",
       "      <th></th>\n",
       "      <th>Entry</th>\n",
       "      <th>Class</th>\n",
       "      <th>IK0</th>\n",
       "      <th>IHt</th>\n",
       "      <th>IHp</th>\n",
       "      <th>IP</th>\n",
       "      <th>IpHi</th>\n",
       "      <th>IpK'</th>\n",
       "      <th>IMw</th>\n",
       "      <th>IBl</th>\n",
       "      <th>...</th>\n",
       "      <th>N</th>\n",
       "      <th>P</th>\n",
       "      <th>Q</th>\n",
       "      <th>R</th>\n",
       "      <th>S</th>\n",
       "      <th>T</th>\n",
       "      <th>V</th>\n",
       "      <th>W</th>\n",
       "      <th>Y</th>\n",
       "      <th>target</th>\n",
       "    </tr>\n",
       "  </thead>\n",
       "  <tbody>\n",
       "    <tr>\n",
       "      <th>1111</th>\n",
       "      <td>Q9NQ94</td>\n",
       "      <td>CGC</td>\n",
       "      <td>0.943956</td>\n",
       "      <td>0.616465</td>\n",
       "      <td>0.639461</td>\n",
       "      <td>0.550623</td>\n",
       "      <td>0.853148</td>\n",
       "      <td>1.531212</td>\n",
       "      <td>0.803737</td>\n",
       "      <td>1.203030</td>\n",
       "      <td>...</td>\n",
       "      <td>0.034286</td>\n",
       "      <td>0.052857</td>\n",
       "      <td>0.032857</td>\n",
       "      <td>0.045714</td>\n",
       "      <td>0.034286</td>\n",
       "      <td>0.052857</td>\n",
       "      <td>0.058571</td>\n",
       "      <td>0.005714</td>\n",
       "      <td>0.044286</td>\n",
       "      <td>1</td>\n",
       "    </tr>\n",
       "    <tr>\n",
       "      <th>1112</th>\n",
       "      <td>P00519</td>\n",
       "      <td>CGC</td>\n",
       "      <td>0.496204</td>\n",
       "      <td>0.324053</td>\n",
       "      <td>0.336142</td>\n",
       "      <td>0.289442</td>\n",
       "      <td>0.448469</td>\n",
       "      <td>0.804903</td>\n",
       "      <td>0.422496</td>\n",
       "      <td>0.632389</td>\n",
       "      <td>...</td>\n",
       "      <td>0.057143</td>\n",
       "      <td>0.128571</td>\n",
       "      <td>0.047143</td>\n",
       "      <td>0.091429</td>\n",
       "      <td>0.171429</td>\n",
       "      <td>0.092857</td>\n",
       "      <td>0.088571</td>\n",
       "      <td>0.018571</td>\n",
       "      <td>0.042857</td>\n",
       "      <td>1</td>\n",
       "    </tr>\n",
       "    <tr>\n",
       "      <th>1113</th>\n",
       "      <td>P42684</td>\n",
       "      <td>CGC</td>\n",
       "      <td>0.474374</td>\n",
       "      <td>0.309797</td>\n",
       "      <td>0.321354</td>\n",
       "      <td>0.276709</td>\n",
       "      <td>0.428739</td>\n",
       "      <td>0.769492</td>\n",
       "      <td>0.403909</td>\n",
       "      <td>0.604569</td>\n",
       "      <td>...</td>\n",
       "      <td>0.060000</td>\n",
       "      <td>0.132857</td>\n",
       "      <td>0.064286</td>\n",
       "      <td>0.087143</td>\n",
       "      <td>0.160000</td>\n",
       "      <td>0.105714</td>\n",
       "      <td>0.105714</td>\n",
       "      <td>0.018571</td>\n",
       "      <td>0.047143</td>\n",
       "      <td>1</td>\n",
       "    </tr>\n",
       "    <tr>\n",
       "      <th>1114</th>\n",
       "      <td>P25106</td>\n",
       "      <td>CGC</td>\n",
       "      <td>1.548923</td>\n",
       "      <td>1.011547</td>\n",
       "      <td>1.049282</td>\n",
       "      <td>0.903508</td>\n",
       "      <td>1.399917</td>\n",
       "      <td>2.512541</td>\n",
       "      <td>1.318840</td>\n",
       "      <td>1.974033</td>\n",
       "      <td>...</td>\n",
       "      <td>0.021429</td>\n",
       "      <td>0.018571</td>\n",
       "      <td>0.008571</td>\n",
       "      <td>0.015714</td>\n",
       "      <td>0.051429</td>\n",
       "      <td>0.032857</td>\n",
       "      <td>0.055714</td>\n",
       "      <td>0.011429</td>\n",
       "      <td>0.028571</td>\n",
       "      <td>1</td>\n",
       "    </tr>\n",
       "    <tr>\n",
       "      <th>1115</th>\n",
       "      <td>O95573</td>\n",
       "      <td>CGC</td>\n",
       "      <td>0.778764</td>\n",
       "      <td>0.508583</td>\n",
       "      <td>0.527556</td>\n",
       "      <td>0.454264</td>\n",
       "      <td>0.703847</td>\n",
       "      <td>1.263250</td>\n",
       "      <td>0.663083</td>\n",
       "      <td>0.992500</td>\n",
       "      <td>...</td>\n",
       "      <td>0.052857</td>\n",
       "      <td>0.050000</td>\n",
       "      <td>0.028571</td>\n",
       "      <td>0.038571</td>\n",
       "      <td>0.070000</td>\n",
       "      <td>0.057143</td>\n",
       "      <td>0.062857</td>\n",
       "      <td>0.011429</td>\n",
       "      <td>0.041429</td>\n",
       "      <td>1</td>\n",
       "    </tr>\n",
       "  </tbody>\n",
       "</table>\n",
       "<p>5 rows × 153 columns</p>\n",
       "</div>"
      ],
      "text/plain": [
       "       Entry Class       IK0       IHt       IHp        IP      IpHi  \\\n",
       "1111  Q9NQ94   CGC  0.943956  0.616465  0.639461  0.550623  0.853148   \n",
       "1112  P00519   CGC  0.496204  0.324053  0.336142  0.289442  0.448469   \n",
       "1113  P42684   CGC  0.474374  0.309797  0.321354  0.276709  0.428739   \n",
       "1114  P25106   CGC  1.548923  1.011547  1.049282  0.903508  1.399917   \n",
       "1115  O95573   CGC  0.778764  0.508583  0.527556  0.454264  0.703847   \n",
       "\n",
       "          IpK'       IMw       IBl  ...         N         P         Q  \\\n",
       "1111  1.531212  0.803737  1.203030  ...  0.034286  0.052857  0.032857   \n",
       "1112  0.804903  0.422496  0.632389  ...  0.057143  0.128571  0.047143   \n",
       "1113  0.769492  0.403909  0.604569  ...  0.060000  0.132857  0.064286   \n",
       "1114  2.512541  1.318840  1.974033  ...  0.021429  0.018571  0.008571   \n",
       "1115  1.263250  0.663083  0.992500  ...  0.052857  0.050000  0.028571   \n",
       "\n",
       "             R         S         T         V         W         Y  target  \n",
       "1111  0.045714  0.034286  0.052857  0.058571  0.005714  0.044286       1  \n",
       "1112  0.091429  0.171429  0.092857  0.088571  0.018571  0.042857       1  \n",
       "1113  0.087143  0.160000  0.105714  0.105714  0.018571  0.047143       1  \n",
       "1114  0.015714  0.051429  0.032857  0.055714  0.011429  0.028571       1  \n",
       "1115  0.038571  0.070000  0.057143  0.062857  0.011429  0.041429       1  \n",
       "\n",
       "[5 rows x 153 columns]"
      ]
     },
     "execution_count": 9,
     "metadata": {},
     "output_type": "execute_result"
    }
   ],
   "source": [
    "Hetero_df.head()"
   ]
  },
  {
   "cell_type": "code",
   "execution_count": 10,
   "id": "4566fa5e",
   "metadata": {},
   "outputs": [],
   "source": [
    "# X -> features, y -> label\n",
    "y=Hetero_df['target']\n",
    "X=Hetero_df.drop(['Class','Entry','target'],axis=1)"
   ]
  },
  {
   "cell_type": "code",
   "execution_count": 11,
   "id": "bf203207",
   "metadata": {},
   "outputs": [
    {
     "name": "stdout",
     "output_type": "stream",
     "text": [
      "X : (1193, 150)\n"
     ]
    }
   ],
   "source": [
    "print(f'X : {X.shape}')"
   ]
  },
  {
   "cell_type": "code",
   "execution_count": 12,
   "id": "b6bc3527",
   "metadata": {},
   "outputs": [],
   "source": [
    "# dividing X, y into train and test data\n",
    "X_train, X_test, y_train, y_test = train_test_split(X, y, train_size=0.80, test_size=0.20, random_state = 230,stratify = y)"
   ]
  },
  {
   "cell_type": "code",
   "execution_count": 13,
   "id": "c2bc5f93",
   "metadata": {},
   "outputs": [
    {
     "name": "stdout",
     "output_type": "stream",
     "text": [
      "X_train: (954, 150)\n",
      "y_train: (954,)\n",
      "X_test: (239, 150)\n",
      "y_test: (239,)\n"
     ]
    }
   ],
   "source": [
    "print(f'X_train: {X_train.shape}')\n",
    "print(f'y_train: {y_train.shape}')\n",
    "print(f'X_test: {X_test.shape}')\n",
    "print(f'y_test: {y_test.shape}')     "
   ]
  },
  {
   "cell_type": "markdown",
   "id": "8d4bba59",
   "metadata": {},
   "source": [
    "# Random Forest"
   ]
  },
  {
   "cell_type": "code",
   "execution_count": 14,
   "id": "9fc42c66",
   "metadata": {},
   "outputs": [],
   "source": [
    "from sklearn.ensemble import RandomForestClassifier"
   ]
  },
  {
   "cell_type": "code",
   "execution_count": 15,
   "id": "d0089244",
   "metadata": {},
   "outputs": [],
   "source": [
    "n_estimators = [int(x) for x in np.linspace(start = 10, stop = 300, num = 20)]\n",
    "max_features = ['auto', 'sqrt']\n",
    "max_depth = [2,4]\n",
    "min_samples_split = [2, 5]\n",
    "min_samples_leaf = [1, 2]\n",
    "bootstrap = [True, False]"
   ]
  },
  {
   "cell_type": "code",
   "execution_count": 16,
   "id": "1d7e9968",
   "metadata": {},
   "outputs": [
    {
     "name": "stdout",
     "output_type": "stream",
     "text": [
      "{'n_estimators': [10, 25, 40, 55, 71, 86, 101, 116, 132, 147, 162, 177, 193, 208, 223, 238, 254, 269, 284, 300], 'max_features': ['auto', 'sqrt'], 'max_depth': [2, 4], 'min_samples_split': [2, 5], 'min_samples_leaf': [1, 2], 'bootstrap': [True, False]}\n"
     ]
    }
   ],
   "source": [
    "param_grid = {'n_estimators': n_estimators,\n",
    "               'max_features': max_features,\n",
    "               'max_depth': max_depth,\n",
    "               'min_samples_split': min_samples_split,\n",
    "               'min_samples_leaf': min_samples_leaf,\n",
    "               'bootstrap': bootstrap}\n",
    "print(param_grid)"
   ]
  },
  {
   "cell_type": "code",
   "execution_count": 47,
   "id": "28f24447",
   "metadata": {},
   "outputs": [],
   "source": [
    "rf= RandomForestClassifier(random_state=42, class_weight='balanced')"
   ]
  },
  {
   "cell_type": "code",
   "execution_count": 48,
   "id": "ad7d88f2",
   "metadata": {},
   "outputs": [],
   "source": [
    "from sklearn.model_selection import GridSearchCV\n",
    "rf_Grid = GridSearchCV(estimator = rf, param_grid = param_grid, cv = 3, verbose=2, n_jobs = 4)"
   ]
  },
  {
   "cell_type": "code",
   "execution_count": 49,
   "id": "6c98fa4e",
   "metadata": {},
   "outputs": [
    {
     "name": "stdout",
     "output_type": "stream",
     "text": [
      "Fitting 3 folds for each of 640 candidates, totalling 1920 fits\n"
     ]
    },
    {
     "data": {
      "text/plain": [
       "GridSearchCV(cv=3,\n",
       "             estimator=RandomForestClassifier(class_weight='balanced',\n",
       "                                              random_state=42),\n",
       "             n_jobs=4,\n",
       "             param_grid={'bootstrap': [True, False], 'max_depth': [2, 4],\n",
       "                         'max_features': ['auto', 'sqrt'],\n",
       "                         'min_samples_leaf': [1, 2],\n",
       "                         'min_samples_split': [2, 5],\n",
       "                         'n_estimators': [10, 25, 40, 55, 71, 86, 101, 116, 132,\n",
       "                                          147, 162, 177, 193, 208, 223, 238,\n",
       "                                          254, 269, 284, 300]},\n",
       "             verbose=2)"
      ]
     },
     "execution_count": 49,
     "metadata": {},
     "output_type": "execute_result"
    }
   ],
   "source": [
    "rf_Grid.fit(X_train, y_train)"
   ]
  },
  {
   "cell_type": "code",
   "execution_count": 50,
   "id": "89c5a175",
   "metadata": {},
   "outputs": [
    {
     "data": {
      "text/plain": [
       "{'bootstrap': False,\n",
       " 'max_depth': 4,\n",
       " 'max_features': 'auto',\n",
       " 'min_samples_leaf': 1,\n",
       " 'min_samples_split': 2,\n",
       " 'n_estimators': 116}"
      ]
     },
     "execution_count": 50,
     "metadata": {},
     "output_type": "execute_result"
    }
   ],
   "source": [
    "best_rf_params = rf_Grid.best_params_\n",
    "best_rf_params"
   ]
  },
  {
   "cell_type": "code",
   "execution_count": 51,
   "id": "6fb07db1",
   "metadata": {},
   "outputs": [],
   "source": [
    "rf_Model = rf_Grid.best_estimator_"
   ]
  },
  {
   "cell_type": "code",
   "execution_count": 52,
   "id": "9af202dc",
   "metadata": {},
   "outputs": [
    {
     "data": {
      "text/plain": [
       "RandomForestClassifier(bootstrap=False, class_weight='balanced', max_depth=4,\n",
       "                       n_estimators=116, random_state=42)"
      ]
     },
     "execution_count": 52,
     "metadata": {},
     "output_type": "execute_result"
    }
   ],
   "source": [
    "rf_Model.fit(X_train,y_train)"
   ]
  },
  {
   "cell_type": "code",
   "execution_count": 53,
   "id": "90c61c19",
   "metadata": {},
   "outputs": [
    {
     "data": {
      "text/plain": [
       "array([1.05321466e-03, 4.40034239e-03, 2.66624699e-03, 7.96024806e-03,\n",
       "       8.11001828e-03, 5.78169231e-03, 5.20980432e-03, 3.85907922e-03,\n",
       "       3.35916963e-03, 6.89319163e-06, 1.00467180e-03, 2.34487166e-03,\n",
       "       5.86730773e-03, 2.90734387e-03, 1.63816670e-04, 3.01996160e-03,\n",
       "       3.19210985e-04, 2.89206670e-03, 3.13783946e-03, 2.78555652e-03,\n",
       "       7.67967545e-04, 2.13653881e-03, 3.90852401e-03, 1.57861781e-03,\n",
       "       2.73705673e-03, 3.36194858e-03, 3.31619828e-03, 6.52823947e-03,\n",
       "       2.94775781e-03, 9.01111008e-04, 5.72216783e-03, 9.51478220e-05,\n",
       "       7.81149847e-03, 9.12122397e-04, 2.96768301e-03, 9.14837360e-05,\n",
       "       3.54409825e-03, 1.22228438e-03, 3.42845471e-03, 2.72593177e-03,\n",
       "       1.32777601e-04, 1.16077663e-03, 2.22411097e-03, 8.91975521e-04,\n",
       "       5.70529653e-03, 7.29294394e-03, 7.78332950e-03, 9.82983902e-04,\n",
       "       7.91342746e-04, 1.51185059e-03, 8.28040701e-03, 4.25207717e-03,\n",
       "       8.76334884e-04, 2.58207690e-03, 5.80252202e-03, 2.84930593e-03,\n",
       "       2.52509479e-03, 8.34021672e-04, 2.81142677e-03, 3.09540141e-03,\n",
       "       8.96815597e-03, 2.27358572e-04, 1.41763041e-03, 2.29567442e-04,\n",
       "       1.37634829e-03, 3.68984228e-03, 6.69606806e-03, 1.31037358e-03,\n",
       "       3.52744043e-04, 5.22552191e-03, 1.03094124e-03, 7.25330777e-03,\n",
       "       2.51081344e-03, 3.34260690e-03, 6.37945217e-03, 1.44872282e-05,\n",
       "       1.12902595e-02, 6.88002129e-03, 8.12048599e-03, 5.77514072e-03,\n",
       "       6.44639305e-04, 8.40693048e-03, 5.38866815e-04, 8.21573117e-03,\n",
       "       5.34714204e-04, 5.33415738e-03, 2.27410267e-03, 7.69424844e-03,\n",
       "       3.28818621e-03, 6.02285047e-04, 9.70508939e-03, 2.88232078e-03,\n",
       "       2.98012868e-03, 5.69275592e-03, 2.55598545e-03, 6.84686707e-03,\n",
       "       9.87237266e-05, 2.14497047e-03, 3.52753236e-03, 5.81107497e-03,\n",
       "       4.36360348e-03, 3.43803461e-03, 4.27312227e-03, 4.64970893e-03,\n",
       "       4.19316757e-03, 2.55445977e-03, 3.04543052e-03, 2.71436227e-03,\n",
       "       2.72860824e-03, 3.61648771e-04, 3.76274143e-03, 7.40776333e-04,\n",
       "       4.43746913e-04, 4.12691920e-03, 4.01824070e-03, 1.12659840e-02,\n",
       "       1.24151193e-02, 5.86399176e-03, 3.86683952e-03, 9.43130766e-04,\n",
       "       4.80614831e-03, 5.20464445e-03, 1.05641767e-03, 2.58681128e-03,\n",
       "       6.90423609e-03, 6.40712366e-04, 1.50093858e-03, 8.64853906e-03,\n",
       "       2.95381656e-03, 2.98564799e-03, 2.10209805e-02, 2.72297567e-02,\n",
       "       1.11026392e-02, 3.03445869e-02, 1.96736737e-02, 2.51101574e-02,\n",
       "       6.70934661e-02, 1.31047662e-02, 1.45093077e-02, 3.16250444e-02,\n",
       "       1.57987151e-02, 1.77952449e-02, 3.03403283e-02, 3.40271531e-02,\n",
       "       4.17209129e-02, 4.71355669e-02, 3.04576846e-02, 2.70403783e-02,\n",
       "       5.06108396e-03, 2.49403223e-02])"
      ]
     },
     "execution_count": 53,
     "metadata": {},
     "output_type": "execute_result"
    }
   ],
   "source": [
    "rf_Model.feature_importances_"
   ]
  },
  {
   "cell_type": "code",
   "execution_count": 54,
   "id": "d68b3b26",
   "metadata": {},
   "outputs": [],
   "source": [
    "imp_feat=pd.DataFrame({'Feature_Name' : X.columns.tolist(), 'Feature_Importance' : rf_Model.feature_importances_})"
   ]
  },
  {
   "cell_type": "code",
   "execution_count": 55,
   "id": "28d648d3",
   "metadata": {},
   "outputs": [],
   "source": [
    "imp_feat.sort_values(by = 'Feature_Importance', ascending=False, inplace = True)"
   ]
  },
  {
   "cell_type": "code",
   "execution_count": 56,
   "id": "6d9f9a91",
   "metadata": {},
   "outputs": [
    {
     "data": {
      "text/html": [
       "<div>\n",
       "<style scoped>\n",
       "    .dataframe tbody tr th:only-of-type {\n",
       "        vertical-align: middle;\n",
       "    }\n",
       "\n",
       "    .dataframe tbody tr th {\n",
       "        vertical-align: top;\n",
       "    }\n",
       "\n",
       "    .dataframe thead th {\n",
       "        text-align: right;\n",
       "    }\n",
       "</style>\n",
       "<table border=\"1\" class=\"dataframe\">\n",
       "  <thead>\n",
       "    <tr style=\"text-align: right;\">\n",
       "      <th></th>\n",
       "      <th>Feature_Name</th>\n",
       "      <th>Feature_Importance</th>\n",
       "    </tr>\n",
       "  </thead>\n",
       "  <tbody>\n",
       "    <tr>\n",
       "      <th>136</th>\n",
       "      <td>H</td>\n",
       "      <td>0.067093</td>\n",
       "    </tr>\n",
       "    <tr>\n",
       "      <th>145</th>\n",
       "      <td>S</td>\n",
       "      <td>0.047136</td>\n",
       "    </tr>\n",
       "    <tr>\n",
       "      <th>144</th>\n",
       "      <td>R</td>\n",
       "      <td>0.041721</td>\n",
       "    </tr>\n",
       "    <tr>\n",
       "      <th>143</th>\n",
       "      <td>Q</td>\n",
       "      <td>0.034027</td>\n",
       "    </tr>\n",
       "    <tr>\n",
       "      <th>139</th>\n",
       "      <td>L</td>\n",
       "      <td>0.031625</td>\n",
       "    </tr>\n",
       "    <tr>\n",
       "      <th>146</th>\n",
       "      <td>T</td>\n",
       "      <td>0.030458</td>\n",
       "    </tr>\n",
       "    <tr>\n",
       "      <th>133</th>\n",
       "      <td>E</td>\n",
       "      <td>0.030345</td>\n",
       "    </tr>\n",
       "    <tr>\n",
       "      <th>142</th>\n",
       "      <td>P</td>\n",
       "      <td>0.030340</td>\n",
       "    </tr>\n",
       "    <tr>\n",
       "      <th>131</th>\n",
       "      <td>D</td>\n",
       "      <td>0.027230</td>\n",
       "    </tr>\n",
       "    <tr>\n",
       "      <th>147</th>\n",
       "      <td>V</td>\n",
       "      <td>0.027040</td>\n",
       "    </tr>\n",
       "    <tr>\n",
       "      <th>135</th>\n",
       "      <td>G</td>\n",
       "      <td>0.025110</td>\n",
       "    </tr>\n",
       "    <tr>\n",
       "      <th>149</th>\n",
       "      <td>Y</td>\n",
       "      <td>0.024940</td>\n",
       "    </tr>\n",
       "    <tr>\n",
       "      <th>130</th>\n",
       "      <td>A</td>\n",
       "      <td>0.021021</td>\n",
       "    </tr>\n",
       "    <tr>\n",
       "      <th>134</th>\n",
       "      <td>F</td>\n",
       "      <td>0.019674</td>\n",
       "    </tr>\n",
       "    <tr>\n",
       "      <th>141</th>\n",
       "      <td>N</td>\n",
       "      <td>0.017795</td>\n",
       "    </tr>\n",
       "    <tr>\n",
       "      <th>140</th>\n",
       "      <td>M</td>\n",
       "      <td>0.015799</td>\n",
       "    </tr>\n",
       "    <tr>\n",
       "      <th>138</th>\n",
       "      <td>K</td>\n",
       "      <td>0.014509</td>\n",
       "    </tr>\n",
       "    <tr>\n",
       "      <th>137</th>\n",
       "      <td>I</td>\n",
       "      <td>0.013105</td>\n",
       "    </tr>\n",
       "    <tr>\n",
       "      <th>116</th>\n",
       "      <td>ICORJ870102</td>\n",
       "      <td>0.012415</td>\n",
       "    </tr>\n",
       "    <tr>\n",
       "      <th>76</th>\n",
       "      <td>IARGP820101</td>\n",
       "      <td>0.011290</td>\n",
       "    </tr>\n",
       "    <tr>\n",
       "      <th>115</th>\n",
       "      <td>IKIDA850101</td>\n",
       "      <td>0.011266</td>\n",
       "    </tr>\n",
       "  </tbody>\n",
       "</table>\n",
       "</div>"
      ],
      "text/plain": [
       "    Feature_Name  Feature_Importance\n",
       "136            H            0.067093\n",
       "145            S            0.047136\n",
       "144            R            0.041721\n",
       "143            Q            0.034027\n",
       "139            L            0.031625\n",
       "146            T            0.030458\n",
       "133            E            0.030345\n",
       "142            P            0.030340\n",
       "131            D            0.027230\n",
       "147            V            0.027040\n",
       "135            G            0.025110\n",
       "149            Y            0.024940\n",
       "130            A            0.021021\n",
       "134            F            0.019674\n",
       "141            N            0.017795\n",
       "140            M            0.015799\n",
       "138            K            0.014509\n",
       "137            I            0.013105\n",
       "116  ICORJ870102            0.012415\n",
       "76   IARGP820101            0.011290\n",
       "115  IKIDA850101            0.011266"
      ]
     },
     "execution_count": 56,
     "metadata": {},
     "output_type": "execute_result"
    }
   ],
   "source": [
    "imp_feat.head(21)"
   ]
  },
  {
   "cell_type": "code",
   "execution_count": 57,
   "id": "50eb9ccd",
   "metadata": {},
   "outputs": [],
   "source": [
    "imp_feat.to_csv('Hetero_Feature_importance.csv', index = False)"
   ]
  },
  {
   "cell_type": "code",
   "execution_count": 58,
   "id": "2340ddb9",
   "metadata": {},
   "outputs": [],
   "source": [
    "y_train_prediction = rf_Model.predict(X_train)\n",
    "y_test_prediction = rf_Model.predict(X_test)"
   ]
  },
  {
   "cell_type": "code",
   "execution_count": 59,
   "id": "fa68e9ad",
   "metadata": {},
   "outputs": [
    {
     "name": "stdout",
     "output_type": "stream",
     "text": [
      "---------Train\n",
      "              precision    recall  f1-score   support\n",
      "\n",
      "           0       0.85      0.79      0.82       400\n",
      "           1       0.85      0.90      0.88       554\n",
      "\n",
      "    accuracy                           0.85       954\n",
      "   macro avg       0.85      0.85      0.85       954\n",
      "weighted avg       0.85      0.85      0.85       954\n",
      "\n",
      "---------Test\n",
      "              precision    recall  f1-score   support\n",
      "\n",
      "           0       0.81      0.79      0.80       100\n",
      "           1       0.85      0.87      0.86       139\n",
      "\n",
      "    accuracy                           0.84       239\n",
      "   macro avg       0.83      0.83      0.83       239\n",
      "weighted avg       0.84      0.84      0.84       239\n",
      "\n"
     ]
    }
   ],
   "source": [
    "from sklearn.metrics import classification_report\n",
    "print ('---------Train')\n",
    "print(classification_report(y_train,y_train_prediction))\n",
    "print ('---------Test')\n",
    "print(classification_report(y_test,y_test_prediction))"
   ]
  },
  {
   "cell_type": "code",
   "execution_count": 60,
   "id": "384e760c",
   "metadata": {},
   "outputs": [
    {
     "data": {
      "text/html": [
       "<div>\n",
       "<style scoped>\n",
       "    .dataframe tbody tr th:only-of-type {\n",
       "        vertical-align: middle;\n",
       "    }\n",
       "\n",
       "    .dataframe tbody tr th {\n",
       "        vertical-align: top;\n",
       "    }\n",
       "\n",
       "    .dataframe thead th {\n",
       "        text-align: right;\n",
       "    }\n",
       "</style>\n",
       "<table border=\"1\" class=\"dataframe\">\n",
       "  <thead>\n",
       "    <tr style=\"text-align: right;\">\n",
       "      <th></th>\n",
       "      <th>index</th>\n",
       "      <th>precision</th>\n",
       "      <th>recall</th>\n",
       "      <th>f1-score</th>\n",
       "      <th>support</th>\n",
       "      <th>Model</th>\n",
       "    </tr>\n",
       "  </thead>\n",
       "  <tbody>\n",
       "    <tr>\n",
       "      <th>0</th>\n",
       "      <td>0</td>\n",
       "      <td>0.853659</td>\n",
       "      <td>0.787500</td>\n",
       "      <td>0.819246</td>\n",
       "      <td>400.000000</td>\n",
       "      <td>Train</td>\n",
       "    </tr>\n",
       "    <tr>\n",
       "      <th>1</th>\n",
       "      <td>1</td>\n",
       "      <td>0.854701</td>\n",
       "      <td>0.902527</td>\n",
       "      <td>0.877963</td>\n",
       "      <td>554.000000</td>\n",
       "      <td>Train</td>\n",
       "    </tr>\n",
       "    <tr>\n",
       "      <th>2</th>\n",
       "      <td>accuracy</td>\n",
       "      <td>0.854298</td>\n",
       "      <td>0.854298</td>\n",
       "      <td>0.854298</td>\n",
       "      <td>0.854298</td>\n",
       "      <td>Train</td>\n",
       "    </tr>\n",
       "    <tr>\n",
       "      <th>3</th>\n",
       "      <td>macro avg</td>\n",
       "      <td>0.854180</td>\n",
       "      <td>0.845014</td>\n",
       "      <td>0.848604</td>\n",
       "      <td>954.000000</td>\n",
       "      <td>Train</td>\n",
       "    </tr>\n",
       "    <tr>\n",
       "      <th>4</th>\n",
       "      <td>weighted avg</td>\n",
       "      <td>0.854264</td>\n",
       "      <td>0.854298</td>\n",
       "      <td>0.853344</td>\n",
       "      <td>954.000000</td>\n",
       "      <td>Train</td>\n",
       "    </tr>\n",
       "    <tr>\n",
       "      <th>0</th>\n",
       "      <td>0</td>\n",
       "      <td>0.814433</td>\n",
       "      <td>0.790000</td>\n",
       "      <td>0.802030</td>\n",
       "      <td>100.000000</td>\n",
       "      <td>Test</td>\n",
       "    </tr>\n",
       "    <tr>\n",
       "      <th>1</th>\n",
       "      <td>1</td>\n",
       "      <td>0.852113</td>\n",
       "      <td>0.870504</td>\n",
       "      <td>0.861210</td>\n",
       "      <td>139.000000</td>\n",
       "      <td>Test</td>\n",
       "    </tr>\n",
       "    <tr>\n",
       "      <th>2</th>\n",
       "      <td>accuracy</td>\n",
       "      <td>0.836820</td>\n",
       "      <td>0.836820</td>\n",
       "      <td>0.836820</td>\n",
       "      <td>0.836820</td>\n",
       "      <td>Test</td>\n",
       "    </tr>\n",
       "    <tr>\n",
       "      <th>3</th>\n",
       "      <td>macro avg</td>\n",
       "      <td>0.833273</td>\n",
       "      <td>0.830252</td>\n",
       "      <td>0.831620</td>\n",
       "      <td>239.000000</td>\n",
       "      <td>Test</td>\n",
       "    </tr>\n",
       "    <tr>\n",
       "      <th>4</th>\n",
       "      <td>weighted avg</td>\n",
       "      <td>0.836347</td>\n",
       "      <td>0.836820</td>\n",
       "      <td>0.836449</td>\n",
       "      <td>239.000000</td>\n",
       "      <td>Test</td>\n",
       "    </tr>\n",
       "  </tbody>\n",
       "</table>\n",
       "</div>"
      ],
      "text/plain": [
       "          index  precision    recall  f1-score     support  Model\n",
       "0             0   0.853659  0.787500  0.819246  400.000000  Train\n",
       "1             1   0.854701  0.902527  0.877963  554.000000  Train\n",
       "2      accuracy   0.854298  0.854298  0.854298    0.854298  Train\n",
       "3     macro avg   0.854180  0.845014  0.848604  954.000000  Train\n",
       "4  weighted avg   0.854264  0.854298  0.853344  954.000000  Train\n",
       "0             0   0.814433  0.790000  0.802030  100.000000   Test\n",
       "1             1   0.852113  0.870504  0.861210  139.000000   Test\n",
       "2      accuracy   0.836820  0.836820  0.836820    0.836820   Test\n",
       "3     macro avg   0.833273  0.830252  0.831620  239.000000   Test\n",
       "4  weighted avg   0.836347  0.836820  0.836449  239.000000   Test"
      ]
     },
     "execution_count": 60,
     "metadata": {},
     "output_type": "execute_result"
    }
   ],
   "source": [
    "clf_report_train = pd.DataFrame(classification_report(y_train,y_train_prediction, output_dict=True)).transpose().reset_index()\n",
    "clf_report_train['Model'] = 'Train'\n",
    "\n",
    "clf_report_test = pd.DataFrame(classification_report(y_test,y_test_prediction, output_dict=True)).transpose().reset_index()\n",
    "clf_report_test['Model'] = 'Test'\n",
    "\n",
    "clf_report = pd.concat([clf_report_train,clf_report_test]) \n",
    "clf_report.to_csv('Hetero_Clf_Report.csv', index = False)\n",
    "clf_report"
   ]
  },
  {
   "cell_type": "code",
   "execution_count": 61,
   "id": "08c342e1",
   "metadata": {},
   "outputs": [],
   "source": [
    "y_train_predpro = rf_Model.predict_proba(X_train)[:,1]\n",
    "y_test_predpro = rf_Model.predict_proba(X_test)[:,1]"
   ]
  },
  {
   "cell_type": "code",
   "execution_count": 62,
   "id": "e00243d4",
   "metadata": {},
   "outputs": [],
   "source": [
    "y_train_pred =rf_Model.predict(X)"
   ]
  },
  {
   "cell_type": "code",
   "execution_count": 63,
   "id": "90b1cdbd",
   "metadata": {},
   "outputs": [],
   "source": [
    "y_train_predpro = rf_Model.predict_proba(X)[:,1]"
   ]
  },
  {
   "cell_type": "code",
   "execution_count": 64,
   "id": "f066f772",
   "metadata": {},
   "outputs": [
    {
     "data": {
      "text/plain": [
       "(1193, 155)"
      ]
     },
     "execution_count": 64,
     "metadata": {},
     "output_type": "execute_result"
    }
   ],
   "source": [
    "Hetero_df.shape"
   ]
  },
  {
   "cell_type": "code",
   "execution_count": 65,
   "id": "98924df4",
   "metadata": {},
   "outputs": [
    {
     "name": "stderr",
     "output_type": "stream",
     "text": [
      "C:\\Users\\Senthil\\AppData\\Local\\Temp/ipykernel_15220/3246592019.py:1: SettingWithCopyWarning: \n",
      "A value is trying to be set on a copy of a slice from a DataFrame.\n",
      "Try using .loc[row_indexer,col_indexer] = value instead\n",
      "\n",
      "See the caveats in the documentation: https://pandas.pydata.org/pandas-docs/stable/user_guide/indexing.html#returning-a-view-versus-a-copy\n",
      "  Hetero_df['y_train_pred']=y_train_pred\n"
     ]
    }
   ],
   "source": [
    "Hetero_df['y_train_pred']=y_train_pred"
   ]
  },
  {
   "cell_type": "code",
   "execution_count": 66,
   "id": "e6d92983",
   "metadata": {},
   "outputs": [
    {
     "name": "stderr",
     "output_type": "stream",
     "text": [
      "C:\\Users\\Senthil\\AppData\\Local\\Temp/ipykernel_15220/3777815116.py:1: SettingWithCopyWarning: \n",
      "A value is trying to be set on a copy of a slice from a DataFrame.\n",
      "Try using .loc[row_indexer,col_indexer] = value instead\n",
      "\n",
      "See the caveats in the documentation: https://pandas.pydata.org/pandas-docs/stable/user_guide/indexing.html#returning-a-view-versus-a-copy\n",
      "  Hetero_df['y_train_predpro']=y_train_predpro\n"
     ]
    }
   ],
   "source": [
    "Hetero_df['y_train_predpro']=y_train_predpro"
   ]
  },
  {
   "cell_type": "code",
   "execution_count": 67,
   "id": "7ff8ebeb",
   "metadata": {},
   "outputs": [
    {
     "data": {
      "text/html": [
       "<div>\n",
       "<style scoped>\n",
       "    .dataframe tbody tr th:only-of-type {\n",
       "        vertical-align: middle;\n",
       "    }\n",
       "\n",
       "    .dataframe tbody tr th {\n",
       "        vertical-align: top;\n",
       "    }\n",
       "\n",
       "    .dataframe thead th {\n",
       "        text-align: right;\n",
       "    }\n",
       "</style>\n",
       "<table border=\"1\" class=\"dataframe\">\n",
       "  <thead>\n",
       "    <tr style=\"text-align: right;\">\n",
       "      <th></th>\n",
       "      <th>Entry</th>\n",
       "      <th>Class</th>\n",
       "      <th>IK0</th>\n",
       "      <th>IHt</th>\n",
       "      <th>IHp</th>\n",
       "      <th>IP</th>\n",
       "      <th>IpHi</th>\n",
       "      <th>IpK'</th>\n",
       "      <th>IMw</th>\n",
       "      <th>IBl</th>\n",
       "      <th>...</th>\n",
       "      <th>Q</th>\n",
       "      <th>R</th>\n",
       "      <th>S</th>\n",
       "      <th>T</th>\n",
       "      <th>V</th>\n",
       "      <th>W</th>\n",
       "      <th>Y</th>\n",
       "      <th>target</th>\n",
       "      <th>y_train_pred</th>\n",
       "      <th>y_train_predpro</th>\n",
       "    </tr>\n",
       "  </thead>\n",
       "  <tbody>\n",
       "    <tr>\n",
       "      <th>1111</th>\n",
       "      <td>Q9NQ94</td>\n",
       "      <td>CGC</td>\n",
       "      <td>0.943956</td>\n",
       "      <td>0.616465</td>\n",
       "      <td>0.639461</td>\n",
       "      <td>0.550623</td>\n",
       "      <td>0.853148</td>\n",
       "      <td>1.531212</td>\n",
       "      <td>0.803737</td>\n",
       "      <td>1.203030</td>\n",
       "      <td>...</td>\n",
       "      <td>0.032857</td>\n",
       "      <td>0.045714</td>\n",
       "      <td>0.034286</td>\n",
       "      <td>0.052857</td>\n",
       "      <td>0.058571</td>\n",
       "      <td>0.005714</td>\n",
       "      <td>0.044286</td>\n",
       "      <td>1</td>\n",
       "      <td>1</td>\n",
       "      <td>0.630700</td>\n",
       "    </tr>\n",
       "    <tr>\n",
       "      <th>1112</th>\n",
       "      <td>P00519</td>\n",
       "      <td>CGC</td>\n",
       "      <td>0.496204</td>\n",
       "      <td>0.324053</td>\n",
       "      <td>0.336142</td>\n",
       "      <td>0.289442</td>\n",
       "      <td>0.448469</td>\n",
       "      <td>0.804903</td>\n",
       "      <td>0.422496</td>\n",
       "      <td>0.632389</td>\n",
       "      <td>...</td>\n",
       "      <td>0.047143</td>\n",
       "      <td>0.091429</td>\n",
       "      <td>0.171429</td>\n",
       "      <td>0.092857</td>\n",
       "      <td>0.088571</td>\n",
       "      <td>0.018571</td>\n",
       "      <td>0.042857</td>\n",
       "      <td>1</td>\n",
       "      <td>1</td>\n",
       "      <td>0.796808</td>\n",
       "    </tr>\n",
       "    <tr>\n",
       "      <th>1113</th>\n",
       "      <td>P42684</td>\n",
       "      <td>CGC</td>\n",
       "      <td>0.474374</td>\n",
       "      <td>0.309797</td>\n",
       "      <td>0.321354</td>\n",
       "      <td>0.276709</td>\n",
       "      <td>0.428739</td>\n",
       "      <td>0.769492</td>\n",
       "      <td>0.403909</td>\n",
       "      <td>0.604569</td>\n",
       "      <td>...</td>\n",
       "      <td>0.064286</td>\n",
       "      <td>0.087143</td>\n",
       "      <td>0.160000</td>\n",
       "      <td>0.105714</td>\n",
       "      <td>0.105714</td>\n",
       "      <td>0.018571</td>\n",
       "      <td>0.047143</td>\n",
       "      <td>1</td>\n",
       "      <td>1</td>\n",
       "      <td>0.796808</td>\n",
       "    </tr>\n",
       "    <tr>\n",
       "      <th>1114</th>\n",
       "      <td>P25106</td>\n",
       "      <td>CGC</td>\n",
       "      <td>1.548923</td>\n",
       "      <td>1.011547</td>\n",
       "      <td>1.049282</td>\n",
       "      <td>0.903508</td>\n",
       "      <td>1.399917</td>\n",
       "      <td>2.512541</td>\n",
       "      <td>1.318840</td>\n",
       "      <td>1.974033</td>\n",
       "      <td>...</td>\n",
       "      <td>0.008571</td>\n",
       "      <td>0.015714</td>\n",
       "      <td>0.051429</td>\n",
       "      <td>0.032857</td>\n",
       "      <td>0.055714</td>\n",
       "      <td>0.011429</td>\n",
       "      <td>0.028571</td>\n",
       "      <td>1</td>\n",
       "      <td>1</td>\n",
       "      <td>0.537822</td>\n",
       "    </tr>\n",
       "    <tr>\n",
       "      <th>1115</th>\n",
       "      <td>O95573</td>\n",
       "      <td>CGC</td>\n",
       "      <td>0.778764</td>\n",
       "      <td>0.508583</td>\n",
       "      <td>0.527556</td>\n",
       "      <td>0.454264</td>\n",
       "      <td>0.703847</td>\n",
       "      <td>1.263250</td>\n",
       "      <td>0.663083</td>\n",
       "      <td>0.992500</td>\n",
       "      <td>...</td>\n",
       "      <td>0.028571</td>\n",
       "      <td>0.038571</td>\n",
       "      <td>0.070000</td>\n",
       "      <td>0.057143</td>\n",
       "      <td>0.062857</td>\n",
       "      <td>0.011429</td>\n",
       "      <td>0.041429</td>\n",
       "      <td>1</td>\n",
       "      <td>1</td>\n",
       "      <td>0.763457</td>\n",
       "    </tr>\n",
       "  </tbody>\n",
       "</table>\n",
       "<p>5 rows × 155 columns</p>\n",
       "</div>"
      ],
      "text/plain": [
       "       Entry Class       IK0       IHt       IHp        IP      IpHi  \\\n",
       "1111  Q9NQ94   CGC  0.943956  0.616465  0.639461  0.550623  0.853148   \n",
       "1112  P00519   CGC  0.496204  0.324053  0.336142  0.289442  0.448469   \n",
       "1113  P42684   CGC  0.474374  0.309797  0.321354  0.276709  0.428739   \n",
       "1114  P25106   CGC  1.548923  1.011547  1.049282  0.903508  1.399917   \n",
       "1115  O95573   CGC  0.778764  0.508583  0.527556  0.454264  0.703847   \n",
       "\n",
       "          IpK'       IMw       IBl  ...         Q         R         S  \\\n",
       "1111  1.531212  0.803737  1.203030  ...  0.032857  0.045714  0.034286   \n",
       "1112  0.804903  0.422496  0.632389  ...  0.047143  0.091429  0.171429   \n",
       "1113  0.769492  0.403909  0.604569  ...  0.064286  0.087143  0.160000   \n",
       "1114  2.512541  1.318840  1.974033  ...  0.008571  0.015714  0.051429   \n",
       "1115  1.263250  0.663083  0.992500  ...  0.028571  0.038571  0.070000   \n",
       "\n",
       "             T         V         W         Y  target  y_train_pred  \\\n",
       "1111  0.052857  0.058571  0.005714  0.044286       1             1   \n",
       "1112  0.092857  0.088571  0.018571  0.042857       1             1   \n",
       "1113  0.105714  0.105714  0.018571  0.047143       1             1   \n",
       "1114  0.032857  0.055714  0.011429  0.028571       1             1   \n",
       "1115  0.057143  0.062857  0.011429  0.041429       1             1   \n",
       "\n",
       "      y_train_predpro  \n",
       "1111         0.630700  \n",
       "1112         0.796808  \n",
       "1113         0.796808  \n",
       "1114         0.537822  \n",
       "1115         0.763457  \n",
       "\n",
       "[5 rows x 155 columns]"
      ]
     },
     "execution_count": 67,
     "metadata": {},
     "output_type": "execute_result"
    }
   ],
   "source": [
    "Hetero_df.head()"
   ]
  },
  {
   "cell_type": "code",
   "execution_count": 68,
   "id": "12f2ef47",
   "metadata": {},
   "outputs": [
    {
     "name": "stderr",
     "output_type": "stream",
     "text": [
      "C:\\Users\\Senthil\\anaconda3\\lib\\site-packages\\sklearn\\utils\\deprecation.py:87: FutureWarning: Function plot_confusion_matrix is deprecated; Function `plot_confusion_matrix` is deprecated in 1.0 and will be removed in 1.2. Use one of the class methods: ConfusionMatrixDisplay.from_predictions or ConfusionMatrixDisplay.from_estimator.\n",
      "  warnings.warn(msg, category=FutureWarning)\n"
     ]
    },
    {
     "data": {
      "text/plain": [
       "<sklearn.metrics._plot.confusion_matrix.ConfusionMatrixDisplay at 0x23759ea5e20>"
      ]
     },
     "execution_count": 68,
     "metadata": {},
     "output_type": "execute_result"
    },
    {
     "data": {
      "image/png": "[encoded data removed]",
      "text/plain": [
       "<Figure size 432x288 with 2 Axes>"
      ]
     },
     "metadata": {
      "needs_background": "light"
     },
     "output_type": "display_data"
    }
   ],
   "source": [
    "from sklearn.metrics import confusion_matrix, ConfusionMatrixDisplay, accuracy_score, plot_confusion_matrix, plot_roc_curve\n",
    "plot_confusion_matrix(rf_Model, X_test, y_test)"
   ]
  },
  {
   "cell_type": "code",
   "execution_count": 69,
   "id": "e22ae5dd",
   "metadata": {},
   "outputs": [
    {
     "data": {
      "text/plain": [
       "0.76"
      ]
     },
     "execution_count": 69,
     "metadata": {},
     "output_type": "execute_result"
    }
   ],
   "source": [
    "sensitivity = 76/(76+24)\n",
    "sensitivity"
   ]
  },
  {
   "cell_type": "code",
   "execution_count": 70,
   "id": "5e86afa8",
   "metadata": {},
   "outputs": [
    {
     "data": {
      "text/plain": [
       "0.9496402877697842"
      ]
     },
     "execution_count": 70,
     "metadata": {},
     "output_type": "execute_result"
    }
   ],
   "source": [
    "specificity = 132/(132+7)\n",
    "specificity"
   ]
  },
  {
   "cell_type": "code",
   "execution_count": 71,
   "id": "2c6dcf54",
   "metadata": {},
   "outputs": [
    {
     "data": {
      "text/plain": [
       "1.7096402877697843"
      ]
     },
     "execution_count": 71,
     "metadata": {},
     "output_type": "execute_result"
    }
   ],
   "source": [
    "sensitivity+specificity"
   ]
  },
  {
   "cell_type": "code",
   "execution_count": 72,
   "id": "5c4b41e5",
   "metadata": {},
   "outputs": [
    {
     "data": {
      "text/plain": [
       "0.9156626506024096"
      ]
     },
     "execution_count": 72,
     "metadata": {},
     "output_type": "execute_result"
    }
   ],
   "source": [
    "precision = 76/(76+7)\n",
    "precision"
   ]
  },
  {
   "cell_type": "code",
   "execution_count": 73,
   "id": "18ef98f8",
   "metadata": {},
   "outputs": [
    {
     "data": {
      "text/plain": [
       "0.4153005464480874"
      ]
     },
     "execution_count": 73,
     "metadata": {},
     "output_type": "execute_result"
    }
   ],
   "source": [
    "f1 = (precision * sensitivity)/(precision+sensitivity)\n",
    "f1"
   ]
  },
  {
   "cell_type": "code",
   "execution_count": 74,
   "id": "6de25c17",
   "metadata": {},
   "outputs": [
    {
     "name": "stderr",
     "output_type": "stream",
     "text": [
      "C:\\Users\\Senthil\\anaconda3\\lib\\site-packages\\sklearn\\utils\\deprecation.py:87: FutureWarning: Function plot_roc_curve is deprecated; Function :func:`plot_roc_curve` is deprecated in 1.0 and will be removed in 1.2. Use one of the class methods: :meth:`sklearn.metric.RocCurveDisplay.from_predictions` or :meth:`sklearn.metric.RocCurveDisplay.from_estimator`.\n",
      "  warnings.warn(msg, category=FutureWarning)\n"
     ]
    },
    {
     "data": {
      "text/plain": [
       "<sklearn.metrics._plot.roc_curve.RocCurveDisplay at 0x23759f01a60>"
      ]
     },
     "execution_count": 74,
     "metadata": {},
     "output_type": "execute_result"
    },
    {
     "data": {
      "image/png": "[encoded data removed]",
      "text/plain": [
       "<Figure size 432x288 with 1 Axes>"
      ]
     },
     "metadata": {
      "needs_background": "light"
     },
     "output_type": "display_data"
    }
   ],
   "source": [
    "plot_roc_curve(rf_Model, X_test, y_test) "
   ]
  },
  {
   "cell_type": "code",
   "execution_count": null,
   "id": "2b79daf6",
   "metadata": {},
   "outputs": [],
   "source": []
  },
  {
   "cell_type": "code",
   "execution_count": null,
   "id": "c98fd53a",
   "metadata": {},
   "outputs": [],
   "source": []
  }
 ],
 "metadata": {
  "kernelspec": {
   "display_name": "Python 3 (ipykernel)",
   "language": "python",
   "name": "python3"
  },
  "language_info": {
   "codemirror_mode": {
    "name": "ipython",
    "version": 3
   },
   "file_extension": ".py",
   "mimetype": "text/x-python",
   "name": "python",
   "nbconvert_exporter": "python",
   "pygments_lexer": "ipython3",
   "version": "3.9.7"
  }
 },
 "nbformat": 4,
 "nbformat_minor": 5
}
