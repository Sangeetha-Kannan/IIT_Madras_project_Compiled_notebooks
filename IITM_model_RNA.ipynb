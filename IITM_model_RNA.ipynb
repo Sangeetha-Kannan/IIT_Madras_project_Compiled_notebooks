{
 "cells": [
  {
   "cell_type": "code",
   "execution_count": 48,
   "id": "9fb4d917",
   "metadata": {},
   "outputs": [],
   "source": [
    "# importing necessary libraries\n",
    "import os\n",
    "import pandas as pd\n",
    "import numpy as np\n",
    "from pandas import DataFrame\n",
    "import matplotlib.pyplot as plt\n",
    "%matplotlib inline\n",
    "from sklearn import datasets\n",
    "from sklearn.metrics import confusion_matrix\n",
    "from sklearn.model_selection import train_test_split"
   ]
  },
  {
   "cell_type": "code",
   "execution_count": 49,
   "id": "97f8b7b2",
   "metadata": {},
   "outputs": [],
   "source": [
    "#loading dataset\n",
    "df = pd.read_csv(\"Final_nrd_Prop_compn.csv\")"
   ]
  },
  {
   "cell_type": "code",
   "execution_count": 50,
   "id": "873c3d5b",
   "metadata": {},
   "outputs": [
    {
     "data": {
      "text/html": [
       "<div>\n",
       "<style scoped>\n",
       "    .dataframe tbody tr th:only-of-type {\n",
       "        vertical-align: middle;\n",
       "    }\n",
       "\n",
       "    .dataframe tbody tr th {\n",
       "        vertical-align: top;\n",
       "    }\n",
       "\n",
       "    .dataframe thead th {\n",
       "        text-align: right;\n",
       "    }\n",
       "</style>\n",
       "<table border=\"1\" class=\"dataframe\">\n",
       "  <thead>\n",
       "    <tr style=\"text-align: right;\">\n",
       "      <th></th>\n",
       "      <th>Entry</th>\n",
       "      <th>Class</th>\n",
       "      <th>IK0</th>\n",
       "      <th>IHt</th>\n",
       "      <th>IHp</th>\n",
       "      <th>IP</th>\n",
       "      <th>IpHi</th>\n",
       "      <th>IpK'</th>\n",
       "      <th>IMw</th>\n",
       "      <th>IBl</th>\n",
       "      <th>...</th>\n",
       "      <th>M</th>\n",
       "      <th>N</th>\n",
       "      <th>P</th>\n",
       "      <th>Q</th>\n",
       "      <th>R</th>\n",
       "      <th>S</th>\n",
       "      <th>T</th>\n",
       "      <th>V</th>\n",
       "      <th>W</th>\n",
       "      <th>Y</th>\n",
       "    </tr>\n",
       "  </thead>\n",
       "  <tbody>\n",
       "    <tr>\n",
       "      <th>0</th>\n",
       "      <td>Q59288</td>\n",
       "      <td>Carb</td>\n",
       "      <td>0.801014</td>\n",
       "      <td>0.523114</td>\n",
       "      <td>0.542629</td>\n",
       "      <td>0.467243</td>\n",
       "      <td>0.723957</td>\n",
       "      <td>1.299343</td>\n",
       "      <td>0.682029</td>\n",
       "      <td>1.020857</td>\n",
       "      <td>...</td>\n",
       "      <td>0.018571</td>\n",
       "      <td>0.051429</td>\n",
       "      <td>0.041429</td>\n",
       "      <td>0.045714</td>\n",
       "      <td>0.038571</td>\n",
       "      <td>0.055714</td>\n",
       "      <td>0.054286</td>\n",
       "      <td>0.052857</td>\n",
       "      <td>0.022857</td>\n",
       "      <td>0.055714</td>\n",
       "    </tr>\n",
       "    <tr>\n",
       "      <th>1</th>\n",
       "      <td>Q9I6P8</td>\n",
       "      <td>Carb</td>\n",
       "      <td>1.331853</td>\n",
       "      <td>0.869786</td>\n",
       "      <td>0.902233</td>\n",
       "      <td>0.776888</td>\n",
       "      <td>1.203729</td>\n",
       "      <td>2.160428</td>\n",
       "      <td>1.134014</td>\n",
       "      <td>1.697387</td>\n",
       "      <td>...</td>\n",
       "      <td>0.008571</td>\n",
       "      <td>0.025714</td>\n",
       "      <td>0.018571</td>\n",
       "      <td>0.025714</td>\n",
       "      <td>0.050000</td>\n",
       "      <td>0.051429</td>\n",
       "      <td>0.024286</td>\n",
       "      <td>0.024286</td>\n",
       "      <td>0.012857</td>\n",
       "      <td>0.018571</td>\n",
       "    </tr>\n",
       "    <tr>\n",
       "      <th>2</th>\n",
       "      <td>Q9IH62</td>\n",
       "      <td>Carb</td>\n",
       "      <td>0.931412</td>\n",
       "      <td>0.608272</td>\n",
       "      <td>0.630963</td>\n",
       "      <td>0.543306</td>\n",
       "      <td>0.841811</td>\n",
       "      <td>1.510864</td>\n",
       "      <td>0.793056</td>\n",
       "      <td>1.187043</td>\n",
       "      <td>...</td>\n",
       "      <td>0.015714</td>\n",
       "      <td>0.064286</td>\n",
       "      <td>0.051429</td>\n",
       "      <td>0.035714</td>\n",
       "      <td>0.031429</td>\n",
       "      <td>0.072857</td>\n",
       "      <td>0.052857</td>\n",
       "      <td>0.058571</td>\n",
       "      <td>0.010000</td>\n",
       "      <td>0.035714</td>\n",
       "    </tr>\n",
       "    <tr>\n",
       "      <th>3</th>\n",
       "      <td>P52799</td>\n",
       "      <td>Carb</td>\n",
       "      <td>1.683814</td>\n",
       "      <td>1.099640</td>\n",
       "      <td>1.140661</td>\n",
       "      <td>0.982192</td>\n",
       "      <td>1.521832</td>\n",
       "      <td>2.731351</td>\n",
       "      <td>1.433694</td>\n",
       "      <td>2.145946</td>\n",
       "      <td>...</td>\n",
       "      <td>0.008571</td>\n",
       "      <td>0.025714</td>\n",
       "      <td>0.030000</td>\n",
       "      <td>0.018571</td>\n",
       "      <td>0.021429</td>\n",
       "      <td>0.045714</td>\n",
       "      <td>0.028571</td>\n",
       "      <td>0.031429</td>\n",
       "      <td>0.005714</td>\n",
       "      <td>0.021429</td>\n",
       "    </tr>\n",
       "    <tr>\n",
       "      <th>4</th>\n",
       "      <td>P49354</td>\n",
       "      <td>Carb</td>\n",
       "      <td>1.479446</td>\n",
       "      <td>0.966174</td>\n",
       "      <td>1.002216</td>\n",
       "      <td>0.862982</td>\n",
       "      <td>1.337124</td>\n",
       "      <td>2.399842</td>\n",
       "      <td>1.259683</td>\n",
       "      <td>1.885488</td>\n",
       "      <td>...</td>\n",
       "      <td>0.008571</td>\n",
       "      <td>0.032857</td>\n",
       "      <td>0.032857</td>\n",
       "      <td>0.041429</td>\n",
       "      <td>0.031429</td>\n",
       "      <td>0.027143</td>\n",
       "      <td>0.014286</td>\n",
       "      <td>0.034286</td>\n",
       "      <td>0.014286</td>\n",
       "      <td>0.027143</td>\n",
       "    </tr>\n",
       "  </tbody>\n",
       "</table>\n",
       "<p>5 rows × 152 columns</p>\n",
       "</div>"
      ],
      "text/plain": [
       "    Entry Class       IK0       IHt       IHp        IP      IpHi      IpK'  \\\n",
       "0  Q59288  Carb  0.801014  0.523114  0.542629  0.467243  0.723957  1.299343   \n",
       "1  Q9I6P8  Carb  1.331853  0.869786  0.902233  0.776888  1.203729  2.160428   \n",
       "2  Q9IH62  Carb  0.931412  0.608272  0.630963  0.543306  0.841811  1.510864   \n",
       "3  P52799  Carb  1.683814  1.099640  1.140661  0.982192  1.521832  2.731351   \n",
       "4  P49354  Carb  1.479446  0.966174  1.002216  0.862982  1.337124  2.399842   \n",
       "\n",
       "        IMw       IBl  ...         M         N         P         Q         R  \\\n",
       "0  0.682029  1.020857  ...  0.018571  0.051429  0.041429  0.045714  0.038571   \n",
       "1  1.134014  1.697387  ...  0.008571  0.025714  0.018571  0.025714  0.050000   \n",
       "2  0.793056  1.187043  ...  0.015714  0.064286  0.051429  0.035714  0.031429   \n",
       "3  1.433694  2.145946  ...  0.008571  0.025714  0.030000  0.018571  0.021429   \n",
       "4  1.259683  1.885488  ...  0.008571  0.032857  0.032857  0.041429  0.031429   \n",
       "\n",
       "          S         T         V         W         Y  \n",
       "0  0.055714  0.054286  0.052857  0.022857  0.055714  \n",
       "1  0.051429  0.024286  0.024286  0.012857  0.018571  \n",
       "2  0.072857  0.052857  0.058571  0.010000  0.035714  \n",
       "3  0.045714  0.028571  0.031429  0.005714  0.021429  \n",
       "4  0.027143  0.014286  0.034286  0.014286  0.027143  \n",
       "\n",
       "[5 rows x 152 columns]"
      ]
     },
     "execution_count": 50,
     "metadata": {},
     "output_type": "execute_result"
    }
   ],
   "source": [
    "df.head()"
   ]
  },
  {
   "cell_type": "code",
   "execution_count": 51,
   "id": "83512bda",
   "metadata": {},
   "outputs": [
    {
     "data": {
      "text/plain": [
       "(2747, 152)"
      ]
     },
     "execution_count": 51,
     "metadata": {},
     "output_type": "execute_result"
    }
   ],
   "source": [
    "df.shape"
   ]
  },
  {
   "cell_type": "code",
   "execution_count": 52,
   "id": "2c3ec3d2",
   "metadata": {},
   "outputs": [
    {
     "data": {
      "text/plain": [
       "Carb      1111\n",
       "CGC        693\n",
       "Hetero     500\n",
       "DNA        280\n",
       "RNA        163\n",
       "Name: Class, dtype: int64"
      ]
     },
     "execution_count": 52,
     "metadata": {},
     "output_type": "execute_result"
    }
   ],
   "source": [
    "df.Class.value_counts()"
   ]
  },
  {
   "cell_type": "code",
   "execution_count": 53,
   "id": "566140c6",
   "metadata": {},
   "outputs": [],
   "source": [
    "RNA_df = df[(df['Class'] == 'RNA') | (df['Class'] == 'CGC')]"
   ]
  },
  {
   "cell_type": "code",
   "execution_count": 54,
   "id": "e181e346",
   "metadata": {},
   "outputs": [],
   "source": [
    "#Carb_df"
   ]
  },
  {
   "cell_type": "code",
   "execution_count": 55,
   "id": "b62ab5f1",
   "metadata": {},
   "outputs": [
    {
     "name": "stderr",
     "output_type": "stream",
     "text": [
      "C:\\Users\\Senthil\\AppData\\Local\\Temp/ipykernel_6428/2515966794.py:1: SettingWithCopyWarning: \n",
      "A value is trying to be set on a copy of a slice from a DataFrame.\n",
      "Try using .loc[row_indexer,col_indexer] = value instead\n",
      "\n",
      "See the caveats in the documentation: https://pandas.pydata.org/pandas-docs/stable/user_guide/indexing.html#returning-a-view-versus-a-copy\n",
      "  RNA_df[\"target\"] = np.where(RNA_df[\"Class\"].str.contains(\"CGC\"), 1, 0)\n"
     ]
    }
   ],
   "source": [
    "RNA_df[\"target\"] = np.where(RNA_df[\"Class\"].str.contains(\"CGC\"), 1, 0)"
   ]
  },
  {
   "cell_type": "code",
   "execution_count": 56,
   "id": "863435fb",
   "metadata": {},
   "outputs": [
    {
     "data": {
      "text/html": [
       "<div>\n",
       "<style scoped>\n",
       "    .dataframe tbody tr th:only-of-type {\n",
       "        vertical-align: middle;\n",
       "    }\n",
       "\n",
       "    .dataframe tbody tr th {\n",
       "        vertical-align: top;\n",
       "    }\n",
       "\n",
       "    .dataframe thead th {\n",
       "        text-align: right;\n",
       "    }\n",
       "</style>\n",
       "<table border=\"1\" class=\"dataframe\">\n",
       "  <thead>\n",
       "    <tr style=\"text-align: right;\">\n",
       "      <th></th>\n",
       "      <th>Entry</th>\n",
       "      <th>Class</th>\n",
       "      <th>IK0</th>\n",
       "      <th>IHt</th>\n",
       "      <th>IHp</th>\n",
       "      <th>IP</th>\n",
       "      <th>IpHi</th>\n",
       "      <th>IpK'</th>\n",
       "      <th>IMw</th>\n",
       "      <th>IBl</th>\n",
       "      <th>...</th>\n",
       "      <th>N</th>\n",
       "      <th>P</th>\n",
       "      <th>Q</th>\n",
       "      <th>R</th>\n",
       "      <th>S</th>\n",
       "      <th>T</th>\n",
       "      <th>V</th>\n",
       "      <th>W</th>\n",
       "      <th>Y</th>\n",
       "      <th>target</th>\n",
       "    </tr>\n",
       "  </thead>\n",
       "  <tbody>\n",
       "    <tr>\n",
       "      <th>1111</th>\n",
       "      <td>Q9NQ94</td>\n",
       "      <td>CGC</td>\n",
       "      <td>0.943956</td>\n",
       "      <td>0.616465</td>\n",
       "      <td>0.639461</td>\n",
       "      <td>0.550623</td>\n",
       "      <td>0.853148</td>\n",
       "      <td>1.531212</td>\n",
       "      <td>0.803737</td>\n",
       "      <td>1.203030</td>\n",
       "      <td>...</td>\n",
       "      <td>0.034286</td>\n",
       "      <td>0.052857</td>\n",
       "      <td>0.032857</td>\n",
       "      <td>0.045714</td>\n",
       "      <td>0.034286</td>\n",
       "      <td>0.052857</td>\n",
       "      <td>0.058571</td>\n",
       "      <td>0.005714</td>\n",
       "      <td>0.044286</td>\n",
       "      <td>1</td>\n",
       "    </tr>\n",
       "    <tr>\n",
       "      <th>1112</th>\n",
       "      <td>P00519</td>\n",
       "      <td>CGC</td>\n",
       "      <td>0.496204</td>\n",
       "      <td>0.324053</td>\n",
       "      <td>0.336142</td>\n",
       "      <td>0.289442</td>\n",
       "      <td>0.448469</td>\n",
       "      <td>0.804903</td>\n",
       "      <td>0.422496</td>\n",
       "      <td>0.632389</td>\n",
       "      <td>...</td>\n",
       "      <td>0.057143</td>\n",
       "      <td>0.128571</td>\n",
       "      <td>0.047143</td>\n",
       "      <td>0.091429</td>\n",
       "      <td>0.171429</td>\n",
       "      <td>0.092857</td>\n",
       "      <td>0.088571</td>\n",
       "      <td>0.018571</td>\n",
       "      <td>0.042857</td>\n",
       "      <td>1</td>\n",
       "    </tr>\n",
       "    <tr>\n",
       "      <th>1113</th>\n",
       "      <td>P42684</td>\n",
       "      <td>CGC</td>\n",
       "      <td>0.474374</td>\n",
       "      <td>0.309797</td>\n",
       "      <td>0.321354</td>\n",
       "      <td>0.276709</td>\n",
       "      <td>0.428739</td>\n",
       "      <td>0.769492</td>\n",
       "      <td>0.403909</td>\n",
       "      <td>0.604569</td>\n",
       "      <td>...</td>\n",
       "      <td>0.060000</td>\n",
       "      <td>0.132857</td>\n",
       "      <td>0.064286</td>\n",
       "      <td>0.087143</td>\n",
       "      <td>0.160000</td>\n",
       "      <td>0.105714</td>\n",
       "      <td>0.105714</td>\n",
       "      <td>0.018571</td>\n",
       "      <td>0.047143</td>\n",
       "      <td>1</td>\n",
       "    </tr>\n",
       "    <tr>\n",
       "      <th>1114</th>\n",
       "      <td>P25106</td>\n",
       "      <td>CGC</td>\n",
       "      <td>1.548923</td>\n",
       "      <td>1.011547</td>\n",
       "      <td>1.049282</td>\n",
       "      <td>0.903508</td>\n",
       "      <td>1.399917</td>\n",
       "      <td>2.512541</td>\n",
       "      <td>1.318840</td>\n",
       "      <td>1.974033</td>\n",
       "      <td>...</td>\n",
       "      <td>0.021429</td>\n",
       "      <td>0.018571</td>\n",
       "      <td>0.008571</td>\n",
       "      <td>0.015714</td>\n",
       "      <td>0.051429</td>\n",
       "      <td>0.032857</td>\n",
       "      <td>0.055714</td>\n",
       "      <td>0.011429</td>\n",
       "      <td>0.028571</td>\n",
       "      <td>1</td>\n",
       "    </tr>\n",
       "    <tr>\n",
       "      <th>1115</th>\n",
       "      <td>O95573</td>\n",
       "      <td>CGC</td>\n",
       "      <td>0.778764</td>\n",
       "      <td>0.508583</td>\n",
       "      <td>0.527556</td>\n",
       "      <td>0.454264</td>\n",
       "      <td>0.703847</td>\n",
       "      <td>1.263250</td>\n",
       "      <td>0.663083</td>\n",
       "      <td>0.992500</td>\n",
       "      <td>...</td>\n",
       "      <td>0.052857</td>\n",
       "      <td>0.050000</td>\n",
       "      <td>0.028571</td>\n",
       "      <td>0.038571</td>\n",
       "      <td>0.070000</td>\n",
       "      <td>0.057143</td>\n",
       "      <td>0.062857</td>\n",
       "      <td>0.011429</td>\n",
       "      <td>0.041429</td>\n",
       "      <td>1</td>\n",
       "    </tr>\n",
       "  </tbody>\n",
       "</table>\n",
       "<p>5 rows × 153 columns</p>\n",
       "</div>"
      ],
      "text/plain": [
       "       Entry Class       IK0       IHt       IHp        IP      IpHi  \\\n",
       "1111  Q9NQ94   CGC  0.943956  0.616465  0.639461  0.550623  0.853148   \n",
       "1112  P00519   CGC  0.496204  0.324053  0.336142  0.289442  0.448469   \n",
       "1113  P42684   CGC  0.474374  0.309797  0.321354  0.276709  0.428739   \n",
       "1114  P25106   CGC  1.548923  1.011547  1.049282  0.903508  1.399917   \n",
       "1115  O95573   CGC  0.778764  0.508583  0.527556  0.454264  0.703847   \n",
       "\n",
       "          IpK'       IMw       IBl  ...         N         P         Q  \\\n",
       "1111  1.531212  0.803737  1.203030  ...  0.034286  0.052857  0.032857   \n",
       "1112  0.804903  0.422496  0.632389  ...  0.057143  0.128571  0.047143   \n",
       "1113  0.769492  0.403909  0.604569  ...  0.060000  0.132857  0.064286   \n",
       "1114  2.512541  1.318840  1.974033  ...  0.021429  0.018571  0.008571   \n",
       "1115  1.263250  0.663083  0.992500  ...  0.052857  0.050000  0.028571   \n",
       "\n",
       "             R         S         T         V         W         Y  target  \n",
       "1111  0.045714  0.034286  0.052857  0.058571  0.005714  0.044286       1  \n",
       "1112  0.091429  0.171429  0.092857  0.088571  0.018571  0.042857       1  \n",
       "1113  0.087143  0.160000  0.105714  0.105714  0.018571  0.047143       1  \n",
       "1114  0.015714  0.051429  0.032857  0.055714  0.011429  0.028571       1  \n",
       "1115  0.038571  0.070000  0.057143  0.062857  0.011429  0.041429       1  \n",
       "\n",
       "[5 rows x 153 columns]"
      ]
     },
     "execution_count": 56,
     "metadata": {},
     "output_type": "execute_result"
    }
   ],
   "source": [
    "RNA_df.head()"
   ]
  },
  {
   "cell_type": "code",
   "execution_count": 57,
   "id": "4566fa5e",
   "metadata": {},
   "outputs": [],
   "source": [
    "# X -> features, y -> label\n",
    "y=RNA_df['target']\n",
    "X=RNA_df.drop(['Class','Entry','target'],axis=1)"
   ]
  },
  {
   "cell_type": "code",
   "execution_count": 58,
   "id": "bf203207",
   "metadata": {},
   "outputs": [
    {
     "name": "stdout",
     "output_type": "stream",
     "text": [
      "X : (856, 150)\n"
     ]
    }
   ],
   "source": [
    "print(f'X : {X.shape}')"
   ]
  },
  {
   "cell_type": "code",
   "execution_count": 59,
   "id": "b6bc3527",
   "metadata": {},
   "outputs": [],
   "source": [
    "# dividing X, y into train and test data\n",
    "X_train, X_test, y_train, y_test = train_test_split(X, y, train_size=0.80, test_size=0.20, random_state = 230,stratify = y)"
   ]
  },
  {
   "cell_type": "code",
   "execution_count": 60,
   "id": "c2bc5f93",
   "metadata": {},
   "outputs": [
    {
     "name": "stdout",
     "output_type": "stream",
     "text": [
      "X_train: (684, 150)\n",
      "y_train: (684,)\n",
      "X_test: (172, 150)\n",
      "y_test: (172,)\n"
     ]
    }
   ],
   "source": [
    "print(f'X_train: {X_train.shape}')\n",
    "print(f'y_train: {y_train.shape}')\n",
    "print(f'X_test: {X_test.shape}')\n",
    "print(f'y_test: {y_test.shape}')     "
   ]
  },
  {
   "cell_type": "markdown",
   "id": "8d4bba59",
   "metadata": {},
   "source": [
    "# Random Forest"
   ]
  },
  {
   "cell_type": "code",
   "execution_count": 61,
   "id": "9fc42c66",
   "metadata": {},
   "outputs": [],
   "source": [
    "from sklearn.ensemble import RandomForestClassifier"
   ]
  },
  {
   "cell_type": "code",
   "execution_count": 62,
   "id": "d0089244",
   "metadata": {},
   "outputs": [],
   "source": [
    "n_estimators = [int(x) for x in np.linspace(start = 10, stop = 300, num = 20)]\n",
    "max_features = ['auto', 'sqrt']\n",
    "max_depth = [2,4]\n",
    "min_samples_split = [2, 5]\n",
    "min_samples_leaf = [1, 2]\n",
    "bootstrap = [True, False]"
   ]
  },
  {
   "cell_type": "code",
   "execution_count": 63,
   "id": "1d7e9968",
   "metadata": {},
   "outputs": [
    {
     "name": "stdout",
     "output_type": "stream",
     "text": [
      "{'n_estimators': [10, 25, 40, 55, 71, 86, 101, 116, 132, 147, 162, 177, 193, 208, 223, 238, 254, 269, 284, 300], 'max_features': ['auto', 'sqrt'], 'max_depth': [2, 4], 'min_samples_split': [2, 5], 'min_samples_leaf': [1, 2], 'bootstrap': [True, False]}\n"
     ]
    }
   ],
   "source": [
    "param_grid = {'n_estimators': n_estimators,\n",
    "               'max_features': max_features,\n",
    "               'max_depth': max_depth,\n",
    "               'min_samples_split': min_samples_split,\n",
    "               'min_samples_leaf': min_samples_leaf,\n",
    "               'bootstrap': bootstrap}\n",
    "print(param_grid)"
   ]
  },
  {
   "cell_type": "code",
   "execution_count": 92,
   "id": "28f24447",
   "metadata": {},
   "outputs": [],
   "source": [
    "rf = RandomForestClassifier(random_state=42, class_weight='balanced')"
   ]
  },
  {
   "cell_type": "code",
   "execution_count": 93,
   "id": "ad7d88f2",
   "metadata": {},
   "outputs": [],
   "source": [
    "from sklearn.model_selection import GridSearchCV\n",
    "rf_Grid = GridSearchCV(estimator = rf_Model, param_grid = param_grid, cv = 3, verbose=2, n_jobs = 4)"
   ]
  },
  {
   "cell_type": "code",
   "execution_count": 94,
   "id": "6c98fa4e",
   "metadata": {},
   "outputs": [
    {
     "name": "stdout",
     "output_type": "stream",
     "text": [
      "Fitting 3 folds for each of 640 candidates, totalling 1920 fits\n"
     ]
    },
    {
     "data": {
      "text/plain": [
       "GridSearchCV(cv=3,\n",
       "             estimator=RandomForestClassifier(max_depth=4, n_estimators=55,\n",
       "                                              random_state=42),\n",
       "             n_jobs=4,\n",
       "             param_grid={'bootstrap': [True, False], 'max_depth': [2, 4],\n",
       "                         'max_features': ['auto', 'sqrt'],\n",
       "                         'min_samples_leaf': [1, 2],\n",
       "                         'min_samples_split': [2, 5],\n",
       "                         'n_estimators': [10, 25, 40, 55, 71, 86, 101, 116, 132,\n",
       "                                          147, 162, 177, 193, 208, 223, 238,\n",
       "                                          254, 269, 284, 300]},\n",
       "             verbose=2)"
      ]
     },
     "execution_count": 94,
     "metadata": {},
     "output_type": "execute_result"
    }
   ],
   "source": [
    "rf_Grid.fit(X_train, y_train)"
   ]
  },
  {
   "cell_type": "code",
   "execution_count": 95,
   "id": "d7837830",
   "metadata": {},
   "outputs": [
    {
     "data": {
      "text/plain": [
       "{'bootstrap': True,\n",
       " 'max_depth': 4,\n",
       " 'max_features': 'auto',\n",
       " 'min_samples_leaf': 1,\n",
       " 'min_samples_split': 2,\n",
       " 'n_estimators': 55}"
      ]
     },
     "execution_count": 95,
     "metadata": {},
     "output_type": "execute_result"
    }
   ],
   "source": [
    "best_rf_params = rf_Grid.best_params_\n",
    "best_rf_params"
   ]
  },
  {
   "cell_type": "code",
   "execution_count": 96,
   "id": "ec815517",
   "metadata": {},
   "outputs": [],
   "source": [
    "rf_Model = rf_Grid.best_estimator_"
   ]
  },
  {
   "cell_type": "code",
   "execution_count": 97,
   "id": "89c5a175",
   "metadata": {},
   "outputs": [
    {
     "data": {
      "text/plain": [
       "{'bootstrap': True,\n",
       " 'max_depth': 4,\n",
       " 'max_features': 'auto',\n",
       " 'min_samples_leaf': 1,\n",
       " 'min_samples_split': 2,\n",
       " 'n_estimators': 55}"
      ]
     },
     "execution_count": 97,
     "metadata": {},
     "output_type": "execute_result"
    }
   ],
   "source": [
    "rf_Grid.best_params_"
   ]
  },
  {
   "cell_type": "code",
   "execution_count": 98,
   "id": "cbbcac96",
   "metadata": {},
   "outputs": [
    {
     "data": {
      "text/plain": [
       "RandomForestClassifier(max_depth=4, n_estimators=55, random_state=42)"
      ]
     },
     "execution_count": 98,
     "metadata": {},
     "output_type": "execute_result"
    }
   ],
   "source": [
    "rf_Model.fit(X_train,y_train)"
   ]
  },
  {
   "cell_type": "code",
   "execution_count": 99,
   "id": "6ccc49cc",
   "metadata": {},
   "outputs": [
    {
     "data": {
      "text/plain": [
       "array([0.00239509, 0.00616816, 0.00637819, 0.01296241, 0.        ,\n",
       "       0.01037893, 0.00543157, 0.00138331, 0.00012928, 0.00105388,\n",
       "       0.        , 0.        , 0.01046311, 0.00686344, 0.00104653,\n",
       "       0.00113495, 0.00131969, 0.00214212, 0.00088843, 0.00159488,\n",
       "       0.0005992 , 0.00068277, 0.00022718, 0.00323724, 0.00054425,\n",
       "       0.00107752, 0.0104604 , 0.00222612, 0.00054126, 0.00423911,\n",
       "       0.00115031, 0.        , 0.01093792, 0.00108818, 0.00650581,\n",
       "       0.00129485, 0.00403055, 0.        , 0.00334734, 0.00647842,\n",
       "       0.0115681 , 0.00043705, 0.        , 0.00070202, 0.        ,\n",
       "       0.00292804, 0.00276477, 0.00420062, 0.00114168, 0.        ,\n",
       "       0.01445282, 0.00778738, 0.00145855, 0.00689969, 0.00303152,\n",
       "       0.00024065, 0.0002227 , 0.00046897, 0.        , 0.00490193,\n",
       "       0.00269525, 0.00445743, 0.0002955 , 0.00448597, 0.00062283,\n",
       "       0.00806286, 0.00630896, 0.00355055, 0.        , 0.00582888,\n",
       "       0.        , 0.01090987, 0.00068603, 0.00118375, 0.00949872,\n",
       "       0.0026028 , 0.00890412, 0.00553244, 0.00066986, 0.01242296,\n",
       "       0.00107003, 0.00932747, 0.        , 0.00263442, 0.00169669,\n",
       "       0.002378  , 0.00296098, 0.00498094, 0.00155859, 0.00583962,\n",
       "       0.00333911, 0.00544234, 0.00344996, 0.00163865, 0.00418392,\n",
       "       0.00136887, 0.00022294, 0.00179183, 0.00389996, 0.01134862,\n",
       "       0.00300067, 0.00038428, 0.0051479 , 0.00015276, 0.00199077,\n",
       "       0.00241177, 0.00625159, 0.00581845, 0.00168371, 0.0081881 ,\n",
       "       0.00623535, 0.00351111, 0.00049563, 0.00151243, 0.00051958,\n",
       "       0.0063678 , 0.00260446, 0.00163308, 0.00518594, 0.00140427,\n",
       "       0.        , 0.00036359, 0.00121988, 0.00444765, 0.00700862,\n",
       "       0.00579517, 0.00102195, 0.00496245, 0.0096966 , 0.0010507 ,\n",
       "       0.0109128 , 0.01693366, 0.04547044, 0.02047642, 0.009056  ,\n",
       "       0.04844556, 0.04158834, 0.03677561, 0.02431828, 0.02621956,\n",
       "       0.01234983, 0.02762053, 0.01979833, 0.04632393, 0.02397897,\n",
       "       0.06964816, 0.02500265, 0.02401377, 0.00524833, 0.01429193])"
      ]
     },
     "execution_count": 99,
     "metadata": {},
     "output_type": "execute_result"
    }
   ],
   "source": [
    "rf_Model.feature_importances_"
   ]
  },
  {
   "cell_type": "code",
   "execution_count": 100,
   "id": "7d3682a9",
   "metadata": {},
   "outputs": [],
   "source": [
    "imp_feat=pd.DataFrame({'Feature_Name' : X.columns.tolist(), 'Feature_Importance' : rf_Model.feature_importances_})"
   ]
  },
  {
   "cell_type": "code",
   "execution_count": 101,
   "id": "588c1d21",
   "metadata": {},
   "outputs": [],
   "source": [
    "imp_feat.sort_values(by = 'Feature_Importance', ascending=False, inplace = True)"
   ]
  },
  {
   "cell_type": "code",
   "execution_count": 102,
   "id": "561de899",
   "metadata": {},
   "outputs": [
    {
     "data": {
      "text/html": [
       "<div>\n",
       "<style scoped>\n",
       "    .dataframe tbody tr th:only-of-type {\n",
       "        vertical-align: middle;\n",
       "    }\n",
       "\n",
       "    .dataframe tbody tr th {\n",
       "        vertical-align: top;\n",
       "    }\n",
       "\n",
       "    .dataframe thead th {\n",
       "        text-align: right;\n",
       "    }\n",
       "</style>\n",
       "<table border=\"1\" class=\"dataframe\">\n",
       "  <thead>\n",
       "    <tr style=\"text-align: right;\">\n",
       "      <th></th>\n",
       "      <th>Feature_Name</th>\n",
       "      <th>Feature_Importance</th>\n",
       "    </tr>\n",
       "  </thead>\n",
       "  <tbody>\n",
       "    <tr>\n",
       "      <th>145</th>\n",
       "      <td>S</td>\n",
       "      <td>0.069648</td>\n",
       "    </tr>\n",
       "    <tr>\n",
       "      <th>135</th>\n",
       "      <td>G</td>\n",
       "      <td>0.048446</td>\n",
       "    </tr>\n",
       "    <tr>\n",
       "      <th>143</th>\n",
       "      <td>Q</td>\n",
       "      <td>0.046324</td>\n",
       "    </tr>\n",
       "    <tr>\n",
       "      <th>132</th>\n",
       "      <td>C</td>\n",
       "      <td>0.045470</td>\n",
       "    </tr>\n",
       "    <tr>\n",
       "      <th>136</th>\n",
       "      <td>H</td>\n",
       "      <td>0.041588</td>\n",
       "    </tr>\n",
       "    <tr>\n",
       "      <th>137</th>\n",
       "      <td>I</td>\n",
       "      <td>0.036776</td>\n",
       "    </tr>\n",
       "    <tr>\n",
       "      <th>141</th>\n",
       "      <td>N</td>\n",
       "      <td>0.027621</td>\n",
       "    </tr>\n",
       "    <tr>\n",
       "      <th>139</th>\n",
       "      <td>L</td>\n",
       "      <td>0.026220</td>\n",
       "    </tr>\n",
       "    <tr>\n",
       "      <th>146</th>\n",
       "      <td>T</td>\n",
       "      <td>0.025003</td>\n",
       "    </tr>\n",
       "    <tr>\n",
       "      <th>138</th>\n",
       "      <td>K</td>\n",
       "      <td>0.024318</td>\n",
       "    </tr>\n",
       "    <tr>\n",
       "      <th>147</th>\n",
       "      <td>V</td>\n",
       "      <td>0.024014</td>\n",
       "    </tr>\n",
       "    <tr>\n",
       "      <th>144</th>\n",
       "      <td>R</td>\n",
       "      <td>0.023979</td>\n",
       "    </tr>\n",
       "    <tr>\n",
       "      <th>133</th>\n",
       "      <td>E</td>\n",
       "      <td>0.020476</td>\n",
       "    </tr>\n",
       "    <tr>\n",
       "      <th>142</th>\n",
       "      <td>P</td>\n",
       "      <td>0.019798</td>\n",
       "    </tr>\n",
       "    <tr>\n",
       "      <th>131</th>\n",
       "      <td>D</td>\n",
       "      <td>0.016934</td>\n",
       "    </tr>\n",
       "    <tr>\n",
       "      <th>50</th>\n",
       "      <td>IGEIM800108</td>\n",
       "      <td>0.014453</td>\n",
       "    </tr>\n",
       "    <tr>\n",
       "      <th>149</th>\n",
       "      <td>Y</td>\n",
       "      <td>0.014292</td>\n",
       "    </tr>\n",
       "    <tr>\n",
       "      <th>3</th>\n",
       "      <td>IP</td>\n",
       "      <td>0.012962</td>\n",
       "    </tr>\n",
       "    <tr>\n",
       "      <th>79</th>\n",
       "      <td>IOOBM850103</td>\n",
       "      <td>0.012423</td>\n",
       "    </tr>\n",
       "    <tr>\n",
       "      <th>140</th>\n",
       "      <td>M</td>\n",
       "      <td>0.012350</td>\n",
       "    </tr>\n",
       "    <tr>\n",
       "      <th>40</th>\n",
       "      <td>IdHc</td>\n",
       "      <td>0.011568</td>\n",
       "    </tr>\n",
       "  </tbody>\n",
       "</table>\n",
       "</div>"
      ],
      "text/plain": [
       "    Feature_Name  Feature_Importance\n",
       "145            S            0.069648\n",
       "135            G            0.048446\n",
       "143            Q            0.046324\n",
       "132            C            0.045470\n",
       "136            H            0.041588\n",
       "137            I            0.036776\n",
       "141            N            0.027621\n",
       "139            L            0.026220\n",
       "146            T            0.025003\n",
       "138            K            0.024318\n",
       "147            V            0.024014\n",
       "144            R            0.023979\n",
       "133            E            0.020476\n",
       "142            P            0.019798\n",
       "131            D            0.016934\n",
       "50   IGEIM800108            0.014453\n",
       "149            Y            0.014292\n",
       "3             IP            0.012962\n",
       "79   IOOBM850103            0.012423\n",
       "140            M            0.012350\n",
       "40          IdHc            0.011568"
      ]
     },
     "execution_count": 102,
     "metadata": {},
     "output_type": "execute_result"
    }
   ],
   "source": [
    "imp_feat.head(21)"
   ]
  },
  {
   "cell_type": "code",
   "execution_count": 103,
   "id": "3ff745ef",
   "metadata": {},
   "outputs": [],
   "source": [
    "imp_feat.to_csv('RNA_Feature_importance.csv', index = False)"
   ]
  },
  {
   "cell_type": "code",
   "execution_count": 104,
   "id": "11f8970a",
   "metadata": {},
   "outputs": [],
   "source": [
    "y_train_prediction = rf_Model.predict(X_train)\n",
    "y_test_prediction = rf_Model.predict(X_test)"
   ]
  },
  {
   "cell_type": "code",
   "execution_count": 105,
   "id": "bbc2ba52",
   "metadata": {},
   "outputs": [
    {
     "name": "stdout",
     "output_type": "stream",
     "text": [
      "---------Train\n",
      "              precision    recall  f1-score   support\n",
      "\n",
      "           0       0.97      0.46      0.62       130\n",
      "           1       0.89      1.00      0.94       554\n",
      "\n",
      "    accuracy                           0.89       684\n",
      "   macro avg       0.93      0.73      0.78       684\n",
      "weighted avg       0.90      0.89      0.88       684\n",
      "\n",
      "---------Test\n",
      "              precision    recall  f1-score   support\n",
      "\n",
      "           0       0.86      0.55      0.67        33\n",
      "           1       0.90      0.98      0.94       139\n",
      "\n",
      "    accuracy                           0.90       172\n",
      "   macro avg       0.88      0.76      0.80       172\n",
      "weighted avg       0.89      0.90      0.89       172\n",
      "\n"
     ]
    }
   ],
   "source": [
    "from sklearn.metrics import classification_report\n",
    "print ('---------Train')\n",
    "print(classification_report(y_train,y_train_prediction))\n",
    "print ('---------Test')\n",
    "print(classification_report(y_test,y_test_prediction))"
   ]
  },
  {
   "cell_type": "code",
   "execution_count": 106,
   "id": "e397b6c5",
   "metadata": {},
   "outputs": [
    {
     "data": {
      "text/html": [
       "<div>\n",
       "<style scoped>\n",
       "    .dataframe tbody tr th:only-of-type {\n",
       "        vertical-align: middle;\n",
       "    }\n",
       "\n",
       "    .dataframe tbody tr th {\n",
       "        vertical-align: top;\n",
       "    }\n",
       "\n",
       "    .dataframe thead th {\n",
       "        text-align: right;\n",
       "    }\n",
       "</style>\n",
       "<table border=\"1\" class=\"dataframe\">\n",
       "  <thead>\n",
       "    <tr style=\"text-align: right;\">\n",
       "      <th></th>\n",
       "      <th>index</th>\n",
       "      <th>precision</th>\n",
       "      <th>recall</th>\n",
       "      <th>f1-score</th>\n",
       "      <th>support</th>\n",
       "      <th>Model</th>\n",
       "    </tr>\n",
       "  </thead>\n",
       "  <tbody>\n",
       "    <tr>\n",
       "      <th>0</th>\n",
       "      <td>0</td>\n",
       "      <td>0.967742</td>\n",
       "      <td>0.461538</td>\n",
       "      <td>0.625000</td>\n",
       "      <td>130.000000</td>\n",
       "      <td>Train</td>\n",
       "    </tr>\n",
       "    <tr>\n",
       "      <th>1</th>\n",
       "      <td>1</td>\n",
       "      <td>0.887460</td>\n",
       "      <td>0.996390</td>\n",
       "      <td>0.938776</td>\n",
       "      <td>554.000000</td>\n",
       "      <td>Train</td>\n",
       "    </tr>\n",
       "    <tr>\n",
       "      <th>2</th>\n",
       "      <td>accuracy</td>\n",
       "      <td>0.894737</td>\n",
       "      <td>0.894737</td>\n",
       "      <td>0.894737</td>\n",
       "      <td>0.894737</td>\n",
       "      <td>Train</td>\n",
       "    </tr>\n",
       "    <tr>\n",
       "      <th>3</th>\n",
       "      <td>macro avg</td>\n",
       "      <td>0.927601</td>\n",
       "      <td>0.728964</td>\n",
       "      <td>0.781888</td>\n",
       "      <td>684.000000</td>\n",
       "      <td>Train</td>\n",
       "    </tr>\n",
       "    <tr>\n",
       "      <th>4</th>\n",
       "      <td>weighted avg</td>\n",
       "      <td>0.902718</td>\n",
       "      <td>0.894737</td>\n",
       "      <td>0.879140</td>\n",
       "      <td>684.000000</td>\n",
       "      <td>Train</td>\n",
       "    </tr>\n",
       "    <tr>\n",
       "      <th>0</th>\n",
       "      <td>0</td>\n",
       "      <td>0.857143</td>\n",
       "      <td>0.545455</td>\n",
       "      <td>0.666667</td>\n",
       "      <td>33.000000</td>\n",
       "      <td>Test</td>\n",
       "    </tr>\n",
       "    <tr>\n",
       "      <th>1</th>\n",
       "      <td>1</td>\n",
       "      <td>0.900662</td>\n",
       "      <td>0.978417</td>\n",
       "      <td>0.937931</td>\n",
       "      <td>139.000000</td>\n",
       "      <td>Test</td>\n",
       "    </tr>\n",
       "    <tr>\n",
       "      <th>2</th>\n",
       "      <td>accuracy</td>\n",
       "      <td>0.895349</td>\n",
       "      <td>0.895349</td>\n",
       "      <td>0.895349</td>\n",
       "      <td>0.895349</td>\n",
       "      <td>Test</td>\n",
       "    </tr>\n",
       "    <tr>\n",
       "      <th>3</th>\n",
       "      <td>macro avg</td>\n",
       "      <td>0.878903</td>\n",
       "      <td>0.761936</td>\n",
       "      <td>0.802299</td>\n",
       "      <td>172.000000</td>\n",
       "      <td>Test</td>\n",
       "    </tr>\n",
       "    <tr>\n",
       "      <th>4</th>\n",
       "      <td>weighted avg</td>\n",
       "      <td>0.892313</td>\n",
       "      <td>0.895349</td>\n",
       "      <td>0.885886</td>\n",
       "      <td>172.000000</td>\n",
       "      <td>Test</td>\n",
       "    </tr>\n",
       "  </tbody>\n",
       "</table>\n",
       "</div>"
      ],
      "text/plain": [
       "          index  precision    recall  f1-score     support  Model\n",
       "0             0   0.967742  0.461538  0.625000  130.000000  Train\n",
       "1             1   0.887460  0.996390  0.938776  554.000000  Train\n",
       "2      accuracy   0.894737  0.894737  0.894737    0.894737  Train\n",
       "3     macro avg   0.927601  0.728964  0.781888  684.000000  Train\n",
       "4  weighted avg   0.902718  0.894737  0.879140  684.000000  Train\n",
       "0             0   0.857143  0.545455  0.666667   33.000000   Test\n",
       "1             1   0.900662  0.978417  0.937931  139.000000   Test\n",
       "2      accuracy   0.895349  0.895349  0.895349    0.895349   Test\n",
       "3     macro avg   0.878903  0.761936  0.802299  172.000000   Test\n",
       "4  weighted avg   0.892313  0.895349  0.885886  172.000000   Test"
      ]
     },
     "execution_count": 106,
     "metadata": {},
     "output_type": "execute_result"
    }
   ],
   "source": [
    "clf_report_train = pd.DataFrame(classification_report(y_train,y_train_prediction, output_dict=True)).transpose().reset_index()\n",
    "clf_report_train['Model'] = 'Train'\n",
    "\n",
    "clf_report_test = pd.DataFrame(classification_report(y_test,y_test_prediction, output_dict=True)).transpose().reset_index()\n",
    "clf_report_test['Model'] = 'Test'\n",
    "\n",
    "clf_report = pd.concat([clf_report_train,clf_report_test]) \n",
    "clf_report.to_csv('RNA_Clf_Report.csv', index = False)\n",
    "clf_report"
   ]
  },
  {
   "cell_type": "code",
   "execution_count": 107,
   "id": "3b9a87e7",
   "metadata": {},
   "outputs": [],
   "source": [
    "y_train_predpro = rf_Model.predict_proba(X_train)[:,1]\n",
    "y_test_predpro = rf_Model.predict_proba(X_test)[:,1]"
   ]
  },
  {
   "cell_type": "code",
   "execution_count": 108,
   "id": "6667f465",
   "metadata": {},
   "outputs": [],
   "source": [
    "y_train_pred = rf_Model.predict(X)"
   ]
  },
  {
   "cell_type": "code",
   "execution_count": 109,
   "id": "99a43b16",
   "metadata": {},
   "outputs": [],
   "source": [
    "y_train_predpro = rf_Model.predict_proba(X)[:,1]"
   ]
  },
  {
   "cell_type": "code",
   "execution_count": 110,
   "id": "f066f772",
   "metadata": {},
   "outputs": [
    {
     "data": {
      "text/plain": [
       "(856, 155)"
      ]
     },
     "execution_count": 110,
     "metadata": {},
     "output_type": "execute_result"
    }
   ],
   "source": [
    "RNA_df.shape"
   ]
  },
  {
   "cell_type": "code",
   "execution_count": 111,
   "id": "98924df4",
   "metadata": {},
   "outputs": [
    {
     "name": "stderr",
     "output_type": "stream",
     "text": [
      "C:\\Users\\Senthil\\AppData\\Local\\Temp/ipykernel_6428/4102033714.py:1: SettingWithCopyWarning: \n",
      "A value is trying to be set on a copy of a slice from a DataFrame.\n",
      "Try using .loc[row_indexer,col_indexer] = value instead\n",
      "\n",
      "See the caveats in the documentation: https://pandas.pydata.org/pandas-docs/stable/user_guide/indexing.html#returning-a-view-versus-a-copy\n",
      "  RNA_df['y_train_pred']=y_train_pred\n"
     ]
    }
   ],
   "source": [
    "RNA_df['y_train_pred']=y_train_pred"
   ]
  },
  {
   "cell_type": "code",
   "execution_count": 112,
   "id": "e6d92983",
   "metadata": {},
   "outputs": [
    {
     "name": "stderr",
     "output_type": "stream",
     "text": [
      "C:\\Users\\Senthil\\AppData\\Local\\Temp/ipykernel_6428/2288896638.py:1: SettingWithCopyWarning: \n",
      "A value is trying to be set on a copy of a slice from a DataFrame.\n",
      "Try using .loc[row_indexer,col_indexer] = value instead\n",
      "\n",
      "See the caveats in the documentation: https://pandas.pydata.org/pandas-docs/stable/user_guide/indexing.html#returning-a-view-versus-a-copy\n",
      "  RNA_df['y_train_predpro']=y_train_predpro\n"
     ]
    }
   ],
   "source": [
    "RNA_df['y_train_predpro']=y_train_predpro"
   ]
  },
  {
   "cell_type": "code",
   "execution_count": 113,
   "id": "7ff8ebeb",
   "metadata": {},
   "outputs": [
    {
     "data": {
      "text/html": [
       "<div>\n",
       "<style scoped>\n",
       "    .dataframe tbody tr th:only-of-type {\n",
       "        vertical-align: middle;\n",
       "    }\n",
       "\n",
       "    .dataframe tbody tr th {\n",
       "        vertical-align: top;\n",
       "    }\n",
       "\n",
       "    .dataframe thead th {\n",
       "        text-align: right;\n",
       "    }\n",
       "</style>\n",
       "<table border=\"1\" class=\"dataframe\">\n",
       "  <thead>\n",
       "    <tr style=\"text-align: right;\">\n",
       "      <th></th>\n",
       "      <th>Entry</th>\n",
       "      <th>Class</th>\n",
       "      <th>IK0</th>\n",
       "      <th>IHt</th>\n",
       "      <th>IHp</th>\n",
       "      <th>IP</th>\n",
       "      <th>IpHi</th>\n",
       "      <th>IpK'</th>\n",
       "      <th>IMw</th>\n",
       "      <th>IBl</th>\n",
       "      <th>...</th>\n",
       "      <th>Q</th>\n",
       "      <th>R</th>\n",
       "      <th>S</th>\n",
       "      <th>T</th>\n",
       "      <th>V</th>\n",
       "      <th>W</th>\n",
       "      <th>Y</th>\n",
       "      <th>target</th>\n",
       "      <th>y_train_pred</th>\n",
       "      <th>y_train_predpro</th>\n",
       "    </tr>\n",
       "  </thead>\n",
       "  <tbody>\n",
       "    <tr>\n",
       "      <th>1111</th>\n",
       "      <td>Q9NQ94</td>\n",
       "      <td>CGC</td>\n",
       "      <td>0.943956</td>\n",
       "      <td>0.616465</td>\n",
       "      <td>0.639461</td>\n",
       "      <td>0.550623</td>\n",
       "      <td>0.853148</td>\n",
       "      <td>1.531212</td>\n",
       "      <td>0.803737</td>\n",
       "      <td>1.203030</td>\n",
       "      <td>...</td>\n",
       "      <td>0.032857</td>\n",
       "      <td>0.045714</td>\n",
       "      <td>0.034286</td>\n",
       "      <td>0.052857</td>\n",
       "      <td>0.058571</td>\n",
       "      <td>0.005714</td>\n",
       "      <td>0.044286</td>\n",
       "      <td>1</td>\n",
       "      <td>1</td>\n",
       "      <td>0.872831</td>\n",
       "    </tr>\n",
       "    <tr>\n",
       "      <th>1112</th>\n",
       "      <td>P00519</td>\n",
       "      <td>CGC</td>\n",
       "      <td>0.496204</td>\n",
       "      <td>0.324053</td>\n",
       "      <td>0.336142</td>\n",
       "      <td>0.289442</td>\n",
       "      <td>0.448469</td>\n",
       "      <td>0.804903</td>\n",
       "      <td>0.422496</td>\n",
       "      <td>0.632389</td>\n",
       "      <td>...</td>\n",
       "      <td>0.047143</td>\n",
       "      <td>0.091429</td>\n",
       "      <td>0.171429</td>\n",
       "      <td>0.092857</td>\n",
       "      <td>0.088571</td>\n",
       "      <td>0.018571</td>\n",
       "      <td>0.042857</td>\n",
       "      <td>1</td>\n",
       "      <td>1</td>\n",
       "      <td>0.927852</td>\n",
       "    </tr>\n",
       "    <tr>\n",
       "      <th>1113</th>\n",
       "      <td>P42684</td>\n",
       "      <td>CGC</td>\n",
       "      <td>0.474374</td>\n",
       "      <td>0.309797</td>\n",
       "      <td>0.321354</td>\n",
       "      <td>0.276709</td>\n",
       "      <td>0.428739</td>\n",
       "      <td>0.769492</td>\n",
       "      <td>0.403909</td>\n",
       "      <td>0.604569</td>\n",
       "      <td>...</td>\n",
       "      <td>0.064286</td>\n",
       "      <td>0.087143</td>\n",
       "      <td>0.160000</td>\n",
       "      <td>0.105714</td>\n",
       "      <td>0.105714</td>\n",
       "      <td>0.018571</td>\n",
       "      <td>0.047143</td>\n",
       "      <td>1</td>\n",
       "      <td>1</td>\n",
       "      <td>0.928877</td>\n",
       "    </tr>\n",
       "    <tr>\n",
       "      <th>1114</th>\n",
       "      <td>P25106</td>\n",
       "      <td>CGC</td>\n",
       "      <td>1.548923</td>\n",
       "      <td>1.011547</td>\n",
       "      <td>1.049282</td>\n",
       "      <td>0.903508</td>\n",
       "      <td>1.399917</td>\n",
       "      <td>2.512541</td>\n",
       "      <td>1.318840</td>\n",
       "      <td>1.974033</td>\n",
       "      <td>...</td>\n",
       "      <td>0.008571</td>\n",
       "      <td>0.015714</td>\n",
       "      <td>0.051429</td>\n",
       "      <td>0.032857</td>\n",
       "      <td>0.055714</td>\n",
       "      <td>0.011429</td>\n",
       "      <td>0.028571</td>\n",
       "      <td>1</td>\n",
       "      <td>1</td>\n",
       "      <td>0.794658</td>\n",
       "    </tr>\n",
       "    <tr>\n",
       "      <th>1115</th>\n",
       "      <td>O95573</td>\n",
       "      <td>CGC</td>\n",
       "      <td>0.778764</td>\n",
       "      <td>0.508583</td>\n",
       "      <td>0.527556</td>\n",
       "      <td>0.454264</td>\n",
       "      <td>0.703847</td>\n",
       "      <td>1.263250</td>\n",
       "      <td>0.663083</td>\n",
       "      <td>0.992500</td>\n",
       "      <td>...</td>\n",
       "      <td>0.028571</td>\n",
       "      <td>0.038571</td>\n",
       "      <td>0.070000</td>\n",
       "      <td>0.057143</td>\n",
       "      <td>0.062857</td>\n",
       "      <td>0.011429</td>\n",
       "      <td>0.041429</td>\n",
       "      <td>1</td>\n",
       "      <td>1</td>\n",
       "      <td>0.805696</td>\n",
       "    </tr>\n",
       "  </tbody>\n",
       "</table>\n",
       "<p>5 rows × 155 columns</p>\n",
       "</div>"
      ],
      "text/plain": [
       "       Entry Class       IK0       IHt       IHp        IP      IpHi  \\\n",
       "1111  Q9NQ94   CGC  0.943956  0.616465  0.639461  0.550623  0.853148   \n",
       "1112  P00519   CGC  0.496204  0.324053  0.336142  0.289442  0.448469   \n",
       "1113  P42684   CGC  0.474374  0.309797  0.321354  0.276709  0.428739   \n",
       "1114  P25106   CGC  1.548923  1.011547  1.049282  0.903508  1.399917   \n",
       "1115  O95573   CGC  0.778764  0.508583  0.527556  0.454264  0.703847   \n",
       "\n",
       "          IpK'       IMw       IBl  ...         Q         R         S  \\\n",
       "1111  1.531212  0.803737  1.203030  ...  0.032857  0.045714  0.034286   \n",
       "1112  0.804903  0.422496  0.632389  ...  0.047143  0.091429  0.171429   \n",
       "1113  0.769492  0.403909  0.604569  ...  0.064286  0.087143  0.160000   \n",
       "1114  2.512541  1.318840  1.974033  ...  0.008571  0.015714  0.051429   \n",
       "1115  1.263250  0.663083  0.992500  ...  0.028571  0.038571  0.070000   \n",
       "\n",
       "             T         V         W         Y  target  y_train_pred  \\\n",
       "1111  0.052857  0.058571  0.005714  0.044286       1             1   \n",
       "1112  0.092857  0.088571  0.018571  0.042857       1             1   \n",
       "1113  0.105714  0.105714  0.018571  0.047143       1             1   \n",
       "1114  0.032857  0.055714  0.011429  0.028571       1             1   \n",
       "1115  0.057143  0.062857  0.011429  0.041429       1             1   \n",
       "\n",
       "      y_train_predpro  \n",
       "1111         0.872831  \n",
       "1112         0.927852  \n",
       "1113         0.928877  \n",
       "1114         0.794658  \n",
       "1115         0.805696  \n",
       "\n",
       "[5 rows x 155 columns]"
      ]
     },
     "execution_count": 113,
     "metadata": {},
     "output_type": "execute_result"
    }
   ],
   "source": [
    "RNA_df.head()"
   ]
  },
  {
   "cell_type": "code",
   "execution_count": 114,
   "id": "3931a774",
   "metadata": {},
   "outputs": [
    {
     "name": "stderr",
     "output_type": "stream",
     "text": [
      "C:\\Users\\Senthil\\anaconda3\\lib\\site-packages\\sklearn\\utils\\deprecation.py:87: FutureWarning: Function plot_confusion_matrix is deprecated; Function `plot_confusion_matrix` is deprecated in 1.0 and will be removed in 1.2. Use one of the class methods: ConfusionMatrixDisplay.from_predictions or ConfusionMatrixDisplay.from_estimator.\n",
      "  warnings.warn(msg, category=FutureWarning)\n"
     ]
    },
    {
     "data": {
      "text/plain": [
       "<sklearn.metrics._plot.confusion_matrix.ConfusionMatrixDisplay at 0x292471b9790>"
      ]
     },
     "execution_count": 114,
     "metadata": {},
     "output_type": "execute_result"
    },
    {
     "data": {
      "image/png": "[encoded data removed]",
      "text/plain": [
       "<Figure size 432x288 with 2 Axes>"
      ]
     },
     "metadata": {
      "needs_background": "light"
     },
     "output_type": "display_data"
    }
   ],
   "source": [
    "from sklearn.metrics import confusion_matrix, ConfusionMatrixDisplay, accuracy_score, plot_confusion_matrix, plot_roc_curve\n",
    "plot_confusion_matrix(rf_Model, X_test, y_test)"
   ]
  },
  {
   "cell_type": "code",
   "execution_count": 115,
   "id": "a96c7822",
   "metadata": {},
   "outputs": [
    {
     "data": {
      "text/plain": [
       "0.6363636363636364"
      ]
     },
     "execution_count": 115,
     "metadata": {},
     "output_type": "execute_result"
    }
   ],
   "source": [
    "sensitivity = 21/(21+12)\n",
    "sensitivity"
   ]
  },
  {
   "cell_type": "code",
   "execution_count": 116,
   "id": "9f54a454",
   "metadata": {},
   "outputs": [
    {
     "data": {
      "text/plain": [
       "0.9928057553956835"
      ]
     },
     "execution_count": 116,
     "metadata": {},
     "output_type": "execute_result"
    }
   ],
   "source": [
    "specificity = 138/(138+1)\n",
    "specificity"
   ]
  },
  {
   "cell_type": "code",
   "execution_count": 117,
   "id": "160d5a8f",
   "metadata": {},
   "outputs": [
    {
     "data": {
      "text/plain": [
       "1.6291693917593197"
      ]
     },
     "execution_count": 117,
     "metadata": {},
     "output_type": "execute_result"
    }
   ],
   "source": [
    "specificity+sensitivity"
   ]
  },
  {
   "cell_type": "code",
   "execution_count": 118,
   "id": "0edbfbf2",
   "metadata": {},
   "outputs": [
    {
     "data": {
      "text/plain": [
       "0.9545454545454546"
      ]
     },
     "execution_count": 118,
     "metadata": {},
     "output_type": "execute_result"
    }
   ],
   "source": [
    "precision = 21/(21+1)\n",
    "precision"
   ]
  },
  {
   "cell_type": "code",
   "execution_count": 119,
   "id": "14294ffd",
   "metadata": {},
   "outputs": [
    {
     "data": {
      "text/plain": [
       "0.38181818181818183"
      ]
     },
     "execution_count": 119,
     "metadata": {},
     "output_type": "execute_result"
    }
   ],
   "source": [
    "f1 = (precision * sensitivity)/(precision+sensitivity)\n",
    "f1"
   ]
  },
  {
   "cell_type": "code",
   "execution_count": 120,
   "id": "73044835",
   "metadata": {},
   "outputs": [
    {
     "name": "stderr",
     "output_type": "stream",
     "text": [
      "C:\\Users\\Senthil\\anaconda3\\lib\\site-packages\\sklearn\\utils\\deprecation.py:87: FutureWarning: Function plot_roc_curve is deprecated; Function :func:`plot_roc_curve` is deprecated in 1.0 and will be removed in 1.2. Use one of the class methods: :meth:`sklearn.metric.RocCurveDisplay.from_predictions` or :meth:`sklearn.metric.RocCurveDisplay.from_estimator`.\n",
      "  warnings.warn(msg, category=FutureWarning)\n"
     ]
    },
    {
     "data": {
      "text/plain": [
       "<sklearn.metrics._plot.roc_curve.RocCurveDisplay at 0x2924730e610>"
      ]
     },
     "execution_count": 120,
     "metadata": {},
     "output_type": "execute_result"
    },
    {
     "data": {
      "image/png": "[encoded data removed]",
      "text/plain": [
       "<Figure size 432x288 with 1 Axes>"
      ]
     },
     "metadata": {
      "needs_background": "light"
     },
     "output_type": "display_data"
    }
   ],
   "source": [
    "plot_roc_curve(rf_Model, X_test, y_test)  "
   ]
  },
  {
   "cell_type": "code",
   "execution_count": null,
   "id": "227b56a5",
   "metadata": {},
   "outputs": [],
   "source": []
  }
 ],
 "metadata": {
  "kernelspec": {
   "display_name": "Python 3 (ipykernel)",
   "language": "python",
   "name": "python3"
  },
  "language_info": {
   "codemirror_mode": {
    "name": "ipython",
    "version": 3
   },
   "file_extension": ".py",
   "mimetype": "text/x-python",
   "name": "python",
   "nbconvert_exporter": "python",
   "pygments_lexer": "ipython3",
   "version": "3.9.7"
  }
 },
 "nbformat": 4,
 "nbformat_minor": 5
}
