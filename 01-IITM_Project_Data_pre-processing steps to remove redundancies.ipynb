{
 "cells": [
  {
   "cell_type": "markdown",
   "id": "d84662a6",
   "metadata": {},
   "source": [
    "# Input files"
   ]
  },
  {
   "cell_type": "code",
   "execution_count": 1,
   "id": "f89689a2",
   "metadata": {},
   "outputs": [],
   "source": [
    "#DNA-binding protein file\n",
    "dna_fasta=open(r\"C:\\Users\\Senthil\\OneDrive\\DSM_projects\\IIT_M_internship\\original\\protein-dna-fasta-file (4).fasta\",\"r\")\n",
    "tempseq_dna=dna_fasta.readlines()"
   ]
  },
  {
   "cell_type": "code",
   "execution_count": 2,
   "id": "c657232d",
   "metadata": {},
   "outputs": [],
   "source": [
    "#RNA-binding protein file\n",
    "rna_fasta=open(r\"C:\\Users\\Senthil\\OneDrive\\DSM_projects\\IIT_M_internship\\original\\protein-rna-fasta-file (5).fasta\",\"r\")\n",
    "tempseq_rna=rna_fasta.readlines()"
   ]
  },
  {
   "cell_type": "code",
   "execution_count": 3,
   "id": "f36cf2ae",
   "metadata": {},
   "outputs": [],
   "source": [
    "#carb-binding protein file\n",
    "carb_fasta=open(r\"C:\\Users\\Senthil\\OneDrive\\DSM_projects\\IIT_M_internship\\original\\PCI_1130_sequences_17may2022 (3).fasta\",\"r\")\n",
    "tempseq_carb=carb_fasta.readlines()"
   ]
  },
  {
   "cell_type": "code",
   "execution_count": 4,
   "id": "d62871cf",
   "metadata": {},
   "outputs": [],
   "source": [
    "#protein-binding protein file\n",
    "prot_fasta=open(r\"C:\\Users\\Senthil\\OneDrive\\DSM_projects\\IIT_M_internship\\original\\PPI_protein_seq_25.fasta (6).txt\",\"r\")\n",
    "tempseq_prot=prot_fasta.readlines()"
   ]
  },
  {
   "cell_type": "markdown",
   "id": "690db43d",
   "metadata": {},
   "source": [
    "Check length of each input file"
   ]
  },
  {
   "cell_type": "code",
   "execution_count": 5,
   "id": "41ca738e",
   "metadata": {},
   "outputs": [
    {
     "data": {
      "text/plain": [
       "3859.0"
      ]
     },
     "execution_count": 5,
     "metadata": {},
     "output_type": "execute_result"
    }
   ],
   "source": [
    "len(tempseq_dna)/2"
   ]
  },
  {
   "cell_type": "code",
   "execution_count": 6,
   "id": "79e31ac1",
   "metadata": {},
   "outputs": [
    {
     "data": {
      "text/plain": [
       "963.0"
      ]
     },
     "execution_count": 6,
     "metadata": {},
     "output_type": "execute_result"
    }
   ],
   "source": [
    "len(tempseq_rna)/2"
   ]
  },
  {
   "cell_type": "code",
   "execution_count": 7,
   "id": "12f16673",
   "metadata": {},
   "outputs": [
    {
     "data": {
      "text/plain": [
       "1130.0"
      ]
     },
     "execution_count": 7,
     "metadata": {},
     "output_type": "execute_result"
    }
   ],
   "source": [
    "len(tempseq_carb)/2"
   ]
  },
  {
   "cell_type": "code",
   "execution_count": 8,
   "id": "163e04c0",
   "metadata": {},
   "outputs": [
    {
     "data": {
      "text/plain": [
       "989.5"
      ]
     },
     "execution_count": 8,
     "metadata": {},
     "output_type": "execute_result"
    }
   ],
   "source": [
    "len(tempseq_prot)/2"
   ]
  },
  {
   "cell_type": "markdown",
   "id": "6fb20e16",
   "metadata": {},
   "source": [
    "# Step 1: Check and remove redundancy of data within each file"
   ]
  },
  {
   "cell_type": "markdown",
   "id": "91e424ed",
   "metadata": {},
   "source": [
    "COMMENT 1: \n",
    "\n",
    "Checking DNA-binding proteins file"
   ]
  },
  {
   "cell_type": "markdown",
   "id": "94b4c80f",
   "metadata": {},
   "source": [
    "    1. The sequence identifiers and sequences from the DNA-binding file are appended into two different lists (seqi_dna and seq_dna)\n",
    "    2. Create two new lists (res and seq) and append unique sequences identifiers and sequences from above lists to res and seq respectively\n",
    "    3. Create a list (dna_unique); append every element of res and seq into it\n",
    "    4. Create a file and write the items of dna_unique into it"
   ]
  },
  {
   "cell_type": "code",
   "execution_count": 9,
   "id": "3626b022",
   "metadata": {},
   "outputs": [],
   "source": [
    "#1. Separating the sequence identifiers and sequences from dna file\n",
    "# create an empty list and append only the dna sequence identifiers to it\n",
    "seqi_dna = []\n",
    "for i in range(0, len(tempseq_dna),2):\n",
    "    seqi_dna.append(tempseq_dna[i].strip())"
   ]
  },
  {
   "cell_type": "code",
   "execution_count": 10,
   "id": "ed4f7223",
   "metadata": {},
   "outputs": [],
   "source": [
    "#create a different empty list and append only the dna sequences to it\n",
    "seq_dna = []\n",
    "for i in range(1, len(tempseq_dna)-1,2):\n",
    "    seq_dna.append(tempseq_dna[i].strip())"
   ]
  },
  {
   "cell_type": "code",
   "execution_count": 11,
   "id": "b5f70aa1",
   "metadata": {},
   "outputs": [],
   "source": [
    "#2. Create two other lists res and seq; append the contents of seqi_dna to res without redundancy\n",
    "# append contents of seq_dna to seq without redundancy by incrementing a counter\n",
    "res = []\n",
    "seq = []\n",
    "cntr=0\n",
    "for i in seqi_dna:\n",
    "    if i not in res:\n",
    "        res.append(i)\n",
    "        seq.append(seq_dna[cntr])\n",
    "    cntr += 1"
   ]
  },
  {
   "cell_type": "code",
   "execution_count": 57,
   "id": "c450ffba",
   "metadata": {},
   "outputs": [],
   "source": [
    "#3. Create another list dna_unique; append every element from res and every element from seq into dna_unique \n",
    "#to get unique identifiers as well as sequences\n",
    "dna_unique = []\n",
    "cntr=0\n",
    "for everyiden in res:\n",
    "    dna_unique.append(everyiden)\n",
    "    dna_unique.append(seq[cntr])\n",
    "    cntr += 1"
   ]
  },
  {
   "cell_type": "code",
   "execution_count": 58,
   "id": "2afd05b1",
   "metadata": {},
   "outputs": [],
   "source": [
    "#4. open a file and write the items of dna_unique into the file\n",
    "f = open(r\"C:\\Users\\Senthil\\OneDrive\\DSM_projects\\IIT_M_internship\\original\\dna_unique_fromstep1.txt\", \"w\")\n",
    "for items in dna_unique:\n",
    "    f.write(items +\"\\n\")"
   ]
  },
  {
   "cell_type": "markdown",
   "id": "e1561d2c",
   "metadata": {},
   "source": [
    "# Remove redundancy within RNA-binding proteins by repeating steps as for DNA-binding proteins"
   ]
  },
  {
   "cell_type": "code",
   "execution_count": 14,
   "id": "42c496c3",
   "metadata": {},
   "outputs": [],
   "source": [
    "#1. Separating the sequence identifiers and sequences from rna file\n",
    "# create an empty list and append only the rna sequence identifiers to it\n",
    "seqi_rna = []\n",
    "for i in range(0, len(tempseq_rna),2):\n",
    "    seqi_rna.append(tempseq_rna[i].strip())"
   ]
  },
  {
   "cell_type": "code",
   "execution_count": 15,
   "id": "a7358d1c",
   "metadata": {},
   "outputs": [],
   "source": [
    "#create a different empty list and append only the rna sequences to it\n",
    "seq_rna = []\n",
    "for i in range(1, len(tempseq_rna)-1,2):\n",
    "    seq_rna.append(tempseq_rna[i].strip())"
   ]
  },
  {
   "cell_type": "code",
   "execution_count": 16,
   "id": "8bcaec82",
   "metadata": {},
   "outputs": [],
   "source": [
    "#2. Create two other lists res1 and seq1; append the contents of seqi_rna to res without redundancy\n",
    "# append contents of seq_rna to seq without redundancy by incrementing a counter\n",
    "res1 = []\n",
    "seq1 = []\n",
    "cntr=0\n",
    "for i in seqi_rna:\n",
    "    if i not in res1:\n",
    "        res1.append(i)\n",
    "        seq1.append(seq_rna[cntr])\n",
    "    cntr += 1"
   ]
  },
  {
   "cell_type": "code",
   "execution_count": 17,
   "id": "304307b0",
   "metadata": {},
   "outputs": [],
   "source": [
    "#3. Create another list rna_unique; append every element from res1 and every element from seq1 into rna_unique \n",
    "#to get unique identifiers as well as sequences\n",
    "rna_unique = []\n",
    "cntr=0\n",
    "for everyiden in res1:\n",
    "    rna_unique.append(everyiden)\n",
    "    rna_unique.append(seq_rna[cntr])\n",
    "    cntr += 1"
   ]
  },
  {
   "cell_type": "code",
   "execution_count": 18,
   "id": "9186f246",
   "metadata": {},
   "outputs": [],
   "source": [
    "#4. open a file and write the items of rna_unique into the file\n",
    "f = open(r\"C:\\Users\\Senthil\\OneDrive\\DSM_projects\\IIT_M_internship\\original\\rna_unique_fromstep1.txt\", \"w\")\n",
    "for items in rna_unique:\n",
    "    f.write(items +\"\\n\")"
   ]
  },
  {
   "cell_type": "markdown",
   "id": "64e1c05c",
   "metadata": {},
   "source": [
    "# Remove redundancy within Carbohydrate-binding proteins by repeating steps as for DNA-binding proteins"
   ]
  },
  {
   "cell_type": "code",
   "execution_count": 19,
   "id": "81f4ee92",
   "metadata": {},
   "outputs": [],
   "source": [
    "#1. Separating the sequence identifiers and sequences from carb file\n",
    "# create an empty list and append only the carb sequence identifiers to it\n",
    "seqi_carb = []\n",
    "for i in range(0, len(tempseq_carb),2):\n",
    "    seqi_carb.append(tempseq_carb[i].strip())"
   ]
  },
  {
   "cell_type": "code",
   "execution_count": 20,
   "id": "42ad20ee",
   "metadata": {},
   "outputs": [],
   "source": [
    "#create a different empty list and append only the carb sequences to it\n",
    "seq_carb = []\n",
    "# for i in range(1, len(tempseq_carb)-1,2):\n",
    "#     seq_carb.append(tempseq_carb[i].strip())\n",
    "# #    print (tempseq[i])\n",
    "cntr = 0\n",
    "for i in tempseq_carb:\n",
    "    if cntr % 2 != 0:\n",
    "        seq_carb.append(i)\n",
    "    cntr += 1"
   ]
  },
  {
   "cell_type": "code",
   "execution_count": 21,
   "id": "06088227",
   "metadata": {},
   "outputs": [],
   "source": [
    "#2. Create two other lists res2 and seq2; append the contents of seqi_carb to res2 without redundancy\n",
    "# append contents of seq_carb to seq2 without redundancy by incrementing a counter\n",
    "res2 = []\n",
    "seq2 = []\n",
    "cntr=0\n",
    "for i in seqi_carb:\n",
    "    if i not in res2:\n",
    "        res2.append(i)\n",
    "        #print (str(cntr) )\n",
    "        seq2.append(seq_carb[cntr])\n",
    "    cntr += 1"
   ]
  },
  {
   "cell_type": "code",
   "execution_count": 22,
   "id": "75655a2c",
   "metadata": {},
   "outputs": [],
   "source": [
    "#3. and #4. open a file and write the contents in res2 and seq2 into the file directly without creating list\n",
    "f = open(r\"C:\\Users\\Senthil\\OneDrive\\DSM_projects\\IIT_M_internship\\original\\carb_unique_fromstep1.txt\", \"w\")\n",
    "carb_unique=0\n",
    "for iden in res2:\n",
    "    f.write(iden + \"\\n\")\n",
    "    f.write(seq2[carb_unique])\n",
    "    carb_unique +=1   \n",
    "\n",
    "f.close()"
   ]
  },
  {
   "cell_type": "markdown",
   "id": "a9e06093",
   "metadata": {},
   "source": [
    "# Remove redundancy within protein-binding proteins by repeating steps as for DNA-binding proteins"
   ]
  },
  {
   "cell_type": "code",
   "execution_count": 23,
   "id": "003615ff",
   "metadata": {},
   "outputs": [],
   "source": [
    "#tempseq_prot"
   ]
  },
  {
   "cell_type": "code",
   "execution_count": 24,
   "id": "c21ae06d",
   "metadata": {},
   "outputs": [],
   "source": [
    "# Requires additional step as the sequences are available as three different lines\n",
    "# An empty string is called and each line of tempseq_prot is added to it\n",
    "temp_str=\"\"\n",
    "for i in tempseq_prot:\n",
    "    temp_str=temp_str+i"
   ]
  },
  {
   "cell_type": "code",
   "execution_count": 25,
   "id": "ec4d3274",
   "metadata": {},
   "outputs": [],
   "source": [
    "#The protein heteromer content in temp_str is split by two line gaps and read into a prot_seq file\n",
    "prot_seq=temp_str.split(\"\\n\\n\")"
   ]
  },
  {
   "cell_type": "code",
   "execution_count": 26,
   "id": "5db757f5",
   "metadata": {},
   "outputs": [],
   "source": [
    "prot_seq1=prot_seq[:-1]"
   ]
  },
  {
   "cell_type": "code",
   "execution_count": 27,
   "id": "3b29b008",
   "metadata": {},
   "outputs": [],
   "source": [
    "# A new list pro_het is created and the information on prot_seq is appended into pro_het line by line\n",
    "pro_het=[]\n",
    "ctr=1\n",
    "temp=[]\n",
    "for i in prot_seq1:\n",
    "    #print(i+\"\\n\")\n",
    "    if i != \"\":\n",
    "        temp=i.split(\"]\")\n",
    "        ctr+=1\n",
    "        pro_het.append( temp[0].strip().replace(\"\\n\",\"\")+ \"]\")\n",
    "        pro_het.append( temp[1].strip().replace(\"\\n\",\"\"))\n",
    "#print(l)"
   ]
  },
  {
   "cell_type": "code",
   "execution_count": 28,
   "id": "6e425980",
   "metadata": {},
   "outputs": [
    {
     "data": {
      "text/plain": [
       "880"
      ]
     },
     "execution_count": 28,
     "metadata": {},
     "output_type": "execute_result"
    }
   ],
   "source": [
    "len(pro_het)"
   ]
  },
  {
   "cell_type": "code",
   "execution_count": 29,
   "id": "933fa600",
   "metadata": {},
   "outputs": [],
   "source": [
    "#pro_het"
   ]
  },
  {
   "cell_type": "code",
   "execution_count": 30,
   "id": "15e3b5fe",
   "metadata": {},
   "outputs": [],
   "source": [
    "#pro_het[0:4]"
   ]
  },
  {
   "cell_type": "code",
   "execution_count": 31,
   "id": "1ee76bd1",
   "metadata": {},
   "outputs": [],
   "source": [
    "#Create a new list containing only the unique sequence identifiers from pro_het\n",
    "seq_iden=[]\n",
    "for i in range(0,len(pro_het),2):\n",
    "    seq_iden.append(pro_het[i].strip())\n",
    "    #print(pro_het[i].strip())"
   ]
  },
  {
   "cell_type": "code",
   "execution_count": 32,
   "id": "b8fd8c87",
   "metadata": {},
   "outputs": [],
   "source": [
    "#create a different empty list and append only the dna sequences to it\n",
    "seq_prot = []\n",
    "for i in range(1, len(pro_het)-1,2):\n",
    "    seq_prot.append(pro_het[i].strip())\n",
    "    #print(pro_het[i].strip())"
   ]
  },
  {
   "cell_type": "code",
   "execution_count": 33,
   "id": "0583aeb2",
   "metadata": {},
   "outputs": [],
   "source": [
    "seq_iden = seq_iden[:-1]"
   ]
  },
  {
   "cell_type": "code",
   "execution_count": 34,
   "id": "d3d83822",
   "metadata": {},
   "outputs": [],
   "source": [
    "#Create two other lists res4 and seq4; append the contents of seqientifier to res4 without redundancy\n",
    "# append contents of sequence to seq4 without redundancy by incrementing a counter\n",
    "res4 = []\n",
    "seq4 = []\n",
    "cntr=0\n",
    "for i in seq_iden:\n",
    "    if i not in res4:\n",
    "        res4.append(i)\n",
    "        seq4.append(seq_prot[cntr])\n",
    "    cntr += 1"
   ]
  },
  {
   "cell_type": "code",
   "execution_count": 35,
   "id": "683b3e37",
   "metadata": {},
   "outputs": [],
   "source": [
    "#3. open a file and write the items of protein_unique into the file\n",
    "f = open(r\"C:\\Users\\Senthil\\OneDrive\\DSM_projects\\IIT_M_internship\\original\\prot_unique_fromstep1.txt\", \"w\")\n",
    "prot_unique=0\n",
    "for iden in res4:\n",
    "    f.write(iden + \"\\n\")\n",
    "    f.write(seq4[prot_unique] + \"\\n\")\n",
    "    prot_unique +=1   \n",
    "\n",
    "f.close()"
   ]
  },
  {
   "cell_type": "markdown",
   "id": "834d90e9",
   "metadata": {},
   "source": [
    "# Read all files and check number of sequences after removal of duplicates"
   ]
  },
  {
   "cell_type": "code",
   "execution_count": 59,
   "id": "67d5ef06",
   "metadata": {},
   "outputs": [],
   "source": [
    "dna_file=open(r\"C:\\Users\\Senthil\\OneDrive\\DSM_projects\\IIT_M_internship\\original\\dna_unique_fromstep1.txt\",\"r\")\n",
    "dna_binding = dna_file.readlines()"
   ]
  },
  {
   "cell_type": "code",
   "execution_count": 54,
   "id": "fa1c3614",
   "metadata": {},
   "outputs": [
    {
     "data": {
      "text/plain": [
       "842.0"
      ]
     },
     "execution_count": 54,
     "metadata": {},
     "output_type": "execute_result"
    }
   ],
   "source": [
    "len(dna_binding)/2"
   ]
  },
  {
   "cell_type": "code",
   "execution_count": 38,
   "id": "27bcd1ad",
   "metadata": {},
   "outputs": [],
   "source": [
    "rna_uniprot= open(r\"C:\\Users\\Senthil\\OneDrive\\DSM_projects\\IIT_M_internship\\original\\rna_unique_fromstep1.txt\",\"r\")\n",
    "rna_binding=rna_uniprot.readlines()"
   ]
  },
  {
   "cell_type": "code",
   "execution_count": 39,
   "id": "9b221233",
   "metadata": {},
   "outputs": [
    {
     "data": {
      "text/plain": [
       "232.0"
      ]
     },
     "execution_count": 39,
     "metadata": {},
     "output_type": "execute_result"
    }
   ],
   "source": [
    "len(rna_binding)/2"
   ]
  },
  {
   "cell_type": "code",
   "execution_count": 40,
   "id": "80b56f04",
   "metadata": {},
   "outputs": [],
   "source": [
    "carb_uniprot= open(r\"C:\\Users\\Senthil\\OneDrive\\DSM_projects\\IIT_M_internship\\original\\carb_unique_fromstep1.txt\",\"r\")\n",
    "carb_binding=carb_uniprot.readlines()"
   ]
  },
  {
   "cell_type": "code",
   "execution_count": 41,
   "id": "e0d5c3cd",
   "metadata": {},
   "outputs": [
    {
     "data": {
      "text/plain": [
       "1130.0"
      ]
     },
     "execution_count": 41,
     "metadata": {},
     "output_type": "execute_result"
    }
   ],
   "source": [
    "len(carb_binding)/2"
   ]
  },
  {
   "cell_type": "code",
   "execution_count": 42,
   "id": "55f15449",
   "metadata": {},
   "outputs": [],
   "source": [
    "prot_uniprot= open(r\"C:\\Users\\Senthil\\OneDrive\\DSM_projects\\IIT_M_internship\\original\\prot_unique_fromstep1.txt\",\"r\")\n",
    "prot_binding=prot_uniprot.readlines()"
   ]
  },
  {
   "cell_type": "code",
   "execution_count": 43,
   "id": "d381b1a4",
   "metadata": {},
   "outputs": [
    {
     "data": {
      "text/plain": [
       "439.0"
      ]
     },
     "execution_count": 43,
     "metadata": {},
     "output_type": "execute_result"
    }
   ],
   "source": [
    "len(prot_binding)/2"
   ]
  },
  {
   "cell_type": "markdown",
   "id": "cee8f683",
   "metadata": {},
   "source": [
    "# STEP2: Check and remove matches in all files against CGC and Uniprot id_mapping"
   ]
  },
  {
   "cell_type": "markdown",
   "id": "e43e7db6",
   "metadata": {},
   "source": [
    "1. Both the DNA-binding protein file with non-redundant data (within the file) and the cgc file are imported into the notebook\n",
    "2. To test the matches, conditions are set such that if the sequences in dna binding file matches wit the cgc file, the matches are reported along with corresponding identifier and sequences\n",
    "3. The matched sequences are separated into a different file (for future reference)\n",
    "4. The unique sequences along with respective identifiers in a different file (used for further steps) \n",
    "5. List of only identifiers is generated to map against the IDs in Uniprot to obtain complete sequence information which is again tested for match with CGC"
   ]
  },
  {
   "cell_type": "code",
   "execution_count": 60,
   "id": "f481eb98",
   "metadata": {},
   "outputs": [],
   "source": [
    "#import the cgc file\n",
    "cgc_file=open(r\"C:\\Users\\Senthil\\OneDrive\\DSM_projects\\IIT_M_internship\\original\\fasta_cgc (4).fasta\",\"r\")\n",
    "cgc_binding = cgc_file.readlines()"
   ]
  },
  {
   "cell_type": "markdown",
   "id": "f1993d97",
   "metadata": {},
   "source": [
    "Get the matched sequences between dna and cgc"
   ]
  },
  {
   "cell_type": "code",
   "execution_count": 61,
   "id": "091bd0cc",
   "metadata": {},
   "outputs": [
    {
     "name": "stdout",
     "output_type": "stream",
     "text": [
      "Match\n",
      ">3thwA\n",
      "MAVQPKETLQLESAAEVGFVRFFQGMPEKPTTTVRLFDRGDFYTAHGEDALLAAREVFKTQGVIKYMGPAGAKNLQSVVLSKMNFESFVKDLLLVRQYRVEVYKNRAGNKASKENDWYLAYKASPGNLSQFEDILFGNNDMSASIGVVGVKMSAVDGQRQVGVGYVDSIQRKLGLCEFPDNDQFSNLEALLIQIGPKECVLPGGETAGDMGKLRQIIQRGGILITERKKADFSTKDIYQDLNRLLKGKKGEQMNSAVLPEMENQVAVSSLSAVIKFLELLSDDSNFGQFELTTFDFSQYMKLDIAAVRALNLFQGSVEDTTGSQSLAALLNKCKTPQGQRLVNQWIKQPLMDKNRIEERLNLVEAFVEDAELRQTLQEDLLRRFPDLNRLAKKFQRQAANLQDCYRLYQGINQLPNVIQALEKHEGKHQKLLLAVFVTPLTDLRSDFSKFQEMIETTLDMDQVENHEFLVKPSFDPNLSELREIMNDLEKKMQSTLISAARDLGLDPGKQIKLDSSAQFGYYFRVTCKEEKVLRNNKNFSTVDIQKNGVKFTNSKLTSLNEEYTKNKTEYEEAQDAIVKEIVNISSGYVEPMQTLNDVLAQLDAVVSFAHVSNGAPVPYVRPAILEKGQGRIILKASRHACVEVQDEIAFIPNDVYFEKDKQMFHIITGPNMGGKSTYIRQTGVIVLMAQIGCFVPCESAEVSIVDCILARVGAGDSQLKGVSTFMAEMLETASILRSATKDSLIIIDELGRGTSTYDGFGLAWAISEYIATKIGAFCMFATHFHELTALANQIPTVNNLHVTALTTEETLTMLYQVKKGVCDQSFGIHVAELANFPKHVIECAKQKALELEEFQYIGESQGYDIMEPAAKKCYLEREQGEKIIQEFLSKVKQMPFTEMSEENITIKLKQLKAEVIAKNNSFVNEIISRIKVTT\n",
      "\n",
      ">MSH2_P43246\n",
      "MAVQPKETLQLESAAEVGFVRFFQGMPEKPTTTVRLFDRGDFYTAHGEDALLAAREVFKTQGVIKYMGPAGAKNLQSVVLSKMNFESFVKDLLLVRQYRVEVYKNRAGNKASKENDWYLAYKASPGNLSQFEDILFGNNDMSASIGVVGVKMSAVDGQRQVGVGYVDSIQRKLGLCEFPDNDQFSNLEALLIQIGPKECVLPGGETAGDMGKLRQIIQRGGILITERKKADFSTKDIYQDLNRLLKGKKGEQMNSAVLPEMENQVAVSSLSAVIKFLELLSDDSNFGQFELTTFDFSQYMKLDIAAVRALNLFQGSVEDTTGSQSLAALLNKCKTPQGQRLVNQWIKQPLMDKNRIEERLNLVEAFVEDAELRQTLQEDLLRRFPDLNRLAKKFQRQAANLQDCYRLYQGINQLPNVIQALEKHEGKHQKLLLAVFVTPLTDLRSDFSKFQEMIETTLDMDQVENHEFLVKPSFDPNLSELREIMNDLEKKMQSTLISAARDLGLDPGKQIKLDSSAQFGYYFRVTCKEEKVLRNNKNFSTVDIQKNGVKFTNSKLTSLNEEYTKNKTEYEEAQDAIVKEIVNISSGYVEPMQTLNDVLAQLDAVVSFAHVSNGAPVPYVRPAILEKGQGRIILKASRHACVEVQDEIAFIPNDVYFEKDKQMFHIITGPNMGGKSTYIRQTGVIVLMAQIGCFVPCESAEVSIVDCILARVGAGDSQLKGVSTFMAEMLETASILRSATKDSLIIIDELGRGTSTYDGFGLAWAISEYIATKIGAFCMFATHFHELTALANQIPTVNNLHVTALTTEETLTMLYQVKKGVCDQSFGIHVAELANFPKHVIECAKQKALELEEFQYIGESQGYDIMEPAAKKCYLEREQGEKIIQEFLSKVKQMPFTEMSEENITIKLKQLKAEVIAKNNSFVNEIISRIKVTT\n",
      "\n",
      "Match\n",
      ">3thxA\n",
      "MAVQPKETLQLESAAEVGFVRFFQGMPEKPTTTVRLFDRGDFYTAHGEDALLAAREVFKTQGVIKYMGPAGAKNLQSVVLSKMNFESFVKDLLLVRQYRVEVYKNRAGNKASKENDWYLAYKASPGNLSQFEDILFGNNDMSASIGVVGVKMSAVDGQRQVGVGYVDSIQRKLGLCEFPDNDQFSNLEALLIQIGPKECVLPGGETAGDMGKLRQIIQRGGILITERKKADFSTKDIYQDLNRLLKGKKGEQMNSAVLPEMENQVAVSSLSAVIKFLELLSDDSNFGQFELTTFDFSQYMKLDIAAVRALNLFQGSVEDTTGSQSLAALLNKCKTPQGQRLVNQWIKQPLMDKNRIEERLNLVEAFVEDAELRQTLQEDLLRRFPDLNRLAKKFQRQAANLQDCYRLYQGINQLPNVIQALEKHEGKHQKLLLAVFVTPLTDLRSDFSKFQEMIETTLDMDQVENHEFLVKPSFDPNLSELREIMNDLEKKMQSTLISAARDLGLDPGKQIKLDSSAQFGYYFRVTCKEEKVLRNNKNFSTVDIQKNGVKFTNSKLTSLNEEYTKNKTEYEEAQDAIVKEIVNISSGYVEPMQTLNDVLAQLDAVVSFAHVSNGAPVPYVRPAILEKGQGRIILKASRHACVEVQDEIAFIPNDVYFEKDKQMFHIITGPNMGGKSTYIRQTGVIVLMAQIGCFVPCESAEVSIVDCILARVGAGDSQLKGVSTFMAEMLETASILRSATKDSLIIIDELGRGTSTYDGFGLAWAISEYIATKIGAFCMFATHFHELTALANQIPTVNNLHVTALTTEETLTMLYQVKKGVCDQSFGIHVAELANFPKHVIECAKQKALELEEFQYIGESQGYDIMEPAAKKCYLEREQGEKIIQEFLSKVKQMPFTEMSEENITIKLKQLKAEVIAKNNSFVNEIISRIKVTT\n",
      "\n",
      ">MSH2_P43246\n",
      "MAVQPKETLQLESAAEVGFVRFFQGMPEKPTTTVRLFDRGDFYTAHGEDALLAAREVFKTQGVIKYMGPAGAKNLQSVVLSKMNFESFVKDLLLVRQYRVEVYKNRAGNKASKENDWYLAYKASPGNLSQFEDILFGNNDMSASIGVVGVKMSAVDGQRQVGVGYVDSIQRKLGLCEFPDNDQFSNLEALLIQIGPKECVLPGGETAGDMGKLRQIIQRGGILITERKKADFSTKDIYQDLNRLLKGKKGEQMNSAVLPEMENQVAVSSLSAVIKFLELLSDDSNFGQFELTTFDFSQYMKLDIAAVRALNLFQGSVEDTTGSQSLAALLNKCKTPQGQRLVNQWIKQPLMDKNRIEERLNLVEAFVEDAELRQTLQEDLLRRFPDLNRLAKKFQRQAANLQDCYRLYQGINQLPNVIQALEKHEGKHQKLLLAVFVTPLTDLRSDFSKFQEMIETTLDMDQVENHEFLVKPSFDPNLSELREIMNDLEKKMQSTLISAARDLGLDPGKQIKLDSSAQFGYYFRVTCKEEKVLRNNKNFSTVDIQKNGVKFTNSKLTSLNEEYTKNKTEYEEAQDAIVKEIVNISSGYVEPMQTLNDVLAQLDAVVSFAHVSNGAPVPYVRPAILEKGQGRIILKASRHACVEVQDEIAFIPNDVYFEKDKQMFHIITGPNMGGKSTYIRQTGVIVLMAQIGCFVPCESAEVSIVDCILARVGAGDSQLKGVSTFMAEMLETASILRSATKDSLIIIDELGRGTSTYDGFGLAWAISEYIATKIGAFCMFATHFHELTALANQIPTVNNLHVTALTTEETLTMLYQVKKGVCDQSFGIHVAELANFPKHVIECAKQKALELEEFQYIGESQGYDIMEPAAKKCYLEREQGEKIIQEFLSKVKQMPFTEMSEENITIKLKQLKAEVIAKNNSFVNEIISRIKVTT\n",
      "\n",
      "Match\n",
      ">3thzA\n",
      "MAVQPKETLQLESAAEVGFVRFFQGMPEKPTTTVRLFDRGDFYTAHGEDALLAAREVFKTQGVIKYMGPAGAKNLQSVVLSKMNFESFVKDLLLVRQYRVEVYKNRAGNKASKENDWYLAYKASPGNLSQFEDILFGNNDMSASIGVVGVKMSAVDGQRQVGVGYVDSIQRKLGLCEFPDNDQFSNLEALLIQIGPKECVLPGGETAGDMGKLRQIIQRGGILITERKKADFSTKDIYQDLNRLLKGKKGEQMNSAVLPEMENQVAVSSLSAVIKFLELLSDDSNFGQFELTTFDFSQYMKLDIAAVRALNLFQGSVEDTTGSQSLAALLNKCKTPQGQRLVNQWIKQPLMDKNRIEERLNLVEAFVEDAELRQTLQEDLLRRFPDLNRLAKKFQRQAANLQDCYRLYQGINQLPNVIQALEKHEGKHQKLLLAVFVTPLTDLRSDFSKFQEMIETTLDMDQVENHEFLVKPSFDPNLSELREIMNDLEKKMQSTLISAARDLGLDPGKQIKLDSSAQFGYYFRVTCKEEKVLRNNKNFSTVDIQKNGVKFTNSKLTSLNEEYTKNKTEYEEAQDAIVKEIVNISSGYVEPMQTLNDVLAQLDAVVSFAHVSNGAPVPYVRPAILEKGQGRIILKASRHACVEVQDEIAFIPNDVYFEKDKQMFHIITGPNMGGKSTYIRQTGVIVLMAQIGCFVPCESAEVSIVDCILARVGAGDSQLKGVSTFMAEMLETASILRSATKDSLIIIDELGRGTSTYDGFGLAWAISEYIATKIGAFCMFATHFHELTALANQIPTVNNLHVTALTTEETLTMLYQVKKGVCDQSFGIHVAELANFPKHVIECAKQKALELEEFQYIGESQGYDIMEPAAKKCYLEREQGEKIIQEFLSKVKQMPFTEMSEENITIKLKQLKAEVIAKNNSFVNEIISRIKVTT\n",
      "\n",
      ">MSH2_P43246\n",
      "MAVQPKETLQLESAAEVGFVRFFQGMPEKPTTTVRLFDRGDFYTAHGEDALLAAREVFKTQGVIKYMGPAGAKNLQSVVLSKMNFESFVKDLLLVRQYRVEVYKNRAGNKASKENDWYLAYKASPGNLSQFEDILFGNNDMSASIGVVGVKMSAVDGQRQVGVGYVDSIQRKLGLCEFPDNDQFSNLEALLIQIGPKECVLPGGETAGDMGKLRQIIQRGGILITERKKADFSTKDIYQDLNRLLKGKKGEQMNSAVLPEMENQVAVSSLSAVIKFLELLSDDSNFGQFELTTFDFSQYMKLDIAAVRALNLFQGSVEDTTGSQSLAALLNKCKTPQGQRLVNQWIKQPLMDKNRIEERLNLVEAFVEDAELRQTLQEDLLRRFPDLNRLAKKFQRQAANLQDCYRLYQGINQLPNVIQALEKHEGKHQKLLLAVFVTPLTDLRSDFSKFQEMIETTLDMDQVENHEFLVKPSFDPNLSELREIMNDLEKKMQSTLISAARDLGLDPGKQIKLDSSAQFGYYFRVTCKEEKVLRNNKNFSTVDIQKNGVKFTNSKLTSLNEEYTKNKTEYEEAQDAIVKEIVNISSGYVEPMQTLNDVLAQLDAVVSFAHVSNGAPVPYVRPAILEKGQGRIILKASRHACVEVQDEIAFIPNDVYFEKDKQMFHIITGPNMGGKSTYIRQTGVIVLMAQIGCFVPCESAEVSIVDCILARVGAGDSQLKGVSTFMAEMLETASILRSATKDSLIIIDELGRGTSTYDGFGLAWAISEYIATKIGAFCMFATHFHELTALANQIPTVNNLHVTALTTEETLTMLYQVKKGVCDQSFGIHVAELANFPKHVIECAKQKALELEEFQYIGESQGYDIMEPAAKKCYLEREQGEKIIQEFLSKVKQMPFTEMSEENITIKLKQLKAEVIAKNNSFVNEIISRIKVTT\n",
      "\n"
     ]
    }
   ],
   "source": [
    "ctr = 0\n",
    "for i in range(1,len(dna_binding)-1,2):\n",
    "    for j in range(1,len(cgc_binding)-1,2):\n",
    "        if (dna_binding[i])== (cgc_binding[j]):\n",
    "            print(\"Match\" + \"\\n\" + dna_binding[i-1] + dna_binding[i] + \"\\n\" + cgc_binding[j-1] + cgc_binding[j])"
   ]
  },
  {
   "cell_type": "markdown",
   "id": "935f7243",
   "metadata": {},
   "source": [
    "Remove the cgc-DNA match from the file"
   ]
  },
  {
   "cell_type": "code",
   "execution_count": 62,
   "id": "628e1d52",
   "metadata": {},
   "outputs": [],
   "source": [
    "#To get lists of DNA matches with CGC, list without DNA matches with CGC, and list with unique identifiers (For testing match with uniprot ID-mapping)\n",
    "dna_wo_match=[]\n",
    "dna_matches=[]\n",
    "dna_iden=[]\n",
    "for i in range(1,len(dna_binding)-1,2):\n",
    "    match=False\n",
    "    for j in range(1,len(cgc_binding)-1,2):\n",
    "        if (dna_binding[i])== (cgc_binding[j]):\n",
    "            dna_matches.append(\"\\n\"+dna_binding[i-1]+dna_binding[i])\n",
    "            dna_matches.append(cgc_binding[j-1]+cgc_binding[j])\n",
    "            match=True\n",
    "            #print(\"Match\" + \"\\n\" + dna_binding[i-1] + dna_binding[i] + \"\\n\" + cgc_binding[j-1] + cgc_binding[j])\n",
    "            \n",
    "    if match==False:\n",
    "        dna_wo_match.append(dna_binding[i-1]+dna_binding[i])\n",
    "        dna_iden.append(dna_binding[i-1])"
   ]
  },
  {
   "cell_type": "code",
   "execution_count": 63,
   "id": "a76931c8",
   "metadata": {},
   "outputs": [],
   "source": [
    "#Write a file having only match details of dna and cgc\n",
    "f=open(r\"C:\\Users\\Senthil\\OneDrive\\DSM_projects\\IIT_M_internship\\original\\dna_cgc_match.txt\",\"w\")\n",
    "for i in dna_matches:\n",
    "    f.write(i)\n",
    "f.close()\n",
    "#dna_matches"
   ]
  },
  {
   "cell_type": "code",
   "execution_count": 64,
   "id": "79e46f01",
   "metadata": {},
   "outputs": [],
   "source": [
    "#Write a file having sequence and their identifiers without match between dna and cgc\n",
    "f=open(r\"C:\\Users\\Senthil\\OneDrive\\DSM_projects\\IIT_M_internship\\original\\dna_wo_cgcmatch.txt\",\"w\")\n",
    "for i in dna_wo_match:\n",
    "    f.write(i)\n",
    "f.close()"
   ]
  },
  {
   "cell_type": "code",
   "execution_count": 65,
   "id": "b62fb130",
   "metadata": {},
   "outputs": [],
   "source": [
    "#Enlist sequence identifier from dna_iden list without >,chain information and write to a file. (To map in uniprot)\n",
    "f = open(r\"C:\\Users\\Senthil\\OneDrive\\DSM_projects\\IIT_M_internship\\original\\dnaidentifier.txt\", \"w\")\n",
    "for i in dna_iden:\n",
    "    #f.write(i.replace(\">\",\"\")+\"\\n\")\n",
    "    f.write(i.replace(i[5],\"\").replace(\">\",\"\"))\n",
    "        #seqiden.append(res[i].replace (\">\", \"\"))\n",
    "    #f.write(i.replace(\">\",\" \") +\"\\n\")\n",
    "f.close()"
   ]
  },
  {
   "cell_type": "markdown",
   "id": "8bf6a9f9",
   "metadata": {},
   "source": [
    "Test match with Uniprot ID_mapping by loading the identifiers into https://www.uniprot.org/id-mapping\n",
    "1. The identifiers form the dnaidentifier.txt file were loaded into the space given in the above link\n",
    "2. The IDs were mapped and the output was downloaded locally as a CSV file\n",
    "3. The CSV file output from Uniprot is read into the notebook as a Pandas dataframe\n",
    "4. The sequence IDs (Entry) and Sequences from the dataframe are appended into a list which is then compared against the CGC to test for matches"
   ]
  },
  {
   "cell_type": "code",
   "execution_count": 66,
   "id": "e14a5949",
   "metadata": {},
   "outputs": [],
   "source": [
    "# Open the uniprot id_mapping output file\n",
    "dna_uniprot= open(r\"C:\\Users\\Senthil\\OneDrive\\DSM_projects\\IIT_M_internship\\original\\DNA_mapped_uniprot.csv\",\"r\")\n",
    "dna_test=dna_uniprot.readlines()\n",
    "dna_uniprot.close()"
   ]
  },
  {
   "cell_type": "code",
   "execution_count": 67,
   "id": "48880c58",
   "metadata": {},
   "outputs": [],
   "source": [
    "import pandas as pd\n",
    "from pandas import DataFrame\n",
    "import os"
   ]
  },
  {
   "cell_type": "code",
   "execution_count": 71,
   "id": "91603e2f",
   "metadata": {},
   "outputs": [],
   "source": [
    "os.chdir(r\"C:\\Users\\Senthil\\OneDrive\\DSM_projects\\IIT_M_internship\\original\")"
   ]
  },
  {
   "cell_type": "code",
   "execution_count": 72,
   "id": "a2d4bf19",
   "metadata": {},
   "outputs": [],
   "source": [
    "df=pd.read_csv('DNA_mapped_uniprot.csv')"
   ]
  },
  {
   "cell_type": "code",
   "execution_count": 73,
   "id": "eed78c01",
   "metadata": {},
   "outputs": [
    {
     "name": "stdout",
     "output_type": "stream",
     "text": [
      "     From   Entry   Entry Name  \\\n",
      "0    1aay  P08046   EGR1_MOUSE   \n",
      "1    1ais  P61999   TF2B_PYRWO   \n",
      "2    1ais  P62001    TBP_PYRWO   \n",
      "3    1az0  P04390   T2E5_ECOLX   \n",
      "4    1azp  P13123   DN7D_SULAC   \n",
      "..    ...     ...          ...   \n",
      "437  6ki6  Q9H165  BC11A_HUMAN   \n",
      "438  6kks  Q9SEI0    WER_ARATH   \n",
      "439  6mht  P05102   MTH1_HAEPH   \n",
      "440  6r64  P24200   MCRA_ECOLI   \n",
      "441  6u7t  P83847   MUTY_GEOSE   \n",
      "\n",
      "                                              Sequence  \n",
      "0    MAAAKAEMQLMSPLQISDPFGSFPHSPTMDNYPKLEEMMLLSNGAP...  \n",
      "1    MNKQKVCPACESAELIYDPERGEIVCAKCGYVIEENIIDMGPEWRA...  \n",
      "2    MVDMSKVKLRIENIVASVDLFAQLDLEKVLDLCPNSKYNPEEFPGI...  \n",
      "3    MSLRSDLINALYDENQKYDVCGIISAEGKIYPLGSDTKVLSTIFEL...  \n",
      "4    MVKVKFKYKGEEKEVDTSKIKKVWRVGKMVSFTYDDNGKTGRGAVS...  \n",
      "..                                                 ...  \n",
      "437  MSRRKQGKPQHLSKREFSPEPLEAILTDDEPDHGPLGAPEGDHDLL...  \n",
      "438  MRKKVSSSGDEGNNEYKKGLWTVEEDKILMDYVKAHGKGHWNRIAK...  \n",
      "439  MIEIKDKQLTGLRFIDLFAGLGGFRLALESCGAECVYSNEWDKYAQ...  \n",
      "440  MHVFDNNGIELKAECSIGEEDGVYGLILESWGPGDRNKDYNIALDY...  \n",
      "441  MTRETERFPAREFQRDLLDWFARERRDLPWRKDRDPYKVWVSEVML...  \n",
      "\n",
      "[442 rows x 4 columns]\n"
     ]
    }
   ],
   "source": [
    "print(df)"
   ]
  },
  {
   "cell_type": "code",
   "execution_count": 74,
   "id": "804cab7b",
   "metadata": {},
   "outputs": [],
   "source": [
    "dna_seq=(df[\"Sequence\"]).tolist()"
   ]
  },
  {
   "cell_type": "code",
   "execution_count": 75,
   "id": "c027c0c2",
   "metadata": {},
   "outputs": [],
   "source": [
    "dna_entry=(df[\"Entry\"]).tolist()"
   ]
  },
  {
   "cell_type": "code",
   "execution_count": 78,
   "id": "925d46c6",
   "metadata": {},
   "outputs": [],
   "source": [
    "dna_uniprot = []\n",
    "cntr=0\n",
    "for everyiden in dna_entry:\n",
    "    dna_uniprot.append(everyiden)\n",
    "    dna_uniprot.append(dna_seq[cntr])\n",
    "    cntr += 1"
   ]
  },
  {
   "cell_type": "code",
   "execution_count": 79,
   "id": "24680aa9",
   "metadata": {},
   "outputs": [
    {
     "name": "stdout",
     "output_type": "stream",
     "text": [
      "0\n"
     ]
    }
   ],
   "source": [
    "ctr=0\n",
    "for i in range(1,len(dna_uniprot)-1, 2):\n",
    "    for j in range(0,len(cgc_binding),1):\n",
    "        if dna_uniprot[i]==cgc_binding[j]:\n",
    "            print(\"Match\" + \"\\n\"+ dna_uniprot[i-1] + \"\\n\"+ dna_uniprot[i] + \"\\n\" + cgc_binding[j-1] + cgc_binding[j])\n",
    "            ctr+=1\n",
    "print(ctr)"
   ]
  },
  {
   "cell_type": "code",
   "execution_count": null,
   "id": "99319437",
   "metadata": {},
   "outputs": [],
   "source": [
    "#Shows the compete sequence information did not have further matches between the DNA-binding proteins and the CGC file"
   ]
  },
  {
   "cell_type": "markdown",
   "id": "278b1539",
   "metadata": {},
   "source": [
    "# Repeat of Check and remove matches in RNA files against CGC and also by Uniprot id_mapping"
   ]
  },
  {
   "cell_type": "code",
   "execution_count": 80,
   "id": "6e569e3b",
   "metadata": {},
   "outputs": [],
   "source": [
    "#To get the matched sequences between rna and cgc\n",
    "ctr = 0\n",
    "for i in range(1,len(rna_binding)-1,2):\n",
    "    for j in range(1,len(cgc_binding)-1,2):\n",
    "        if (rna_binding[i])== (cgc_binding[j]):\n",
    "            print(\"Match\" + \"\\n\" + rna_binding[i-1] + rna_binding[i] + \"\\n\" + cgc_binding[j-1] + cgc_binding[j])"
   ]
  },
  {
   "cell_type": "code",
   "execution_count": 81,
   "id": "d86ea275",
   "metadata": {},
   "outputs": [],
   "source": [
    "f = open(r\"C:\\Users\\Senthil\\OneDrive\\DSM_projects\\IIT_M_internship\\original\\rnaidentifier.txt\", \"w\")\n",
    "for i in res:\n",
    "    #f.write(i.replace(\">\",\"\")+\"\\n\")\n",
    "    f.write(i.replace(i[-1],\"\").replace(\">\",\"\")+\"\\n\")"
   ]
  },
  {
   "cell_type": "code",
   "execution_count": 82,
   "id": "5cb8f721",
   "metadata": {},
   "outputs": [],
   "source": [
    "# Open the uniprot id_mapping output file\n",
    "rna_uniprot= open(r\"C:\\Users\\Senthil\\OneDrive\\DSM_projects\\IIT_M_internship\\original\\RNA_uniprot.csv\",\"r\")\n",
    "rna_test=rna_uniprot.readlines()\n",
    "rna_uniprot.close()"
   ]
  },
  {
   "cell_type": "code",
   "execution_count": 84,
   "id": "3bba7590",
   "metadata": {},
   "outputs": [],
   "source": [
    "df1=pd.read_csv('RNA_uniprot.csv')"
   ]
  },
  {
   "cell_type": "code",
   "execution_count": 85,
   "id": "1aa51b70",
   "metadata": {},
   "outputs": [
    {
     "name": "stdout",
     "output_type": "stream",
     "text": [
      "     From   Entry    Entry Name  \\\n",
      "0    1a4t  P04891    REGN_BPP22   \n",
      "1    1asy  P04802    SYDC_YEAST   \n",
      "2    1c9s  Q9X6J6    MTRB_GEOSE   \n",
      "3    1cvj  P11940   PABP1_HUMAN   \n",
      "4    1dfu  P68919    RL25_ECOLI   \n",
      "..    ...     ...           ...   \n",
      "171  6mce  P04608     TAT_HV1H2   \n",
      "172  6mcf  P04608     TAT_HV1H2   \n",
      "173  6ny5  O60059    YG58_SCHPO   \n",
      "174  6o16  Q6NZL1  Q6NZL1_MOUSE   \n",
      "175  6so9  Q3UQS8   RBM20_MOUSE   \n",
      "\n",
      "                                              Sequence  \n",
      "0    MTVITYGKSTFAGNAKTRRHERRRKLAIERDTICNIIDSIFGCDAP...  \n",
      "1    MSQDENIVKAVEESAEPAQVILGEDGKPLSKKALKKLQKEQEKQRK...  \n",
      "2    MYTNSDFVVIKALEDGVNVIGLTRGADTRFHHSEKLDKGEVLIAQF...  \n",
      "3    MNPSAPSYPMASLYVGDLHPDVTEAMLYEKFSPAGPILSIRVCRDM...  \n",
      "4    MFTINAEVRKEQGKGASRRLRAANKFPAIIYGGKEAPLAIELDHDK...  \n",
      "..                                                 ...  \n",
      "171  MEPVDPRLEPWKHPGSQPKTACTNCYCKKCCFHCQVCFITKALGIS...  \n",
      "172  MEPVDPRLEPWKHPGSQPKTACTNCYCKKCCFHCQVCFITKALGIS...  \n",
      "173  MLYVSNLPVGTSSSAIHALFSAYGNVKDIWMLSPDNSAIVSYESLS...  \n",
      "174  MGKLRRRYNVKGRLQADPRPAKGPEAPPVRLELEGKDVLKGVDESN...  \n",
      "175  MVLAVAMSQDADPSGPEQPDRDACVMPGVQGPSVPQGQQGMQPLPP...  \n",
      "\n",
      "[176 rows x 4 columns]\n"
     ]
    }
   ],
   "source": [
    "print(df1)"
   ]
  },
  {
   "cell_type": "code",
   "execution_count": 86,
   "id": "8afb6109",
   "metadata": {},
   "outputs": [],
   "source": [
    "rna_seq=(df1[\"Sequence\"]).tolist()"
   ]
  },
  {
   "cell_type": "code",
   "execution_count": 87,
   "id": "4dc46dea",
   "metadata": {},
   "outputs": [],
   "source": [
    "rna_entry=(df1[\"Entry\"]).tolist()"
   ]
  },
  {
   "cell_type": "code",
   "execution_count": 88,
   "id": "9d2229a0",
   "metadata": {},
   "outputs": [],
   "source": [
    "rna_uniprot = []\n",
    "cntr=0\n",
    "for everyiden in rna_entry:\n",
    "    rna_uniprot.append(everyiden)\n",
    "    rna_uniprot.append(rna_seq[cntr])\n",
    "    cntr += 1"
   ]
  },
  {
   "cell_type": "code",
   "execution_count": 89,
   "id": "84660456",
   "metadata": {},
   "outputs": [
    {
     "name": "stdout",
     "output_type": "stream",
     "text": [
      "0\n"
     ]
    }
   ],
   "source": [
    "ctr=0\n",
    "for i in range(1,len(rna_uniprot)-1, 2):\n",
    "    for j in range(0,len(cgc_binding),1):\n",
    "        if rna_uniprot[i]==cgc_binding[j]:\n",
    "            print(\"Match\" + \"\\n\"+ rna_uniprot[i-1] + \"\\n\"+ rna_uniprot[i] + \"\\n\" + cgc_binding[j-1] + cgc_binding[j])\n",
    "            ctr+=1\n",
    "print(ctr)"
   ]
  },
  {
   "cell_type": "code",
   "execution_count": null,
   "id": "6d4e188b",
   "metadata": {},
   "outputs": [],
   "source": [
    "#Shows the compete sequence information did not have further matches between the RNA-binding proteins and the CGC file"
   ]
  },
  {
   "cell_type": "markdown",
   "id": "88bd9e89",
   "metadata": {},
   "source": [
    "# Repeat of Check and remove matches in Carbohydrate files against CGC and also by Uniprot id_mapping"
   ]
  },
  {
   "cell_type": "code",
   "execution_count": 90,
   "id": "c930adcb",
   "metadata": {},
   "outputs": [
    {
     "name": "stdout",
     "output_type": "stream",
     "text": [
      "Match\n",
      ">1FIT:A|PDBID|CHAIN|SEQUENCE\n",
      "MSFRFGQHLIKPSVVFLKTELSFALVNRKPVVPGHVLVCPLRPVERFHDLRPDEVADLFQTTQRVGTVVEKHFHGTSLTFSMQDGPEAGQTVKHVHVHVLPRKAGDFHRNDSIYEELQKHDKEDFPASWRSEEEMAAEAAALRVYFQ\n",
      "\n",
      ">FHIT_P49789\n",
      "MSFRFGQHLIKPSVVFLKTELSFALVNRKPVVPGHVLVCPLRPVERFHDLRPDEVADLFQTTQRVGTVVEKHFHGTSLTFSMQDGPEAGQTVKHVHVHVLPRKAGDFHRNDSIYEELQKHDKEDFPASWRSEEEMAAEAAALRVYFQ\n",
      "\n"
     ]
    }
   ],
   "source": [
    "#checking match\n",
    "ctr = 0\n",
    "for i in range(1,len(carb_binding)-1,2):\n",
    "    for j in range(1,len(cgc_binding)-1,2):\n",
    "        if (carb_binding[i])== (cgc_binding[j]):\n",
    "            print(\"Match\" + \"\\n\" + carb_binding[i-1] + carb_binding[i] + \"\\n\" + cgc_binding[j-1] + cgc_binding[j]) "
   ]
  },
  {
   "cell_type": "code",
   "execution_count": 91,
   "id": "5670fcb3",
   "metadata": {},
   "outputs": [],
   "source": [
    "#Getting the matches, no matches into a list; also a list for only unique identifiers\n",
    "carb_iden=[]\n",
    "carb_matches=[]\n",
    "carb_wo_match=[]\n",
    "for i in range(1,len(carb_binding)-1,2):\n",
    "    match=False\n",
    "    for j in range(1,len(cgc_binding)-1,2):\n",
    "        if (carb_binding[i])== (cgc_binding[j]):\n",
    "            carb_matches.append(carb_binding[i-1]+carb_binding[i])\n",
    "            carb_matches.append(cgc_binding[j-1]+cgc_binding[j])\n",
    "            match=True\n",
    "            #print(\"Match\" + \"\\n\" + dna_binding[i-1] + dna_binding[i] + \"\\n\" + cgc_binding[j-1] + cgc_binding[j])\n",
    "            \n",
    "    if match==False:\n",
    "        carb_wo_match.append(carb_binding[i-1]+carb_binding[i])\n",
    "        carb_iden.append(carb_binding[i-1])"
   ]
  },
  {
   "cell_type": "code",
   "execution_count": 92,
   "id": "7c052d81",
   "metadata": {},
   "outputs": [],
   "source": [
    "#writing the matches only data to a file\n",
    "f=open(r\"C:\\Users\\Senthil\\OneDrive\\DSM_projects\\IIT_M_internship\\original\\carb_match.txt\",\"w\")\n",
    "for i in carb_matches:\n",
    "    f.write(i)\n",
    "f.close()"
   ]
  },
  {
   "cell_type": "code",
   "execution_count": 93,
   "id": "40acb186",
   "metadata": {},
   "outputs": [],
   "source": [
    "#writing the no matches data to a file\n",
    "f=open(r\"C:\\Users\\Senthil\\OneDrive\\DSM_projects\\IIT_M_internship\\original\\carb_wo_match.txt\",\"w\")\n",
    "for i in carb_wo_match:\n",
    "    f.write(i)\n",
    "f.close()"
   ]
  },
  {
   "cell_type": "code",
   "execution_count": 94,
   "id": "0e04cb9e",
   "metadata": {},
   "outputs": [],
   "source": [
    "#Getting the carb identifiers\n",
    "carb=[]\n",
    "for i in carb_iden:\n",
    "    #f.write(i.replace(\">\",\"\")+\"\\n\")\n",
    "    arr_carb_iden=i.replace(\">\",\"\").split(\":\")\n",
    "    #arr_carb_iden=i.split(\":\")\n",
    "    carb.append(arr_carb_iden[0])"
   ]
  },
  {
   "cell_type": "code",
   "execution_count": 95,
   "id": "b24e0975",
   "metadata": {},
   "outputs": [],
   "source": [
    "f=open(r\"C:\\Users\\Senthil\\OneDrive\\DSM_projects\\IIT_M_internship\\original\\carb_iden.txt\",\"w\")\n",
    "for i in carb:\n",
    "    f.write(i + \"\\n\")\n",
    "f.close()"
   ]
  },
  {
   "cell_type": "code",
   "execution_count": 96,
   "id": "1a2c8822",
   "metadata": {},
   "outputs": [],
   "source": [
    "# Open the uniprot id_mapping output file\n",
    "carb_uniprot= open(r\"C:\\Users\\Senthil\\OneDrive\\DSM_projects\\IIT_M_internship\\original\\carb_uniprot_output.csv\",\"r\")\n",
    "carb_test=carb_uniprot.readlines()\n",
    "carb_uniprot.close()"
   ]
  },
  {
   "cell_type": "code",
   "execution_count": 97,
   "id": "7dc6ecfd",
   "metadata": {},
   "outputs": [
    {
     "data": {
      "text/plain": [
       "<_io.TextIOWrapper name='C:\\\\Users\\\\Senthil\\\\OneDrive\\\\DSM_projects\\\\IIT_M_internship\\\\original\\\\carb_uniprot_output.csv' mode='r' encoding='cp1252'>"
      ]
     },
     "execution_count": 97,
     "metadata": {},
     "output_type": "execute_result"
    }
   ],
   "source": [
    "carb_uniprot"
   ]
  },
  {
   "cell_type": "code",
   "execution_count": 100,
   "id": "0e47fda9",
   "metadata": {},
   "outputs": [],
   "source": [
    "df2=pd.read_csv('carb_uniprot_output.csv')"
   ]
  },
  {
   "cell_type": "code",
   "execution_count": 101,
   "id": "fafbee35",
   "metadata": {},
   "outputs": [
    {
     "name": "stdout",
     "output_type": "stream",
     "text": [
      "      From   Entry                                           Sequence\n",
      "0     1CB8  Q59288  MKKLFVTCIVFFSILSPALLIAQQTGTAELIMKRVMLDLKKPLRNM...\n",
      "1     4FMS  Q9I6P8  MSHPSHVRALCASLCLGAGLPVHAGHVHAGQGFLEDAKASLTARNF...\n",
      "2     4LSP  Q0ED31  MRVKETQMNWPNLWKWGTLILGLVIICSASDNLWVTVYYGVPVWKD...\n",
      "3     2VSM  Q9IH62  MPAENKKVRFENTTSDKGKIPSKVIKSYYGTMDIKKINEGLLDSKI...\n",
      "4     2VSM  P52799  MAVRRDSVWKYCWGVLMVLCRTAISKSIVLEPIYWNSSNSKFLPGQ...\n",
      "...    ...     ...                                                ...\n",
      "1264  4KV8  P04585  MGARASVLSGGELDRWEKIRLRPGGKKKYKLKHIVWASRELERFAV...\n",
      "1265  3ZJX  E7D8R1  MKKNLVKSLAIASAVISIYSIVNIVSPTNVIAKEISNTVSNEMSKK...\n",
      "1266  3OAD  P00797  MDGWRRMPRWGLLLLLWGSCTFGLPTDTTTFKRIFLKRMPSIRESL...\n",
      "1267  1HJS  P83692  ALTYRGVDWSSVVVEERAGVSYKNTNGNAQPLENILAANGVNTVRQ...\n",
      "1268  3N17  D0VV09  MLNKFKFFCCILVMFLLLPLSPFQAQAANNLGSKLLVGYWHNFDNG...\n",
      "\n",
      "[1269 rows x 3 columns]\n"
     ]
    }
   ],
   "source": [
    "print(df2)"
   ]
  },
  {
   "cell_type": "code",
   "execution_count": 102,
   "id": "e43377d1",
   "metadata": {},
   "outputs": [],
   "source": [
    "carb_seq=(df[\"Sequence\"]).tolist()"
   ]
  },
  {
   "cell_type": "code",
   "execution_count": 103,
   "id": "40bb5e36",
   "metadata": {},
   "outputs": [],
   "source": [
    "carb_entry=(df[\"Entry\"]).tolist()"
   ]
  },
  {
   "cell_type": "code",
   "execution_count": 104,
   "id": "9c7212ee",
   "metadata": {},
   "outputs": [],
   "source": [
    "#Make a list containing the carb identifiers and uniprot sequence\n",
    "carb_uniprot = []\n",
    "cntr=0\n",
    "for everyiden in carb_entry:\n",
    "    carb_uniprot.append(everyiden)\n",
    "    carb_uniprot.append(carb_seq[cntr])\n",
    "    cntr += 1"
   ]
  },
  {
   "cell_type": "code",
   "execution_count": 105,
   "id": "c0be4ce6",
   "metadata": {},
   "outputs": [
    {
     "name": "stdout",
     "output_type": "stream",
     "text": [
      "0\n"
     ]
    }
   ],
   "source": [
    "#Match the carb uniprot output sequence to the cgc sequence\n",
    "ctr=0\n",
    "for i in range(1,len(carb_uniprot)-1, 2):\n",
    "    for j in range(0,len(cgc_binding),1):\n",
    "        if carb_uniprot[i]==cgc_binding[j]:\n",
    "            print(\"Match\" + \"\\n\"+ carb_uniprot[i-1] + \"\\n\"+ carb_uniprot[i] + \"\\n\" + cgc_binding[j-1] + cgc_binding[j])\n",
    "            ctr+=1\n",
    "print(ctr)"
   ]
  },
  {
   "cell_type": "code",
   "execution_count": null,
   "id": "d6d45ef0",
   "metadata": {},
   "outputs": [],
   "source": [
    "#Shows the compete sequence information did not have further matches between the Carbohydrate-binding proteins and the CGC file"
   ]
  },
  {
   "cell_type": "markdown",
   "id": "c9fe4713",
   "metadata": {},
   "source": [
    "# Repeat of Check and remove matches in protein-heterodimer files against CGC and also by Uniprot id_mapping"
   ]
  },
  {
   "cell_type": "code",
   "execution_count": 107,
   "id": "949eeb82",
   "metadata": {},
   "outputs": [],
   "source": [
    "ctr = 0\n",
    "for i in range(1,len(prot_binding)-1,2):\n",
    "    for j in range(1,len(cgc_binding)-1,2):\n",
    "        if (prot_binding[i])== (cgc_binding[j]):\n",
    "            print(\"Match\" + \"\\n\" + prot_binding[i-1] + prot_binding[i] + \"\\n\" + cgc_binding[j-1] + cgc_binding[j]) "
   ]
  },
  {
   "cell_type": "code",
   "execution_count": 108,
   "id": "4b249013",
   "metadata": {},
   "outputs": [],
   "source": [
    "pro_uniprot= open(r\"C:\\Users\\Senthil\\Desktop\\NPTEL\\Internship\\Datasets_Mozim\\copy files\\heterodimers\\protein_heterodimer.csv\",\"r\")\n",
    "pro_test=pro_uniprot.readlines()\n",
    "pro_uniprot.close()"
   ]
  },
  {
   "cell_type": "code",
   "execution_count": 109,
   "id": "c3235135",
   "metadata": {},
   "outputs": [],
   "source": [
    "df3=pd.read_csv('protein_heterodimer.csv')"
   ]
  },
  {
   "cell_type": "code",
   "execution_count": 110,
   "id": "a4eee15e",
   "metadata": {},
   "outputs": [
    {
     "name": "stdout",
     "output_type": "stream",
     "text": [
      "     From   Entry                                           Sequence\n",
      "0    4QLP  O05442  MAPLAVDPAALDSAGGAVVAAGAGLGAVISSLTAALAGCAGMAGDD...\n",
      "1    4QLP  O05443  MTIGVDLSTDLQDWIRLSGMNMIQGSETNDGRTILWNKGGEVRYFI...\n",
      "2    1R0R  P00780  MMRKKSFWLGMLTAFMLVFTMAFSDSASAAQPAKNVEKDYIVGFKS...\n",
      "3    1R0R  P68390  VEVDCSRFPNTTNEEGKDVLVCTEDLRPICGTDGVTHSECLLCAYN...\n",
      "4    3F1P  P27540  MAATTANPEMTSDVPSLGPAIASGNSGPGIQGGGAIVQRAIKRRPG...\n",
      "..    ...     ...                                                ...\n",
      "642  2DJY  Q9HAU4  MSNPGGRRNGPVKLRLTVLCAKNLVKKDFFRLPDPFAKVVVDGSGQ...\n",
      "643  5JTQ  P0AEX9  MKIKTGARILALSALTTMMFSASALAKIEEGKLVIWINGDKGYNGL...\n",
      "644  5JTQ  P0AG86  MSEQNNTEMTFQIQRIYTKDISFEAPNAPHVFQKDWQPEVKLDLDT...\n",
      "645  5JTR  P0AEX9  MKIKTGARILALSALTTMMFSASALAKIEEGKLVIWINGDKGYNGL...\n",
      "646  5JTR  P0AG86  MSEQNNTEMTFQIQRIYTKDISFEAPNAPHVFQKDWQPEVKLDLDT...\n",
      "\n",
      "[647 rows x 3 columns]\n"
     ]
    }
   ],
   "source": [
    "print(df3)"
   ]
  },
  {
   "cell_type": "code",
   "execution_count": 111,
   "id": "2ce8ba22",
   "metadata": {},
   "outputs": [],
   "source": [
    "pro_seq=(df3[\"Sequence\"]).tolist()"
   ]
  },
  {
   "cell_type": "code",
   "execution_count": 112,
   "id": "fb3664e7",
   "metadata": {},
   "outputs": [],
   "source": [
    "pro_entry=(df3[\"Entry\"]).tolist()"
   ]
  },
  {
   "cell_type": "code",
   "execution_count": 113,
   "id": "6c9036b9",
   "metadata": {},
   "outputs": [],
   "source": [
    "pro_uniprot = []\n",
    "cntr=0\n",
    "for everyiden in pro_entry:\n",
    "    pro_uniprot.append(everyiden)\n",
    "    pro_uniprot.append(pro_seq[cntr])\n",
    "    cntr += 1"
   ]
  },
  {
   "cell_type": "code",
   "execution_count": 114,
   "id": "d8169141",
   "metadata": {},
   "outputs": [
    {
     "name": "stdout",
     "output_type": "stream",
     "text": [
      "0\n"
     ]
    }
   ],
   "source": [
    "ctr=0\n",
    "for i in range(1,len(pro_uniprot)-1, 2):\n",
    "    for j in range(0,len(cgc_binding),1):\n",
    "        if pro_uniprot[i]==cgc_binding[j]:\n",
    "            print(\"Match\" + \"\\n\"+ pro_uniprot[i-1] + \"\\n\"+ pro_uniprot[i] + \"\\n\" + cgc_binding[j-1] + cgc_binding[j])\n",
    "            ctr+=1\n",
    "print(ctr)"
   ]
  },
  {
   "cell_type": "code",
   "execution_count": null,
   "id": "e2e68a36",
   "metadata": {},
   "outputs": [],
   "source": [
    "#Shows the compete sequence information did not have further matches between the protein-binding proteins and the CGC file"
   ]
  }
 ],
 "metadata": {
  "kernelspec": {
   "display_name": "Python 3 (ipykernel)",
   "language": "python",
   "name": "python3"
  },
  "language_info": {
   "codemirror_mode": {
    "name": "ipython",
    "version": 3
   },
   "file_extension": ".py",
   "mimetype": "text/x-python",
   "name": "python",
   "nbconvert_exporter": "python",
   "pygments_lexer": "ipython3",
   "version": "3.9.7"
  }
 },
 "nbformat": 4,
 "nbformat_minor": 5
}
